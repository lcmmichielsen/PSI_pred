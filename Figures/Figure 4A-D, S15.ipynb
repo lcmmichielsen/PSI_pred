{
 "cells": [
  {
   "cell_type": "markdown",
   "id": "fa5f2c3e",
   "metadata": {},
   "source": [
    "### Analyze ISM for HPC glia\n",
    "\n",
    "We did the ISM for exons with deltaPSI > 0.1 between neurons and glia. These scores can be downloaded from Zenodo."
   ]
  },
  {
   "cell_type": "code",
   "execution_count": 1,
   "id": "db7b47d4",
   "metadata": {},
   "outputs": [],
   "source": [
    "import numpy as np\n",
    "import pandas as pd\n",
    "import h5py\n",
    "\n",
    "import seaborn as sns\n",
    "from matplotlib import pyplot as plt\n",
    "\n",
    "import matplotlib\n",
    "matplotlib.rcParams['pdf.fonttype'] = 42\n"
   ]
  },
  {
   "cell_type": "markdown",
   "id": "84535f15",
   "metadata": {},
   "source": [
    "First, we load the results of the ISM"
   ]
  },
  {
   "cell_type": "code",
   "execution_count": 2,
   "id": "3cbe7283",
   "metadata": {},
   "outputs": [],
   "source": [
    "datadir = '../../Zenodo/Human/HPC/DL_ISM/'\n",
    "\n",
    "genes = np.load(datadir+'/genes.npz')\n",
    "genes = np.array(genes['arr_0'], dtype='<U50')\n",
    "\n",
    "ism = np.load(datadir+'/ism.npz')\n",
    "ism = ism['arr_0']\n",
    "ism = np.asarray(ism, dtype=float)\n",
    "\n",
    "ref = np.load(datadir+'/ref.npz')\n",
    "ref = ref['arr_0']\n",
    "\n",
    "seq = np.load(datadir+'/seq.npz')\n",
    "seq = seq['arr_0']\n",
    "\n",
    "spl = np.load(datadir+'/splice.npz')\n",
    "spl = spl['arr_0']\n",
    "\n"
   ]
  },
  {
   "cell_type": "markdown",
   "id": "f2dfcfed",
   "metadata": {},
   "source": [
    "For Figure 4A, we look at the mean effect of the mutations. For that, we have to know where the exons start and end. The one-hot encoded input track for this is stored in 'spl'."
   ]
  },
  {
   "cell_type": "code",
   "execution_count": 3,
   "id": "f04dce68",
   "metadata": {},
   "outputs": [],
   "source": [
    "exon_str = np.where(spl)[1][::2]\n",
    "exon_end = np.where(spl)[1][1::2]"
   ]
  },
  {
   "cell_type": "markdown",
   "id": "53536502",
   "metadata": {},
   "source": [
    "The dimensions of ism is exons x nucleotides x positions. Here, we take the maximum score over the four nucleotides."
   ]
  },
  {
   "cell_type": "code",
   "execution_count": 4,
   "id": "eeac080e",
   "metadata": {},
   "outputs": [
    {
     "name": "stdout",
     "output_type": "stream",
     "text": [
      "(9929, 4, 6144)\n",
      "(9929, 6144)\n"
     ]
    }
   ],
   "source": [
    "ism_abs = np.max(np.abs(ism), axis=1)\n",
    "print(np.shape(ism))\n",
    "print(np.shape(ism_abs))"
   ]
  },
  {
   "cell_type": "markdown",
   "id": "4c26cd5d",
   "metadata": {},
   "source": [
    "Now, are loop over all the exons to calculate the average score before, within, and after the exon. Since all exons have different lengths, we bin these scores."
   ]
  },
  {
   "cell_type": "code",
   "execution_count": 5,
   "id": "ea566823",
   "metadata": {},
   "outputs": [],
   "source": [
    "bfr = np.zeros((3077,))\n",
    "aft = np.zeros((3077,))\n",
    "exn = np.zeros((1529,))\n",
    "\n",
    "for i in range(len(ism)):\n",
    "    bfr_i = np.flip(ism_abs[i,:exon_str[i]])\n",
    "    bins = np.linspace(0, len(bfr_i)-1, num=3077, dtype=int)\n",
    "    bfr += bfr_i[bins]/len(ism)\n",
    "    \n",
    "    aft_i = ism_abs[i, exon_end[i]:]\n",
    "    bins = np.linspace(0, len(aft_i)-1, num=3077, dtype=int)\n",
    "    aft += aft_i[bins]/len(ism)\n",
    "    \n",
    "    exn_i = ism_abs[i,exon_str[i]:exon_end[i]]\n",
    "    exn_len = exon_end[i] - exon_str[i]\n",
    "    bins = np.linspace(0,exn_len-1,num=1529, dtype=int)\n",
    "    exn += exn_i[bins]/len(ism)"
   ]
  },
  {
   "cell_type": "markdown",
   "id": "a0c1b889",
   "metadata": {},
   "source": [
    "Concatenate the results from before, exon, and after. We bin the exon to 300 bp now."
   ]
  },
  {
   "cell_type": "code",
   "execution_count": 6,
   "id": "8dd60609",
   "metadata": {},
   "outputs": [],
   "source": [
    "len_exon = 300\n",
    "y = np.concatenate((np.flip(bfr), exn, aft))\n",
    "x = np.concatenate((np.linspace(0,3076,num=3077), np.linspace(0,len_exon,num=1529)+3077, np.linspace(1,3077,num=3077)+3077+len_exon))"
   ]
  },
  {
   "cell_type": "markdown",
   "id": "b1c0e036",
   "metadata": {},
   "source": [
    "#### Figure 3A\n",
    "\n",
    "We add grey lines to the plot, so we know where to draw the exon using illustrator later on. "
   ]
  },
  {
   "cell_type": "code",
   "execution_count": 7,
   "id": "1e7d7edb",
   "metadata": {},
   "outputs": [
    {
     "data": {
      "image/png": "[encoded data removed]",
      "text/plain": [
       "<Figure size 216x144 with 1 Axes>"
      ]
     },
     "metadata": {
      "needs_background": "light"
     },
     "output_type": "display_data"
    },
    {
     "data": {
      "image/png": "[encoded data removed]",
      "text/plain": [
       "<Figure size 216x144 with 1 Axes>"
      ]
     },
     "metadata": {
      "needs_background": "light"
     },
     "output_type": "display_data"
    }
   ],
   "source": [
    "plt.figure(figsize=(3,2))\n",
    "sns.lineplot(x=x, y=y, color='#1B4E91')\n",
    "plt.axvline(3076-200, c='grey', alpha=0.4)\n",
    "plt.axvline(3076+len_exon+200, c='grey', alpha=0.4)\n",
    "plt.axvline(3076, c='grey', alpha=0.4)\n",
    "plt.axvline(3076+len_exon, c='grey', alpha=0.4)\n",
    "sns.despine()\n",
    "plt.ylabel('|delta PSI|')\n",
    "plt.show()\n",
    "\n",
    "plt.figure(figsize=(3,2))\n",
    "plt.axvline(3076, c='grey', alpha=0.4)\n",
    "plt.axvline(3076+len_exon, c='grey', alpha=0.4)\n",
    "sns.lineplot(x=x, y=y, color='#1B4E91')\n",
    "plt.xlim([3076-200,3076+len_exon+200])\n",
    "sns.despine()\n",
    "plt.ylabel('|delta PSI|')\n",
    "plt.show()"
   ]
  },
  {
   "cell_type": "markdown",
   "id": "a56a5aa6",
   "metadata": {},
   "source": [
    "#### Figure S15\n",
    "\n",
    "We will do the same, but now look at the maximum instead of the average"
   ]
  },
  {
   "cell_type": "code",
   "execution_count": 8,
   "id": "0f8dcf5c",
   "metadata": {},
   "outputs": [],
   "source": [
    "bfr_all = np.zeros((3077,len(ism)))\n",
    "aft_all = np.zeros((3077,len(ism)))\n",
    "exn_all = np.zeros((1529,len(ism)))\n",
    "\n",
    "for i in range(len(ism)):\n",
    "    bfr_i = np.flip(ism_abs[i,:exon_str[i]])\n",
    "    bins = np.linspace(0, len(bfr_i)-1, num=3077, dtype=int)\n",
    "    bfr_all[:,i] = bfr_i[bins]\n",
    "    \n",
    "    aft_i = ism_abs[i, exon_end[i]:]\n",
    "    bins = np.linspace(0, len(aft_i)-1, num=3077, dtype=int)\n",
    "    aft_all[:,i] = aft_i[bins]\n",
    "    \n",
    "    exn_i = ism_abs[i,exon_str[i]:exon_end[i]]\n",
    "    exn_len = exon_end[i] - exon_str[i]\n",
    "    bins = np.linspace(0,exn_len-1,num=1529, dtype=int)\n",
    "    exn_all[:,i] = exn_i[bins]"
   ]
  },
  {
   "cell_type": "code",
   "execution_count": 9,
   "id": "e30c7a6b",
   "metadata": {},
   "outputs": [],
   "source": [
    "len_exon = 300\n",
    "y_max = np.concatenate((np.flip(np.max(bfr_all, axis=1)), np.max(exn_all, axis=1), np.max(aft_all, axis=1)))\n",
    "x_max = np.concatenate((np.linspace(0,3076,num=3077), \n",
    "                        np.linspace(0,len_exon,num=1529)+3077, \n",
    "                        np.linspace(1,3077,num=3077)+3077+len_exon))"
   ]
  },
  {
   "cell_type": "code",
   "execution_count": 10,
   "id": "7949b58e",
   "metadata": {},
   "outputs": [
    {
     "data": {
      "image/png": "[encoded data removed]",
      "text/plain": [
       "<Figure size 216x144 with 1 Axes>"
      ]
     },
     "metadata": {
      "needs_background": "light"
     },
     "output_type": "display_data"
    },
    {
     "data": {
      "image/png": "[encoded data removed]",
      "text/plain": [
       "<Figure size 216x144 with 1 Axes>"
      ]
     },
     "metadata": {
      "needs_background": "light"
     },
     "output_type": "display_data"
    }
   ],
   "source": [
    "plt.figure(figsize=(3,2))\n",
    "sns.lineplot(x=x_max, y=y_max, color='#1B4E91')\n",
    "plt.axvline(3076, c='grey', alpha=0.4)\n",
    "plt.axvline(3076+len_exon, c='grey', alpha=0.4)\n",
    "sns.despine()\n",
    "plt.ylabel('max(abs(ISM score))')\n",
    "plt.show()\n",
    "\n",
    "plt.figure(figsize=(3,2))\n",
    "plt.axvline(3076, c='grey', alpha=0.4)\n",
    "plt.axvline(3076+len_exon, c='grey', alpha=0.4)\n",
    "sns.lineplot(x=x_max, y=y_max, color='#1B4E91')\n",
    "plt.xlim([3076-200,3076+len_exon+200])\n",
    "sns.despine()\n",
    "plt.ylabel('max(abs(ISM score))')\n",
    "plt.show()"
   ]
  },
  {
   "cell_type": "markdown",
   "id": "2f746b9e",
   "metadata": {},
   "source": [
    "### Plotting ISM binding scores per exon\n",
    "\n",
    "Besides summarizing the results, we can also plot the ISM scores per exon. Here, we show two examples for Figure 4B and D, but this can be applied to any exon"
   ]
  },
  {
   "cell_type": "markdown",
   "id": "78bd0268",
   "metadata": {},
   "source": [
    "#### Figure 4B"
   ]
  },
  {
   "cell_type": "code",
   "execution_count": 13,
   "id": "25440bf8",
   "metadata": {},
   "outputs": [
    {
     "data": {
      "image/png": "[encoded data removed]",
      "text/plain": [
       "<Figure size 504x144 with 1 Axes>"
      ]
     },
     "metadata": {
      "needs_background": "light"
     },
     "output_type": "display_data"
    }
   ],
   "source": [
    "plt.figure(figsize=(7,2))\n",
    "\n",
    "i = np.where(genes == 'chr20_21357736_21357792_ENSG00000088930_+')[0][0]\n",
    "\n",
    "sns.lineplot(x=np.linspace(21354692,21360835,num=6144, dtype=int),\n",
    "                y=ism_abs[i], color='#1B4E91', linewidth=0.5)\n",
    "\n",
    "# We found these coordinates in the GTF file\n",
    "# Exon of interest\n",
    "plt.axvline(21357736, c='grey', alpha=0.4)\n",
    "plt.axvline(21357792, c='grey', alpha=0.4)\n",
    "\n",
    "# Neighbor 1\n",
    "plt.axvline(21354789, c='grey', alpha=0.4)\n",
    "plt.axvline(21354872, c='grey', alpha=0.4)\n",
    "\n",
    "# Neighbor 2\n",
    "plt.axvline(21356080, c='grey', alpha=0.4)\n",
    "plt.axvline(21356177, c='grey', alpha=0.4)\n",
    "\n",
    "# Neighbor 3\n",
    "plt.axvline(21356586, c='grey', alpha=0.4)\n",
    "plt.axvline(21356665, c='grey', alpha=0.4)\n",
    "\n",
    "plt.title('XRN2')\n",
    "sns.despine()\n",
    "plt.xlim([21354692,21360835])\n",
    "plt.show()\n"
   ]
  },
  {
   "cell_type": "markdown",
   "id": "6b7282e0",
   "metadata": {},
   "source": [
    "#### Figure 4D"
   ]
  },
  {
   "cell_type": "code",
   "execution_count": 14,
   "id": "cf814af1",
   "metadata": {},
   "outputs": [
    {
     "data": {
      "image/png": "[encoded data removed]",
      "text/plain": [
       "<Figure size 504x144 with 1 Axes>"
      ]
     },
     "metadata": {
      "needs_background": "light"
     },
     "output_type": "display_data"
    }
   ],
   "source": [
    "plt.figure(figsize=(7,2))\n",
    "\n",
    "i = 124\n",
    "\n",
    "sns.lineplot(x=np.linspace(75143,81286,num=6144, dtype=int),\n",
    "                y=ism_abs[i], color='#1B4E91', linewidth=0.5)\n",
    "\n",
    "## These lines indicate other exons found in the GTF file\n",
    "plt.axvline(78189, c='grey', alpha=0.4)\n",
    "plt.axvline(78237, c='grey', alpha=0.4)\n",
    "plt.axvline(76918, c='grey', alpha=0.4)\n",
    "plt.axvline(77035, c='grey', alpha=0.4)\n",
    "plt.axvline(77239, c='grey', alpha=0.4)\n",
    "plt.axvline(77364, c='grey', alpha=0.4)\n",
    "plt.axvline(78772, c='grey', alpha=0.4)\n",
    "plt.axvline(78835, c='grey', alpha=0.4)\n",
    "plt.axvline(80151, c='grey', alpha=0.4)\n",
    "plt.axvline(80195, c='grey', alpha=0.4)\n",
    "plt.title('TPCN1')\n",
    "sns.despine()\n",
    "plt.xlim([75103,81326])\n",
    "plt.show()\n"
   ]
  },
  {
   "cell_type": "markdown",
   "id": "af7237da",
   "metadata": {},
   "source": [
    "Zoom and visualize sequence + effect mutations"
   ]
  },
  {
   "cell_type": "code",
   "execution_count": 15,
   "id": "d7fab898",
   "metadata": {},
   "outputs": [
    {
     "data": {
      "image/png": "[encoded data removed]",
      "text/plain": [
       "<Figure size 504x50.4 with 1 Axes>"
      ]
     },
     "metadata": {
      "needs_background": "light"
     },
     "output_type": "display_data"
    }
   ],
   "source": [
    "import logomaker\n",
    "\n",
    "i = 124\n",
    "begin = 3046-10\n",
    "end = 3095+10\n",
    "\n",
    "fig = plt.figure(figsize=(7,0.7))\n",
    "ax = fig.add_subplot(111) \n",
    "\n",
    "df = pd.DataFrame(np.multiply(ism[i][:,begin:end], seq[i][:,begin:end]), index=['A', 'C', 'G', 'T']).T\n",
    "df.index.name = 'pos'\n",
    "\n",
    "crp_logo = logomaker.Logo(df, ax=ax)\n",
    "sns.despine()\n",
    "plt.show()"
   ]
  },
  {
   "cell_type": "code",
   "execution_count": 28,
   "id": "c6049a2e",
   "metadata": {},
   "outputs": [
    {
     "data": {
      "image/png": "[encoded data removed]",
      "text/plain": [
       "<Figure size 504x50.4 with 2 Axes>"
      ]
     },
     "metadata": {
      "needs_background": "light"
     },
     "output_type": "display_data"
    }
   ],
   "source": [
    "plt.figure(figsize=(7,0.7))\n",
    "sns.heatmap(ism[i][:,begin:end], cmap='vlag', center=0,\n",
    "           vmin=-0.14, vmax=0.14, \n",
    "            cbar_kws=dict(orientation='horizontal'))\n",
    "plt.yticks([0.4,1.4,2.4,3.4], ['A','C','G','T'], rotation=0)\n",
    "plt.xticks([])\n",
    "plt.show()"
   ]
  }
 ],
 "metadata": {
  "kernelspec": {
   "display_name": "Python 3 (ipykernel)",
   "language": "python",
   "name": "python3"
  },
  "language_info": {
   "codemirror_mode": {
    "name": "ipython",
    "version": 3
   },
   "file_extension": ".py",
   "mimetype": "text/x-python",
   "name": "python",
   "nbconvert_exporter": "python",
   "pygments_lexer": "ipython3",
   "version": "3.8.3"
  }
 },
 "nbformat": 4,
 "nbformat_minor": 5
}

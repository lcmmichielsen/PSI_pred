{
 "cells": [
  {
   "cell_type": "markdown",
   "id": "6fd8a1e8",
   "metadata": {},
   "source": [
    "### Interpretation of the LR models\n",
    "\n",
    "Here, we compare the coefficients learned by the different linear regression models.\n",
    "\n",
    "These coefficients can be downloaded from Zenodo."
   ]
  },
  {
   "cell_type": "code",
   "execution_count": 1,
   "id": "b76aae10",
   "metadata": {},
   "outputs": [],
   "source": [
    "import pandas as pd\n",
    "import numpy as np\n",
    "\n",
    "import seaborn as sns\n",
    "from matplotlib import pyplot as plt\n",
    "\n",
    "import matplotlib\n",
    "matplotlib.rcParams['pdf.fonttype'] = 42"
   ]
  },
  {
   "cell_type": "markdown",
   "id": "33324f65",
   "metadata": {},
   "source": [
    "### Read and filter weights"
   ]
  },
  {
   "cell_type": "code",
   "execution_count": 2,
   "id": "a2911add",
   "metadata": {},
   "outputs": [],
   "source": [
    "h_glia_all = pd.read_csv('../../Zenodo/Human/HPC/LR_weights/LR_all_glia.csv', index_col=0)\n",
    "h_neur_all = pd.read_csv('../../Zenodo/Human/HPC/LR_weights/LR_all_neur.csv', index_col=0)\n",
    "\n",
    "h_glia_var = pd.read_csv('../../Zenodo/Human/HPC/LR_weights/LR_var01_glia.csv', index_col=0)\n",
    "h_neur_var = pd.read_csv('../../Zenodo/Human/HPC/LR_weights/LR_var01_neur.csv', index_col=0)"
   ]
  },
  {
   "cell_type": "code",
   "execution_count": 4,
   "id": "e6f73dbe",
   "metadata": {},
   "outputs": [
    {
     "data": {
      "text/html": [
       "<div>\n",
       "<style scoped>\n",
       "    .dataframe tbody tr th:only-of-type {\n",
       "        vertical-align: middle;\n",
       "    }\n",
       "\n",
       "    .dataframe tbody tr th {\n",
       "        vertical-align: top;\n",
       "    }\n",
       "\n",
       "    .dataframe thead th {\n",
       "        text-align: right;\n",
       "    }\n",
       "</style>\n",
       "<table border=\"1\" class=\"dataframe\">\n",
       "  <thead>\n",
       "    <tr style=\"text-align: right;\">\n",
       "      <th></th>\n",
       "      <th>HPC - glia (all)</th>\n",
       "      <th>HPC - neur (all)</th>\n",
       "      <th>HPC - glia (var)</th>\n",
       "      <th>HPC - neur (var)</th>\n",
       "    </tr>\n",
       "  </thead>\n",
       "  <tbody>\n",
       "    <tr>\n",
       "      <th>AATF_start</th>\n",
       "      <td>0.001789</td>\n",
       "      <td>0.002657</td>\n",
       "      <td>-0.028788</td>\n",
       "      <td>-0.015118</td>\n",
       "    </tr>\n",
       "    <tr>\n",
       "      <th>ABCF1_start</th>\n",
       "      <td>-0.008563</td>\n",
       "      <td>-0.001489</td>\n",
       "      <td>-0.058113</td>\n",
       "      <td>0.005881</td>\n",
       "    </tr>\n",
       "    <tr>\n",
       "      <th>AKAP1_start</th>\n",
       "      <td>0.014131</td>\n",
       "      <td>0.022668</td>\n",
       "      <td>-0.001819</td>\n",
       "      <td>0.004053</td>\n",
       "    </tr>\n",
       "    <tr>\n",
       "      <th>APOBEC3C_start</th>\n",
       "      <td>0.000020</td>\n",
       "      <td>0.000248</td>\n",
       "      <td>-0.003887</td>\n",
       "      <td>-0.027109</td>\n",
       "    </tr>\n",
       "    <tr>\n",
       "      <th>AQR_start</th>\n",
       "      <td>-0.010190</td>\n",
       "      <td>-0.012180</td>\n",
       "      <td>-0.005953</td>\n",
       "      <td>-0.018397</td>\n",
       "    </tr>\n",
       "  </tbody>\n",
       "</table>\n",
       "</div>"
      ],
      "text/plain": [
       "                HPC - glia (all)  HPC - neur (all)  HPC - glia (var)  \\\n",
       "AATF_start              0.001789          0.002657         -0.028788   \n",
       "ABCF1_start            -0.008563         -0.001489         -0.058113   \n",
       "AKAP1_start             0.014131          0.022668         -0.001819   \n",
       "APOBEC3C_start          0.000020          0.000248         -0.003887   \n",
       "AQR_start              -0.010190         -0.012180         -0.005953   \n",
       "\n",
       "                HPC - neur (var)  \n",
       "AATF_start             -0.015118  \n",
       "ABCF1_start             0.005881  \n",
       "AKAP1_start             0.004053  \n",
       "APOBEC3C_start         -0.027109  \n",
       "AQR_start              -0.018397  "
      ]
     },
     "execution_count": 4,
     "metadata": {},
     "output_type": "execute_result"
    }
   ],
   "source": [
    "w = pd.concat((h_glia_all, h_neur_all, h_glia_var, h_neur_var), axis=1)\n",
    "w.columns = ['HPC - glia (all)', 'HPC - neur (all)', 'HPC - glia (var)', 'HPC - neur (var)']\n",
    "w.iloc[:5]"
   ]
  },
  {
   "cell_type": "markdown",
   "id": "19a1de3c",
   "metadata": {},
   "source": [
    "Read the RBP counts, so we can use this to filter the RBPs. We will only keep RBPs with at least 50 binding sites. If there are few binding sites, the coefficient of the RBP might not be estimated with enough confidence."
   ]
  },
  {
   "cell_type": "code",
   "execution_count": 5,
   "id": "0b2ff6b4",
   "metadata": {},
   "outputs": [],
   "source": [
    "# HPC\n",
    "PSI_glia = pd.read_csv('../../Zenodo/Human/HPC/PSI/PSI_glia_norm.csv', index_col=0)\n",
    "PSI_neur = pd.read_csv('../../Zenodo/Human/HPC/PSI/PSI_neur_norm.csv', index_col=0)\n",
    "\n",
    "# Check which exons are variable\n",
    "exons_all = PSI_glia['0'].notna() & PSI_neur['0'].notna()\n",
    "exons_var01 = PSI_glia.index[(np.abs(PSI_glia['0'] - PSI_neur['0']) > 0.1)]\n",
    "\n",
    "RBP = pd.read_csv('../../Zenodo/Human/HPC/RBP/RBP_peaks.csv', index_col=0)\n",
    "RBP_hpc_var01 = np.sum(RBP.loc[exons_var01] > 0)\n",
    "RBP_hpc_all = np.sum(RBP.loc[exons_all] > 0)"
   ]
  },
  {
   "cell_type": "code",
   "execution_count": 6,
   "id": "e412f6a0",
   "metadata": {},
   "outputs": [
    {
     "data": {
      "text/html": [
       "<div>\n",
       "<style scoped>\n",
       "    .dataframe tbody tr th:only-of-type {\n",
       "        vertical-align: middle;\n",
       "    }\n",
       "\n",
       "    .dataframe tbody tr th {\n",
       "        vertical-align: top;\n",
       "    }\n",
       "\n",
       "    .dataframe thead th {\n",
       "        text-align: right;\n",
       "    }\n",
       "</style>\n",
       "<table border=\"1\" class=\"dataframe\">\n",
       "  <thead>\n",
       "    <tr style=\"text-align: right;\">\n",
       "      <th></th>\n",
       "      <th>HPC (all)</th>\n",
       "      <th>HPC (var)</th>\n",
       "    </tr>\n",
       "  </thead>\n",
       "  <tbody>\n",
       "    <tr>\n",
       "      <th>AATF_start</th>\n",
       "      <td>1545</td>\n",
       "      <td>381</td>\n",
       "    </tr>\n",
       "    <tr>\n",
       "      <th>ABCF1_start</th>\n",
       "      <td>1043</td>\n",
       "      <td>260</td>\n",
       "    </tr>\n",
       "    <tr>\n",
       "      <th>AKAP1_start</th>\n",
       "      <td>3071</td>\n",
       "      <td>766</td>\n",
       "    </tr>\n",
       "    <tr>\n",
       "      <th>APOBEC3C_start</th>\n",
       "      <td>2358</td>\n",
       "      <td>528</td>\n",
       "    </tr>\n",
       "    <tr>\n",
       "      <th>AQR_start</th>\n",
       "      <td>11642</td>\n",
       "      <td>2759</td>\n",
       "    </tr>\n",
       "  </tbody>\n",
       "</table>\n",
       "</div>"
      ],
      "text/plain": [
       "                HPC (all)  HPC (var)\n",
       "AATF_start           1545        381\n",
       "ABCF1_start          1043        260\n",
       "AKAP1_start          3071        766\n",
       "APOBEC3C_start       2358        528\n",
       "AQR_start           11642       2759"
      ]
     },
     "execution_count": 6,
     "metadata": {},
     "output_type": "execute_result"
    }
   ],
   "source": [
    "RBP_counts = pd.concat((RBP_hpc_all, RBP_hpc_var01), axis=1)\n",
    "RBP_counts.columns = ['HPC (all)', 'HPC (var)']\n",
    "RBP_counts.iloc[:5]"
   ]
  },
  {
   "cell_type": "code",
   "execution_count": 7,
   "id": "934cd08f",
   "metadata": {},
   "outputs": [
    {
     "name": "stdout",
     "output_type": "stream",
     "text": [
      "(732, 4)\n",
      "(618, 4)\n",
      "(191, 4)\n"
     ]
    }
   ],
   "source": [
    "print(np.shape(w))\n",
    "\n",
    "# There should be enough binding sites to estimate a coefficient \n",
    "w_filt = w[np.min(RBP_counts.iloc[:,:4], axis=1) >= 50] \n",
    "print(np.shape(w_filt))\n",
    "\n",
    "# There should be at least one model where a feature has a bit a high value, otherwise it's not interesting in the heatmap\n",
    "w_filt2 = w_filt[np.max(np.abs(w_filt), axis=1) > 0.05]\n",
    "print(np.shape(w_filt2))"
   ]
  },
  {
   "cell_type": "markdown",
   "id": "7a464dce",
   "metadata": {},
   "source": [
    "#### Figure 3A"
   ]
  },
  {
   "cell_type": "code",
   "execution_count": 18,
   "id": "92b63326",
   "metadata": {},
   "outputs": [
    {
     "data": {
      "image/png": "[encoded data removed]",
      "text/plain": [
       "<Figure size 648x108 with 4 Axes>"
      ]
     },
     "metadata": {
      "needs_background": "light"
     },
     "output_type": "display_data"
    }
   ],
   "source": [
    "sns.clustermap(w_filt2.T, figsize=(9,1.5), dendrogram_ratio=[0.02,.3],\n",
    "              cmap='vlag', method='complete',\n",
    "               center=0, \n",
    "               vmin=-0.2, vmax=0.2,\n",
    "               cbar_pos=(0.85, 0.9, 0.1, 0.1), \n",
    "                   cbar_kws=dict(orientation='horizontal'),\n",
    "              xticklabels=False)\n",
    "plt.savefig('../../Evaluate models/Figures/Heatmap.pdf', bbox_inches='tight')\n",
    "plt.show()"
   ]
  },
  {
   "cell_type": "markdown",
   "id": "010b1e2c",
   "metadata": {},
   "source": [
    "#### Figure 3B - hnRNP"
   ]
  },
  {
   "cell_type": "code",
   "execution_count": 35,
   "id": "1d167c04",
   "metadata": {},
   "outputs": [
    {
     "data": {
      "image/png": "[encoded data removed]",
      "text/plain": [
       "<Figure size 648x216 with 4 Axes>"
      ]
     },
     "metadata": {
      "needs_background": "light"
     },
     "output_type": "display_data"
    }
   ],
   "source": [
    "w_filt_genes = pd.DataFrame(w_filt.index)[0].str.split('_', n=1, expand=True)\n",
    "\n",
    "hnrnp = ['HNRNPA1', 'HNRNPC', 'HNRNPL', 'HNRNPM', 'HNRNPU', 'HNRNPUL1',\n",
    "       'PCBP1','PCBP2', 'PTBP1']\n",
    "\n",
    "sns.clustermap(w_filt.iloc[np.isin(w_filt_genes[0], hnrnp)].T, figsize=(9,3), dendrogram_ratio=[0.02,.3],\n",
    "              cmap='vlag', method='complete',\n",
    "               center=0, \n",
    "               cbar_pos=(0.9, 0.9, 0.0, 0.), \n",
    "               vmin=-0.2, vmax=0.2, cbar=False,\n",
    "              xticklabels=['HNRNPA1 - upstream', 'HNRNPC - upstream', \n",
    "                           'HNRNPL - upstream', 'HNRNPM - upstream',\n",
    "                           'HNRNPU - upstream', 'HNRNPUL1 - upstream', \n",
    "                           'PCBP1 - upstream', 'PCBP2 - upstream',\n",
    "                           'PTBP1 - upstream', \"HNRNPA1 - 3' SS\", \n",
    "                           \"HNRNPC - 3' SS\",\n",
    "                           \"HNRNPL - 3' SS\", \n",
    "                           \"HNRNPM - 3' SS\", \n",
    "                           \"HNRNPU - 3' SS\",\n",
    "                           \"HNRNPUL1 - 3' SS\", \n",
    "                           \"PCBP1 - 3' SS\", \n",
    "                           \"PCBP2 - 3' SS\",\n",
    "                           \"PTBP1 - 3' SS\", 'HNRNPA1 - exon', \n",
    "                           'HNRNPC - exon', 'HNRNPL - exon',\n",
    "                           'HNRNPM - exon', 'HNRNPU - exon', \n",
    "                           'HNRNPUL1 - exon', 'PCBP1 - exon',\n",
    "                           'PCBP2 - exon', 'PTBP1 - exon', 'HNRNPA1 - downstream',\n",
    "                           'HNRNPC - downstream', 'HNRNPL - downstream',\n",
    "                           'HNRNPM - downstream', 'HNRNPU - downstream', 'HNRNPUL1 - downstream',\n",
    "                           'PCBP1 - downstream', 'PCBP2 - downstream',\n",
    "                           'PTBP1 - downstream', \"HNRNPA1 - 5' SS\", \n",
    "                           \"HNRNPC - 5' SS\",\n",
    "                           \"HNRNPL - 5' SS\", \"HNRNPM - 5' SS\",\n",
    "                           \"HNRNPU - 5' SS\", \"HNRNPUL1 - 5' SS\", \n",
    "                           \"PCBP1 - 5' SS\", \"PCBP2 - 5' SS\",\n",
    "                           \"PTBP1 - 5' SS\"]\n",
    "              )\n",
    "plt.savefig('../../Evaluate models/Figures/Heatmap_HNRNP.pdf', bbox_inches='tight')\n",
    "plt.show()"
   ]
  },
  {
   "cell_type": "markdown",
   "id": "7c50cc08",
   "metadata": {},
   "source": [
    "#### Figure 3C - cell type specific RBPs"
   ]
  },
  {
   "cell_type": "code",
   "execution_count": 10,
   "id": "9ceb3137",
   "metadata": {},
   "outputs": [
    {
     "data": {
      "text/html": [
       "<div>\n",
       "<style scoped>\n",
       "    .dataframe tbody tr th:only-of-type {\n",
       "        vertical-align: middle;\n",
       "    }\n",
       "\n",
       "    .dataframe tbody tr th {\n",
       "        vertical-align: top;\n",
       "    }\n",
       "\n",
       "    .dataframe thead th {\n",
       "        text-align: right;\n",
       "    }\n",
       "</style>\n",
       "<table border=\"1\" class=\"dataframe\">\n",
       "  <thead>\n",
       "    <tr style=\"text-align: right;\">\n",
       "      <th></th>\n",
       "      <th>HPC - glia (all)</th>\n",
       "      <th>HPC - neur (all)</th>\n",
       "      <th>HPC - glia (var)</th>\n",
       "      <th>HPC - neur (var)</th>\n",
       "    </tr>\n",
       "  </thead>\n",
       "  <tbody>\n",
       "    <tr>\n",
       "      <th>QKI_start_overlap</th>\n",
       "      <td>-0.098697</td>\n",
       "      <td>-0.004609</td>\n",
       "      <td>-0.154732</td>\n",
       "      <td>0.121338</td>\n",
       "    </tr>\n",
       "    <tr>\n",
       "      <th>MATR3_start_overlap</th>\n",
       "      <td>-0.156540</td>\n",
       "      <td>-0.024425</td>\n",
       "      <td>-0.190873</td>\n",
       "      <td>-0.000462</td>\n",
       "    </tr>\n",
       "    <tr>\n",
       "      <th>U2AF2_exon_complete</th>\n",
       "      <td>-0.003861</td>\n",
       "      <td>0.010134</td>\n",
       "      <td>-0.071185</td>\n",
       "      <td>0.069887</td>\n",
       "    </tr>\n",
       "    <tr>\n",
       "      <th>PTBP1_start_overlap</th>\n",
       "      <td>-0.032418</td>\n",
       "      <td>0.001286</td>\n",
       "      <td>-0.048690</td>\n",
       "      <td>0.088437</td>\n",
       "    </tr>\n",
       "    <tr>\n",
       "      <th>SSB_end_overlap</th>\n",
       "      <td>0.001870</td>\n",
       "      <td>0.007953</td>\n",
       "      <td>0.002986</td>\n",
       "      <td>0.112833</td>\n",
       "    </tr>\n",
       "    <tr>\n",
       "      <th>QKI_end</th>\n",
       "      <td>0.002426</td>\n",
       "      <td>-0.037638</td>\n",
       "      <td>-0.006597</td>\n",
       "      <td>-0.113609</td>\n",
       "    </tr>\n",
       "    <tr>\n",
       "      <th>ZNF622_exon_complete</th>\n",
       "      <td>0.000597</td>\n",
       "      <td>-0.000077</td>\n",
       "      <td>-0.006748</td>\n",
       "      <td>-0.113012</td>\n",
       "    </tr>\n",
       "    <tr>\n",
       "      <th>STAU2_start_overlap</th>\n",
       "      <td>-0.126207</td>\n",
       "      <td>-0.085894</td>\n",
       "      <td>-0.115437</td>\n",
       "      <td>-0.011643</td>\n",
       "    </tr>\n",
       "    <tr>\n",
       "      <th>IGF2BP1_end_overlap</th>\n",
       "      <td>0.162657</td>\n",
       "      <td>0.124775</td>\n",
       "      <td>0.166455</td>\n",
       "      <td>0.067298</td>\n",
       "    </tr>\n",
       "    <tr>\n",
       "      <th>EWSR1_start</th>\n",
       "      <td>0.058579</td>\n",
       "      <td>0.097100</td>\n",
       "      <td>0.021596</td>\n",
       "      <td>0.117653</td>\n",
       "    </tr>\n",
       "  </tbody>\n",
       "</table>\n",
       "</div>"
      ],
      "text/plain": [
       "                      HPC - glia (all)  HPC - neur (all)  HPC - glia (var)  \\\n",
       "QKI_start_overlap            -0.098697         -0.004609         -0.154732   \n",
       "MATR3_start_overlap          -0.156540         -0.024425         -0.190873   \n",
       "U2AF2_exon_complete          -0.003861          0.010134         -0.071185   \n",
       "PTBP1_start_overlap          -0.032418          0.001286         -0.048690   \n",
       "SSB_end_overlap               0.001870          0.007953          0.002986   \n",
       "QKI_end                       0.002426         -0.037638         -0.006597   \n",
       "ZNF622_exon_complete          0.000597         -0.000077         -0.006748   \n",
       "STAU2_start_overlap          -0.126207         -0.085894         -0.115437   \n",
       "IGF2BP1_end_overlap           0.162657          0.124775          0.166455   \n",
       "EWSR1_start                   0.058579          0.097100          0.021596   \n",
       "\n",
       "                      HPC - neur (var)  \n",
       "QKI_start_overlap             0.121338  \n",
       "MATR3_start_overlap          -0.000462  \n",
       "U2AF2_exon_complete           0.069887  \n",
       "PTBP1_start_overlap           0.088437  \n",
       "SSB_end_overlap               0.112833  \n",
       "QKI_end                      -0.113609  \n",
       "ZNF622_exon_complete         -0.113012  \n",
       "STAU2_start_overlap          -0.011643  \n",
       "IGF2BP1_end_overlap           0.067298  \n",
       "EWSR1_start                   0.117653  "
      ]
     },
     "execution_count": 10,
     "metadata": {},
     "output_type": "execute_result"
    }
   ],
   "source": [
    "# Find top 10 with biggest different between neur and glia HPC var\n",
    "ct_specific = np.abs(w_filt['HPC - neur (var)'] - w_filt['HPC - glia (var)']).sort_values(ascending=False)[:10].index\n",
    "w_filt.loc[ct_specific]"
   ]
  },
  {
   "cell_type": "code",
   "execution_count": 38,
   "id": "75182065",
   "metadata": {},
   "outputs": [
    {
     "data": {
      "image/png": "[encoded data removed]",
      "text/plain": [
       "<Figure size 180x108 with 1 Axes>"
      ]
     },
     "metadata": {
      "needs_background": "light"
     },
     "output_type": "display_data"
    }
   ],
   "source": [
    "plt.figure(figsize=[2.5,1.5])\n",
    "sns.heatmap(\n",
    "    w_filt.loc[ct_specific].T, \n",
    "              cmap='vlag', \n",
    "               center=0, \n",
    "               vmin=-0.2, vmax=0.2, cbar=False,\n",
    "              xticklabels=[\"QKI - 3' SS\", \"MATR3 - 3' SS\", \n",
    "                           'U2AF2 - complete exon', \"PTBP1 3' SS\",\n",
    "                           \"SSB - 5' SS\", 'QKI - downstream',\n",
    "                           'ZNF622 - complete exon', \"STAU2 - 3' SS\", \n",
    "                           \"IGF2BP1 5' SS\", 'EWSR1 - upstream']\n",
    "              )\n",
    "plt.savefig('../../Evaluate models/Figures/Heatmap_ctspecific.pdf', bbox_inches='tight')\n",
    "plt.show()"
   ]
  },
  {
   "cell_type": "code",
   "execution_count": null,
   "id": "a6a4caeb",
   "metadata": {},
   "outputs": [],
   "source": []
  }
 ],
 "metadata": {
  "kernelspec": {
   "display_name": "Python 3 (ipykernel)",
   "language": "python",
   "name": "python3"
  },
  "language_info": {
   "codemirror_mode": {
    "name": "ipython",
    "version": 3
   },
   "file_extension": ".py",
   "mimetype": "text/x-python",
   "name": "python",
   "nbconvert_exporter": "python",
   "pygments_lexer": "ipython3",
   "version": "3.8.3"
  }
 },
 "nbformat": 4,
 "nbformat_minor": 5
}

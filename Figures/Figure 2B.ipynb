{
 "cells": [
  {
   "cell_type": "markdown",
   "id": "89c09c2f",
   "metadata": {},
   "source": [
    "### Differences between RBP binding plots\n",
    "\n",
    "Figure 2B. \n",
    "\n",
    "The RBP coordinates and PSI values can be downloaded from Zenodo. Here, we show how to calculate the MSE as explained in Figure 2A. \n",
    "\n",
    "The MSE can also be downloaded from Zenodo directly to plot Figure 2B. "
   ]
  },
  {
   "cell_type": "code",
   "execution_count": 1,
   "id": "848b5ee5",
   "metadata": {},
   "outputs": [],
   "source": [
    "import pickle\n",
    "import copy as cp\n",
    "import numpy as np\n",
    "import pandas as pd\n",
    "from tqdm.notebook import tqdm\n",
    "from scipy.stats import pearsonr\n",
    "\n",
    "import seaborn as sns\n",
    "from matplotlib import pyplot as plt\n",
    "from sklearn.metrics import mean_squared_error as mse\n",
    "\n",
    "import matplotlib\n",
    "matplotlib.rcParams['pdf.fonttype'] = 42\n",
    "\n",
    "from mse_peaks import mse_peaks"
   ]
  },
  {
   "cell_type": "markdown",
   "id": "0192bcd6",
   "metadata": {},
   "source": [
    "### Calculate MSE between RBP profiles"
   ]
  },
  {
   "cell_type": "markdown",
   "id": "afa28d06",
   "metadata": {},
   "source": [
    "#### Hippocampus"
   ]
  },
  {
   "cell_type": "markdown",
   "id": "a7b765b5",
   "metadata": {},
   "source": [
    "First, we load the peaks from the eCLIP data. In the dataframe, every row is a gene and every column is an RBP. The values indicate begin and end of peaks measured."
   ]
  },
  {
   "cell_type": "code",
   "execution_count": 2,
   "id": "b49decf5",
   "metadata": {},
   "outputs": [
    {
     "data": {
      "text/html": [
       "<div>\n",
       "<style scoped>\n",
       "    .dataframe tbody tr th:only-of-type {\n",
       "        vertical-align: middle;\n",
       "    }\n",
       "\n",
       "    .dataframe tbody tr th {\n",
       "        vertical-align: top;\n",
       "    }\n",
       "\n",
       "    .dataframe thead th {\n",
       "        text-align: right;\n",
       "    }\n",
       "</style>\n",
       "<table border=\"1\" class=\"dataframe\">\n",
       "  <thead>\n",
       "    <tr style=\"text-align: right;\">\n",
       "      <th></th>\n",
       "      <th>AATF</th>\n",
       "      <th>ABCF1</th>\n",
       "      <th>AKAP1</th>\n",
       "      <th>APOBEC3C</th>\n",
       "      <th>AQR</th>\n",
       "    </tr>\n",
       "    <tr>\n",
       "      <th>ENSG</th>\n",
       "      <th></th>\n",
       "      <th></th>\n",
       "      <th></th>\n",
       "      <th></th>\n",
       "      <th></th>\n",
       "    </tr>\n",
       "  </thead>\n",
       "  <tbody>\n",
       "    <tr>\n",
       "      <th>ENSG00000107554</th>\n",
       "      <td>[]</td>\n",
       "      <td>[]</td>\n",
       "      <td>[[99875689, 99875747], [99875702, 99875735], [...</td>\n",
       "      <td>[]</td>\n",
       "      <td>[[99877075, 99877107], [99877291, 99877325], [...</td>\n",
       "    </tr>\n",
       "    <tr>\n",
       "      <th>ENSG00000107566</th>\n",
       "      <td>[[100151393, 100151426], [100179512, 100179588...</td>\n",
       "      <td>[[100151980, 100152011]]</td>\n",
       "      <td>[[100150218, 100150240], [100150281, 100150333...</td>\n",
       "      <td>[[100150776, 100150813]]</td>\n",
       "      <td>[[100151395, 100151432], [100151536, 100151567...</td>\n",
       "    </tr>\n",
       "    <tr>\n",
       "      <th>ENSG00000213341</th>\n",
       "      <td>[]</td>\n",
       "      <td>[]</td>\n",
       "      <td>[[100188774, 100188812]]</td>\n",
       "      <td>[[100188586, 100188621], [100188761, 100188789...</td>\n",
       "      <td>[[100193190, 100193249], [100193223, 100193264...</td>\n",
       "    </tr>\n",
       "    <tr>\n",
       "      <th>ENSG00000095485</th>\n",
       "      <td>[[100237058, 100237180], [100237063, 100237133...</td>\n",
       "      <td>[[100237084, 100237172], [100237091, 100237148...</td>\n",
       "      <td>[[100232429, 100232464], [100232929, 100233112...</td>\n",
       "      <td>[[100232368, 100232393], [100233104, 100233140...</td>\n",
       "      <td>[[100233336, 100233418], [100233370, 100233429...</td>\n",
       "    </tr>\n",
       "    <tr>\n",
       "      <th>ENSG00000196072</th>\n",
       "      <td>[]</td>\n",
       "      <td>[]</td>\n",
       "      <td>[[100274793, 100274830], [100274812, 100274866...</td>\n",
       "      <td>[[100274718, 100274745], [100274719, 100274760...</td>\n",
       "      <td>[[100274979, 100275024], [100275386, 100275428...</td>\n",
       "    </tr>\n",
       "  </tbody>\n",
       "</table>\n",
       "</div>"
      ],
      "text/plain": [
       "                                                              AATF  \\\n",
       "ENSG                                                                 \n",
       "ENSG00000107554                                                 []   \n",
       "ENSG00000107566  [[100151393, 100151426], [100179512, 100179588...   \n",
       "ENSG00000213341                                                 []   \n",
       "ENSG00000095485  [[100237058, 100237180], [100237063, 100237133...   \n",
       "ENSG00000196072                                                 []   \n",
       "\n",
       "                                                             ABCF1  \\\n",
       "ENSG                                                                 \n",
       "ENSG00000107554                                                 []   \n",
       "ENSG00000107566                           [[100151980, 100152011]]   \n",
       "ENSG00000213341                                                 []   \n",
       "ENSG00000095485  [[100237084, 100237172], [100237091, 100237148...   \n",
       "ENSG00000196072                                                 []   \n",
       "\n",
       "                                                             AKAP1  \\\n",
       "ENSG                                                                 \n",
       "ENSG00000107554  [[99875689, 99875747], [99875702, 99875735], [...   \n",
       "ENSG00000107566  [[100150218, 100150240], [100150281, 100150333...   \n",
       "ENSG00000213341                           [[100188774, 100188812]]   \n",
       "ENSG00000095485  [[100232429, 100232464], [100232929, 100233112...   \n",
       "ENSG00000196072  [[100274793, 100274830], [100274812, 100274866...   \n",
       "\n",
       "                                                          APOBEC3C  \\\n",
       "ENSG                                                                 \n",
       "ENSG00000107554                                                 []   \n",
       "ENSG00000107566                           [[100150776, 100150813]]   \n",
       "ENSG00000213341  [[100188586, 100188621], [100188761, 100188789...   \n",
       "ENSG00000095485  [[100232368, 100232393], [100233104, 100233140...   \n",
       "ENSG00000196072  [[100274718, 100274745], [100274719, 100274760...   \n",
       "\n",
       "                                                               AQR  \n",
       "ENSG                                                                \n",
       "ENSG00000107554  [[99877075, 99877107], [99877291, 99877325], [...  \n",
       "ENSG00000107566  [[100151395, 100151432], [100151536, 100151567...  \n",
       "ENSG00000213341  [[100193190, 100193249], [100193223, 100193264...  \n",
       "ENSG00000095485  [[100233336, 100233418], [100233370, 100233429...  \n",
       "ENSG00000196072  [[100274979, 100275024], [100275386, 100275428...  "
      ]
     },
     "execution_count": 2,
     "metadata": {},
     "output_type": "execute_result"
    }
   ],
   "source": [
    "peaks_path = '../../Zenodo/Human/HPC/RBP/RBP_coor_repl.pickle'\n",
    "RBP_coor_repl, rows, columns = pd.read_pickle(peaks_path)\n",
    "peaks = pd.DataFrame(RBP_coor_repl, index=rows, columns=columns)\n",
    "peaks.iloc[:5,:5]"
   ]
  },
  {
   "cell_type": "markdown",
   "id": "221159fd",
   "metadata": {},
   "source": [
    "Read the PSI values, so we can split later on for exons < 0.5 and exons > 0.5"
   ]
  },
  {
   "cell_type": "code",
   "execution_count": 3,
   "id": "51aecc00",
   "metadata": {},
   "outputs": [],
   "source": [
    "PSI_glia = pd.read_csv('../../Zenodo/Human/HPC/PSI/PSI_glia_norm.csv', \n",
    "                       index_col=0)\n",
    "PSI_neur = pd.read_csv('../../Zenodo/Human/HPC/PSI/PSI_neur_norm.csv', \n",
    "                       index_col=0)\n",
    "PSI = pd.concat((PSI_glia, PSI_neur), axis=1)\n",
    "PSI.columns = ['Glia', 'Neurons']\n",
    "\n",
    "# Only keep the exons with PSI value defined in neurons and glia\n",
    "PSI = PSI.loc[PSI.notna().sum(axis=1) > 1]\n",
    "PSI_glia = PSI_glia.loc[PSI.index]\n",
    "PSI_neur = PSI_neur.loc[PSI.index]\n"
   ]
  },
  {
   "cell_type": "markdown",
   "id": "ee1ca245",
   "metadata": {},
   "source": [
    "Next, we read the RBP counts. This is slightly different from the peaks. Here, there are no coordinates per gene/RBP, but there is counted per exon already how many RBPs bind at a specific location. We use this to filter out the exons with no RBP binding sites since these genes were probably not expressed/measured in the eCLIP data."
   ]
  },
  {
   "cell_type": "code",
   "execution_count": 4,
   "id": "a37988d7",
   "metadata": {},
   "outputs": [],
   "source": [
    "RBP_counts = pd.read_csv('../../Zenodo/Human/HPC/RBP/RBP_peaks.csv', \n",
    "                         index_col=0)\n",
    "RBP_counts = RBP_counts.loc[PSI.index]\n",
    "tokeep = np.sum(RBP_counts, axis=1) > 0\n"
   ]
  },
  {
   "cell_type": "markdown",
   "id": "9fdf7f8c",
   "metadata": {},
   "source": [
    "Split the names of the exons based so that we get the chromosome, begin, end, gene name and strand"
   ]
  },
  {
   "cell_type": "code",
   "execution_count": 5,
   "id": "f1646fc0",
   "metadata": {},
   "outputs": [
    {
     "data": {
      "text/html": [
       "<div>\n",
       "<style scoped>\n",
       "    .dataframe tbody tr th:only-of-type {\n",
       "        vertical-align: middle;\n",
       "    }\n",
       "\n",
       "    .dataframe tbody tr th {\n",
       "        vertical-align: top;\n",
       "    }\n",
       "\n",
       "    .dataframe thead th {\n",
       "        text-align: right;\n",
       "    }\n",
       "</style>\n",
       "<table border=\"1\" class=\"dataframe\">\n",
       "  <thead>\n",
       "    <tr style=\"text-align: right;\">\n",
       "      <th></th>\n",
       "      <th>0</th>\n",
       "      <th>1</th>\n",
       "      <th>2</th>\n",
       "      <th>3</th>\n",
       "      <th>4</th>\n",
       "    </tr>\n",
       "  </thead>\n",
       "  <tbody>\n",
       "    <tr>\n",
       "      <th>0</th>\n",
       "      <td>chr10</td>\n",
       "      <td>100002942</td>\n",
       "      <td>100003023</td>\n",
       "      <td>ENSG00000107554</td>\n",
       "      <td>-</td>\n",
       "    </tr>\n",
       "    <tr>\n",
       "      <th>1</th>\n",
       "      <td>chr10</td>\n",
       "      <td>1000677</td>\n",
       "      <td>1000868</td>\n",
       "      <td>ENSG00000107937</td>\n",
       "      <td>+</td>\n",
       "    </tr>\n",
       "    <tr>\n",
       "      <th>2</th>\n",
       "      <td>chr10</td>\n",
       "      <td>100158984</td>\n",
       "      <td>100159055</td>\n",
       "      <td>ENSG00000107566</td>\n",
       "      <td>-</td>\n",
       "    </tr>\n",
       "    <tr>\n",
       "      <th>3</th>\n",
       "      <td>chr10</td>\n",
       "      <td>100167348</td>\n",
       "      <td>100167406</td>\n",
       "      <td>ENSG00000107566</td>\n",
       "      <td>-</td>\n",
       "    </tr>\n",
       "    <tr>\n",
       "      <th>4</th>\n",
       "      <td>chr10</td>\n",
       "      <td>100174208</td>\n",
       "      <td>100174281</td>\n",
       "      <td>ENSG00000107566</td>\n",
       "      <td>-</td>\n",
       "    </tr>\n",
       "  </tbody>\n",
       "</table>\n",
       "</div>"
      ],
      "text/plain": [
       "       0          1          2                3  4\n",
       "0  chr10  100002942  100003023  ENSG00000107554  -\n",
       "1  chr10    1000677    1000868  ENSG00000107937  +\n",
       "2  chr10  100158984  100159055  ENSG00000107566  -\n",
       "3  chr10  100167348  100167406  ENSG00000107566  -\n",
       "4  chr10  100174208  100174281  ENSG00000107566  -"
      ]
     },
     "execution_count": 5,
     "metadata": {},
     "output_type": "execute_result"
    }
   ],
   "source": [
    "exons_info = pd.DataFrame(RBP_counts.index)[0].str.split('_',expand=True)\n",
    "exons_info.iloc[:5]"
   ]
  },
  {
   "cell_type": "markdown",
   "id": "a7c6c455",
   "metadata": {},
   "source": [
    "Calculate the following:\n",
    "- MSE between variable and not variable for exons with low PSI \n",
    "- MSE between variable and not variable for exons with high PSI \n",
    "- Number of variable exons with low PSI and a binding site for that RBP\n",
    "- Number of variable exons with high PSI and a binding site for that RBP\n",
    "- Number of not variable exons with low PSI and a binding site for that RBP\n",
    "- Number of not variable exons with high PSI and a binding site for that RBP\n",
    "- Number of peaks in variable exons with a low PSI and a binding site for that RBP\n",
    "- Number of peaks in variable exons with a high PSI and a binding site for that RBP\n",
    "- Number of peaks in not variable exons with a low PSI and a binding site for that RBP\n",
    "- Number of peaks in not variable exons with a high PSI and a binding site for that RBP\n",
    "\n",
    "! This takes ~15 minutes to run"
   ]
  },
  {
   "cell_type": "code",
   "execution_count": null,
   "id": "70e45e24",
   "metadata": {},
   "outputs": [
    {
     "data": {
      "application/vnd.jupyter.widget-view+json": {
       "model_id": "b9a54676b005474bae394cf757714127",
       "version_major": 2,
       "version_minor": 0
      },
      "text/plain": [
       "  0%|          | 0/122 [00:00<?, ?it/s]"
      ]
     },
     "metadata": {},
     "output_type": "display_data"
    },
    {
     "data": {
      "application/vnd.jupyter.widget-view+json": {
       "model_id": "5824ce6fdbd64b64b4ca694c5882dd5a",
       "version_major": 2,
       "version_minor": 0
      },
      "text/plain": [
       "  0%|          | 0/37382 [00:00<?, ?it/s]"
      ]
     },
     "metadata": {},
     "output_type": "display_data"
    },
    {
     "data": {
      "application/vnd.jupyter.widget-view+json": {
       "model_id": "17bf243c7c4e48d69d83e5a3032dde92",
       "version_major": 2,
       "version_minor": 0
      },
      "text/plain": [
       "  0%|          | 0/37382 [00:00<?, ?it/s]"
      ]
     },
     "metadata": {},
     "output_type": "display_data"
    },
    {
     "data": {
      "application/vnd.jupyter.widget-view+json": {
       "model_id": "4e0beb5567b346108323e8199adf6561",
       "version_major": 2,
       "version_minor": 0
      },
      "text/plain": [
       "  0%|          | 0/37382 [00:00<?, ?it/s]"
      ]
     },
     "metadata": {},
     "output_type": "display_data"
    },
    {
     "data": {
      "application/vnd.jupyter.widget-view+json": {
       "model_id": "256287cb600e418f83e4e79f7347d3a7",
       "version_major": 2,
       "version_minor": 0
      },
      "text/plain": [
       "  0%|          | 0/37382 [00:00<?, ?it/s]"
      ]
     },
     "metadata": {},
     "output_type": "display_data"
    },
    {
     "data": {
      "application/vnd.jupyter.widget-view+json": {
       "model_id": "c5bfdf2f9cb7479ca3110ed8f098c9a0",
       "version_major": 2,
       "version_minor": 0
      },
      "text/plain": [
       "  0%|          | 0/37382 [00:00<?, ?it/s]"
      ]
     },
     "metadata": {},
     "output_type": "display_data"
    },
    {
     "data": {
      "application/vnd.jupyter.widget-view+json": {
       "model_id": "28e5bfb6230b444ab9c2e792677c87d3",
       "version_major": 2,
       "version_minor": 0
      },
      "text/plain": [
       "  0%|          | 0/37382 [00:00<?, ?it/s]"
      ]
     },
     "metadata": {},
     "output_type": "display_data"
    },
    {
     "data": {
      "application/vnd.jupyter.widget-view+json": {
       "model_id": "b25ebe883c784d049678f478d33e63a3",
       "version_major": 2,
       "version_minor": 0
      },
      "text/plain": [
       "  0%|          | 0/37382 [00:00<?, ?it/s]"
      ]
     },
     "metadata": {},
     "output_type": "display_data"
    },
    {
     "data": {
      "application/vnd.jupyter.widget-view+json": {
       "model_id": "198d1957e6524e64ac153fa0aa3cb413",
       "version_major": 2,
       "version_minor": 0
      },
      "text/plain": [
       "  0%|          | 0/37382 [00:00<?, ?it/s]"
      ]
     },
     "metadata": {},
     "output_type": "display_data"
    },
    {
     "data": {
      "application/vnd.jupyter.widget-view+json": {
       "model_id": "df1f8346951d49a19628f8e48a4ba7c7",
       "version_major": 2,
       "version_minor": 0
      },
      "text/plain": [
       "  0%|          | 0/37382 [00:00<?, ?it/s]"
      ]
     },
     "metadata": {},
     "output_type": "display_data"
    },
    {
     "data": {
      "application/vnd.jupyter.widget-view+json": {
       "model_id": "4e5d5d04397e418ba6a18821d243d12a",
       "version_major": 2,
       "version_minor": 0
      },
      "text/plain": [
       "  0%|          | 0/37382 [00:00<?, ?it/s]"
      ]
     },
     "metadata": {},
     "output_type": "display_data"
    },
    {
     "data": {
      "application/vnd.jupyter.widget-view+json": {
       "model_id": "218692aaa66e459dbf2fed49fe9e7575",
       "version_major": 2,
       "version_minor": 0
      },
      "text/plain": [
       "  0%|          | 0/37382 [00:00<?, ?it/s]"
      ]
     },
     "metadata": {},
     "output_type": "display_data"
    },
    {
     "data": {
      "application/vnd.jupyter.widget-view+json": {
       "model_id": "a14ca403e7b648a4b9a2246d324c40fd",
       "version_major": 2,
       "version_minor": 0
      },
      "text/plain": [
       "  0%|          | 0/37382 [00:00<?, ?it/s]"
      ]
     },
     "metadata": {},
     "output_type": "display_data"
    },
    {
     "data": {
      "application/vnd.jupyter.widget-view+json": {
       "model_id": "dfe9638aadce4906a35bfabb576a0645",
       "version_major": 2,
       "version_minor": 0
      },
      "text/plain": [
       "  0%|          | 0/37382 [00:00<?, ?it/s]"
      ]
     },
     "metadata": {},
     "output_type": "display_data"
    },
    {
     "data": {
      "application/vnd.jupyter.widget-view+json": {
       "model_id": "c4cccafe5a4b464785ff2519854d2044",
       "version_major": 2,
       "version_minor": 0
      },
      "text/plain": [
       "  0%|          | 0/37382 [00:00<?, ?it/s]"
      ]
     },
     "metadata": {},
     "output_type": "display_data"
    },
    {
     "data": {
      "application/vnd.jupyter.widget-view+json": {
       "model_id": "b6a3257d62be4724ae8f97e3446284f9",
       "version_major": 2,
       "version_minor": 0
      },
      "text/plain": [
       "  0%|          | 0/37382 [00:00<?, ?it/s]"
      ]
     },
     "metadata": {},
     "output_type": "display_data"
    },
    {
     "data": {
      "application/vnd.jupyter.widget-view+json": {
       "model_id": "ae0b3b2897724988af2339c0022b51e4",
       "version_major": 2,
       "version_minor": 0
      },
      "text/plain": [
       "  0%|          | 0/37382 [00:00<?, ?it/s]"
      ]
     },
     "metadata": {},
     "output_type": "display_data"
    },
    {
     "data": {
      "application/vnd.jupyter.widget-view+json": {
       "model_id": "8e4bd4cc0e2748aa9df72e9f45fe6c33",
       "version_major": 2,
       "version_minor": 0
      },
      "text/plain": [
       "  0%|          | 0/37382 [00:00<?, ?it/s]"
      ]
     },
     "metadata": {},
     "output_type": "display_data"
    },
    {
     "data": {
      "application/vnd.jupyter.widget-view+json": {
       "model_id": "d6ccda5a724a41a49c4f0bde2fc6851b",
       "version_major": 2,
       "version_minor": 0
      },
      "text/plain": [
       "  0%|          | 0/37382 [00:00<?, ?it/s]"
      ]
     },
     "metadata": {},
     "output_type": "display_data"
    },
    {
     "data": {
      "application/vnd.jupyter.widget-view+json": {
       "model_id": "b79bf49460024952a0fe7f77d99c1d6c",
       "version_major": 2,
       "version_minor": 0
      },
      "text/plain": [
       "  0%|          | 0/37382 [00:00<?, ?it/s]"
      ]
     },
     "metadata": {},
     "output_type": "display_data"
    },
    {
     "data": {
      "application/vnd.jupyter.widget-view+json": {
       "model_id": "33d2c89a1eee4822bfd30e42f08973b6",
       "version_major": 2,
       "version_minor": 0
      },
      "text/plain": [
       "  0%|          | 0/37382 [00:00<?, ?it/s]"
      ]
     },
     "metadata": {},
     "output_type": "display_data"
    },
    {
     "data": {
      "application/vnd.jupyter.widget-view+json": {
       "model_id": "6dfac0185a84497ea8d15d604e59ed71",
       "version_major": 2,
       "version_minor": 0
      },
      "text/plain": [
       "  0%|          | 0/37382 [00:00<?, ?it/s]"
      ]
     },
     "metadata": {},
     "output_type": "display_data"
    },
    {
     "data": {
      "application/vnd.jupyter.widget-view+json": {
       "model_id": "817f783c8fb845aeb8a36f237a99b70e",
       "version_major": 2,
       "version_minor": 0
      },
      "text/plain": [
       "  0%|          | 0/37382 [00:00<?, ?it/s]"
      ]
     },
     "metadata": {},
     "output_type": "display_data"
    },
    {
     "data": {
      "application/vnd.jupyter.widget-view+json": {
       "model_id": "b683362e6678466c9526305cfe379634",
       "version_major": 2,
       "version_minor": 0
      },
      "text/plain": [
       "  0%|          | 0/37382 [00:00<?, ?it/s]"
      ]
     },
     "metadata": {},
     "output_type": "display_data"
    },
    {
     "data": {
      "application/vnd.jupyter.widget-view+json": {
       "model_id": "cc3d3dcbd381457fb84208ff9e0a87da",
       "version_major": 2,
       "version_minor": 0
      },
      "text/plain": [
       "  0%|          | 0/37382 [00:00<?, ?it/s]"
      ]
     },
     "metadata": {},
     "output_type": "display_data"
    },
    {
     "data": {
      "application/vnd.jupyter.widget-view+json": {
       "model_id": "af854a79a63846239e9b3d6816403899",
       "version_major": 2,
       "version_minor": 0
      },
      "text/plain": [
       "  0%|          | 0/37382 [00:00<?, ?it/s]"
      ]
     },
     "metadata": {},
     "output_type": "display_data"
    },
    {
     "data": {
      "application/vnd.jupyter.widget-view+json": {
       "model_id": "250b94a4a1de4305b849b66ade7828c5",
       "version_major": 2,
       "version_minor": 0
      },
      "text/plain": [
       "  0%|          | 0/37382 [00:00<?, ?it/s]"
      ]
     },
     "metadata": {},
     "output_type": "display_data"
    },
    {
     "data": {
      "application/vnd.jupyter.widget-view+json": {
       "model_id": "8f5ef5d0d537422980a8314b5248e81f",
       "version_major": 2,
       "version_minor": 0
      },
      "text/plain": [
       "  0%|          | 0/37382 [00:00<?, ?it/s]"
      ]
     },
     "metadata": {},
     "output_type": "display_data"
    },
    {
     "data": {
      "application/vnd.jupyter.widget-view+json": {
       "model_id": "7cb44c617e8c4d9c9029adeabc13ac2b",
       "version_major": 2,
       "version_minor": 0
      },
      "text/plain": [
       "  0%|          | 0/37382 [00:00<?, ?it/s]"
      ]
     },
     "metadata": {},
     "output_type": "display_data"
    },
    {
     "data": {
      "application/vnd.jupyter.widget-view+json": {
       "model_id": "0bd582f03a0b4f4f85d84ea8965e0138",
       "version_major": 2,
       "version_minor": 0
      },
      "text/plain": [
       "  0%|          | 0/37382 [00:00<?, ?it/s]"
      ]
     },
     "metadata": {},
     "output_type": "display_data"
    },
    {
     "data": {
      "application/vnd.jupyter.widget-view+json": {
       "model_id": "501952ac1e2e4075a4b3d026b687f343",
       "version_major": 2,
       "version_minor": 0
      },
      "text/plain": [
       "  0%|          | 0/37382 [00:00<?, ?it/s]"
      ]
     },
     "metadata": {},
     "output_type": "display_data"
    },
    {
     "data": {
      "application/vnd.jupyter.widget-view+json": {
       "model_id": "7fd5053f4c364338869f2afe87fea34d",
       "version_major": 2,
       "version_minor": 0
      },
      "text/plain": [
       "  0%|          | 0/37382 [00:00<?, ?it/s]"
      ]
     },
     "metadata": {},
     "output_type": "display_data"
    },
    {
     "data": {
      "application/vnd.jupyter.widget-view+json": {
       "model_id": "ccd08dd3202240df8a99bb67ea46a94e",
       "version_major": 2,
       "version_minor": 0
      },
      "text/plain": [
       "  0%|          | 0/37382 [00:00<?, ?it/s]"
      ]
     },
     "metadata": {},
     "output_type": "display_data"
    },
    {
     "data": {
      "application/vnd.jupyter.widget-view+json": {
       "model_id": "abbe2f072db6422bb2011583193cde66",
       "version_major": 2,
       "version_minor": 0
      },
      "text/plain": [
       "  0%|          | 0/37382 [00:00<?, ?it/s]"
      ]
     },
     "metadata": {},
     "output_type": "display_data"
    },
    {
     "data": {
      "application/vnd.jupyter.widget-view+json": {
       "model_id": "07087615258d40b0a1540a2afc7ad2e2",
       "version_major": 2,
       "version_minor": 0
      },
      "text/plain": [
       "  0%|          | 0/37382 [00:00<?, ?it/s]"
      ]
     },
     "metadata": {},
     "output_type": "display_data"
    },
    {
     "data": {
      "application/vnd.jupyter.widget-view+json": {
       "model_id": "15f2327a434b4fbc910b975b63a775d9",
       "version_major": 2,
       "version_minor": 0
      },
      "text/plain": [
       "  0%|          | 0/37382 [00:00<?, ?it/s]"
      ]
     },
     "metadata": {},
     "output_type": "display_data"
    },
    {
     "data": {
      "application/vnd.jupyter.widget-view+json": {
       "model_id": "8df594614e1944d99c6324128467359e",
       "version_major": 2,
       "version_minor": 0
      },
      "text/plain": [
       "  0%|          | 0/37382 [00:00<?, ?it/s]"
      ]
     },
     "metadata": {},
     "output_type": "display_data"
    },
    {
     "data": {
      "application/vnd.jupyter.widget-view+json": {
       "model_id": "e576028d89924cd2b937fd24f6fcb197",
       "version_major": 2,
       "version_minor": 0
      },
      "text/plain": [
       "  0%|          | 0/37382 [00:00<?, ?it/s]"
      ]
     },
     "metadata": {},
     "output_type": "display_data"
    },
    {
     "data": {
      "application/vnd.jupyter.widget-view+json": {
       "model_id": "3a52846b0e524b288630b3fbeff64d69",
       "version_major": 2,
       "version_minor": 0
      },
      "text/plain": [
       "  0%|          | 0/37382 [00:00<?, ?it/s]"
      ]
     },
     "metadata": {},
     "output_type": "display_data"
    },
    {
     "data": {
      "application/vnd.jupyter.widget-view+json": {
       "model_id": "6ec56a03c82545d5b42b9f0f14798257",
       "version_major": 2,
       "version_minor": 0
      },
      "text/plain": [
       "  0%|          | 0/37382 [00:00<?, ?it/s]"
      ]
     },
     "metadata": {},
     "output_type": "display_data"
    },
    {
     "data": {
      "application/vnd.jupyter.widget-view+json": {
       "model_id": "2ad11533762a4f5b843f172ce46c7e6e",
       "version_major": 2,
       "version_minor": 0
      },
      "text/plain": [
       "  0%|          | 0/37382 [00:00<?, ?it/s]"
      ]
     },
     "metadata": {},
     "output_type": "display_data"
    },
    {
     "data": {
      "application/vnd.jupyter.widget-view+json": {
       "model_id": "4a6caf6154014cb4958c894e25106608",
       "version_major": 2,
       "version_minor": 0
      },
      "text/plain": [
       "  0%|          | 0/37382 [00:00<?, ?it/s]"
      ]
     },
     "metadata": {},
     "output_type": "display_data"
    },
    {
     "data": {
      "application/vnd.jupyter.widget-view+json": {
       "model_id": "0855b6cf7f724062999b82a16312cfa6",
       "version_major": 2,
       "version_minor": 0
      },
      "text/plain": [
       "  0%|          | 0/37382 [00:00<?, ?it/s]"
      ]
     },
     "metadata": {},
     "output_type": "display_data"
    },
    {
     "data": {
      "application/vnd.jupyter.widget-view+json": {
       "model_id": "e266f930d9e84b51a9c68a69b3950c3d",
       "version_major": 2,
       "version_minor": 0
      },
      "text/plain": [
       "  0%|          | 0/37382 [00:00<?, ?it/s]"
      ]
     },
     "metadata": {},
     "output_type": "display_data"
    },
    {
     "data": {
      "application/vnd.jupyter.widget-view+json": {
       "model_id": "b3b510272a7d456793aa861084501b09",
       "version_major": 2,
       "version_minor": 0
      },
      "text/plain": [
       "  0%|          | 0/37382 [00:00<?, ?it/s]"
      ]
     },
     "metadata": {},
     "output_type": "display_data"
    },
    {
     "data": {
      "application/vnd.jupyter.widget-view+json": {
       "model_id": "2722ee442e084debb691fa5eef37882b",
       "version_major": 2,
       "version_minor": 0
      },
      "text/plain": [
       "  0%|          | 0/37382 [00:00<?, ?it/s]"
      ]
     },
     "metadata": {},
     "output_type": "display_data"
    },
    {
     "data": {
      "application/vnd.jupyter.widget-view+json": {
       "model_id": "df4ddb716c5f48cb87150946cff4b97c",
       "version_major": 2,
       "version_minor": 0
      },
      "text/plain": [
       "  0%|          | 0/37382 [00:00<?, ?it/s]"
      ]
     },
     "metadata": {},
     "output_type": "display_data"
    },
    {
     "data": {
      "application/vnd.jupyter.widget-view+json": {
       "model_id": "d1924b8c66424d788c16e583ba1dced2",
       "version_major": 2,
       "version_minor": 0
      },
      "text/plain": [
       "  0%|          | 0/37382 [00:00<?, ?it/s]"
      ]
     },
     "metadata": {},
     "output_type": "display_data"
    },
    {
     "data": {
      "application/vnd.jupyter.widget-view+json": {
       "model_id": "7c0071fed279436085c29f33ca818ea5",
       "version_major": 2,
       "version_minor": 0
      },
      "text/plain": [
       "  0%|          | 0/37382 [00:00<?, ?it/s]"
      ]
     },
     "metadata": {},
     "output_type": "display_data"
    },
    {
     "data": {
      "application/vnd.jupyter.widget-view+json": {
       "model_id": "ee028ff7f6cc468c98c4c77c341c5c7b",
       "version_major": 2,
       "version_minor": 0
      },
      "text/plain": [
       "  0%|          | 0/37382 [00:00<?, ?it/s]"
      ]
     },
     "metadata": {},
     "output_type": "display_data"
    },
    {
     "data": {
      "application/vnd.jupyter.widget-view+json": {
       "model_id": "389085fbc3e24ae38cd0dfb8be7b4f39",
       "version_major": 2,
       "version_minor": 0
      },
      "text/plain": [
       "  0%|          | 0/37382 [00:00<?, ?it/s]"
      ]
     },
     "metadata": {},
     "output_type": "display_data"
    },
    {
     "data": {
      "application/vnd.jupyter.widget-view+json": {
       "model_id": "8b7a051843aa4898ad85bcf399e037cb",
       "version_major": 2,
       "version_minor": 0
      },
      "text/plain": [
       "  0%|          | 0/37382 [00:00<?, ?it/s]"
      ]
     },
     "metadata": {},
     "output_type": "display_data"
    },
    {
     "data": {
      "application/vnd.jupyter.widget-view+json": {
       "model_id": "a2e831e8ddd2415095eca5eaff6b404e",
       "version_major": 2,
       "version_minor": 0
      },
      "text/plain": [
       "  0%|          | 0/37382 [00:00<?, ?it/s]"
      ]
     },
     "metadata": {},
     "output_type": "display_data"
    },
    {
     "data": {
      "application/vnd.jupyter.widget-view+json": {
       "model_id": "f21cc98302c74dd7b0932d33fe75ee15",
       "version_major": 2,
       "version_minor": 0
      },
      "text/plain": [
       "  0%|          | 0/37382 [00:00<?, ?it/s]"
      ]
     },
     "metadata": {},
     "output_type": "display_data"
    },
    {
     "data": {
      "application/vnd.jupyter.widget-view+json": {
       "model_id": "a9db7082fb8e4f738548f40cd1f4de88",
       "version_major": 2,
       "version_minor": 0
      },
      "text/plain": [
       "  0%|          | 0/37382 [00:00<?, ?it/s]"
      ]
     },
     "metadata": {},
     "output_type": "display_data"
    },
    {
     "data": {
      "application/vnd.jupyter.widget-view+json": {
       "model_id": "3f671f8c14b34d22b3ebc8812787c7b9",
       "version_major": 2,
       "version_minor": 0
      },
      "text/plain": [
       "  0%|          | 0/37382 [00:00<?, ?it/s]"
      ]
     },
     "metadata": {},
     "output_type": "display_data"
    },
    {
     "data": {
      "application/vnd.jupyter.widget-view+json": {
       "model_id": "0519746126964fa28e4819cc1a573b08",
       "version_major": 2,
       "version_minor": 0
      },
      "text/plain": [
       "  0%|          | 0/37382 [00:00<?, ?it/s]"
      ]
     },
     "metadata": {},
     "output_type": "display_data"
    },
    {
     "data": {
      "application/vnd.jupyter.widget-view+json": {
       "model_id": "ba65dcc6fbef4d64aa063b18d8e4b11e",
       "version_major": 2,
       "version_minor": 0
      },
      "text/plain": [
       "  0%|          | 0/37382 [00:00<?, ?it/s]"
      ]
     },
     "metadata": {},
     "output_type": "display_data"
    },
    {
     "data": {
      "application/vnd.jupyter.widget-view+json": {
       "model_id": "e3e513c33a224a1bacf7ef9c5d52bfa1",
       "version_major": 2,
       "version_minor": 0
      },
      "text/plain": [
       "  0%|          | 0/37382 [00:00<?, ?it/s]"
      ]
     },
     "metadata": {},
     "output_type": "display_data"
    },
    {
     "data": {
      "application/vnd.jupyter.widget-view+json": {
       "model_id": "06968b9faf854207a7fd6eaf84db9b87",
       "version_major": 2,
       "version_minor": 0
      },
      "text/plain": [
       "  0%|          | 0/37382 [00:00<?, ?it/s]"
      ]
     },
     "metadata": {},
     "output_type": "display_data"
    },
    {
     "data": {
      "application/vnd.jupyter.widget-view+json": {
       "model_id": "1a652030e2744b91834703d411e34be0",
       "version_major": 2,
       "version_minor": 0
      },
      "text/plain": [
       "  0%|          | 0/37382 [00:00<?, ?it/s]"
      ]
     },
     "metadata": {},
     "output_type": "display_data"
    },
    {
     "data": {
      "application/vnd.jupyter.widget-view+json": {
       "model_id": "d896a71304654f8f934fb59a3edbdaf4",
       "version_major": 2,
       "version_minor": 0
      },
      "text/plain": [
       "  0%|          | 0/37382 [00:00<?, ?it/s]"
      ]
     },
     "metadata": {},
     "output_type": "display_data"
    },
    {
     "data": {
      "application/vnd.jupyter.widget-view+json": {
       "model_id": "2530649efcce4c6db3df9a72fdbb2a09",
       "version_major": 2,
       "version_minor": 0
      },
      "text/plain": [
       "  0%|          | 0/37382 [00:00<?, ?it/s]"
      ]
     },
     "metadata": {},
     "output_type": "display_data"
    },
    {
     "data": {
      "application/vnd.jupyter.widget-view+json": {
       "model_id": "050723a1b1144a9ebc6d75603e433aca",
       "version_major": 2,
       "version_minor": 0
      },
      "text/plain": [
       "  0%|          | 0/37382 [00:00<?, ?it/s]"
      ]
     },
     "metadata": {},
     "output_type": "display_data"
    },
    {
     "data": {
      "application/vnd.jupyter.widget-view+json": {
       "model_id": "147a605edfc744e5afc4f9a9fd4e2070",
       "version_major": 2,
       "version_minor": 0
      },
      "text/plain": [
       "  0%|          | 0/37382 [00:00<?, ?it/s]"
      ]
     },
     "metadata": {},
     "output_type": "display_data"
    },
    {
     "data": {
      "application/vnd.jupyter.widget-view+json": {
       "model_id": "70e699e6e6bb46a1a0d80d0dcf14af7a",
       "version_major": 2,
       "version_minor": 0
      },
      "text/plain": [
       "  0%|          | 0/37382 [00:00<?, ?it/s]"
      ]
     },
     "metadata": {},
     "output_type": "display_data"
    },
    {
     "data": {
      "application/vnd.jupyter.widget-view+json": {
       "model_id": "6acd15ba561b4be78eedbac2f59a5d75",
       "version_major": 2,
       "version_minor": 0
      },
      "text/plain": [
       "  0%|          | 0/37382 [00:00<?, ?it/s]"
      ]
     },
     "metadata": {},
     "output_type": "display_data"
    },
    {
     "data": {
      "application/vnd.jupyter.widget-view+json": {
       "model_id": "e52c7a10a3804b1fb1e9bb7c7627f9f7",
       "version_major": 2,
       "version_minor": 0
      },
      "text/plain": [
       "  0%|          | 0/37382 [00:00<?, ?it/s]"
      ]
     },
     "metadata": {},
     "output_type": "display_data"
    },
    {
     "data": {
      "application/vnd.jupyter.widget-view+json": {
       "model_id": "8ece851c60834c1dbf9b412a9997ec23",
       "version_major": 2,
       "version_minor": 0
      },
      "text/plain": [
       "  0%|          | 0/37382 [00:00<?, ?it/s]"
      ]
     },
     "metadata": {},
     "output_type": "display_data"
    },
    {
     "data": {
      "application/vnd.jupyter.widget-view+json": {
       "model_id": "7e20304200eb420fa55fe6e375fd03d1",
       "version_major": 2,
       "version_minor": 0
      },
      "text/plain": [
       "  0%|          | 0/37382 [00:00<?, ?it/s]"
      ]
     },
     "metadata": {},
     "output_type": "display_data"
    },
    {
     "data": {
      "application/vnd.jupyter.widget-view+json": {
       "model_id": "fa0f6a10ddce48c89a8e6ee2b77cbb33",
       "version_major": 2,
       "version_minor": 0
      },
      "text/plain": [
       "  0%|          | 0/37382 [00:00<?, ?it/s]"
      ]
     },
     "metadata": {},
     "output_type": "display_data"
    },
    {
     "data": {
      "application/vnd.jupyter.widget-view+json": {
       "model_id": "a8d33d06821645e98ffacfbdcf80611c",
       "version_major": 2,
       "version_minor": 0
      },
      "text/plain": [
       "  0%|          | 0/37382 [00:00<?, ?it/s]"
      ]
     },
     "metadata": {},
     "output_type": "display_data"
    },
    {
     "data": {
      "application/vnd.jupyter.widget-view+json": {
       "model_id": "e4247251ff3e4dcaaf84772798d983bc",
       "version_major": 2,
       "version_minor": 0
      },
      "text/plain": [
       "  0%|          | 0/37382 [00:00<?, ?it/s]"
      ]
     },
     "metadata": {},
     "output_type": "display_data"
    },
    {
     "data": {
      "application/vnd.jupyter.widget-view+json": {
       "model_id": "cf837c0cc42d4bcfa3274c849b691869",
       "version_major": 2,
       "version_minor": 0
      },
      "text/plain": [
       "  0%|          | 0/37382 [00:00<?, ?it/s]"
      ]
     },
     "metadata": {},
     "output_type": "display_data"
    },
    {
     "data": {
      "application/vnd.jupyter.widget-view+json": {
       "model_id": "4cf8755661a14d7391572eb8968c7f7a",
       "version_major": 2,
       "version_minor": 0
      },
      "text/plain": [
       "  0%|          | 0/37382 [00:00<?, ?it/s]"
      ]
     },
     "metadata": {},
     "output_type": "display_data"
    },
    {
     "data": {
      "application/vnd.jupyter.widget-view+json": {
       "model_id": "3721eabfb8244d3f9cb332322516894f",
       "version_major": 2,
       "version_minor": 0
      },
      "text/plain": [
       "  0%|          | 0/37382 [00:00<?, ?it/s]"
      ]
     },
     "metadata": {},
     "output_type": "display_data"
    },
    {
     "data": {
      "application/vnd.jupyter.widget-view+json": {
       "model_id": "1c2b8bf38c08430e93e6df2ccff48109",
       "version_major": 2,
       "version_minor": 0
      },
      "text/plain": [
       "  0%|          | 0/37382 [00:00<?, ?it/s]"
      ]
     },
     "metadata": {},
     "output_type": "display_data"
    },
    {
     "data": {
      "application/vnd.jupyter.widget-view+json": {
       "model_id": "ad70a73f1b9648fdb2ece03d8c16f834",
       "version_major": 2,
       "version_minor": 0
      },
      "text/plain": [
       "  0%|          | 0/37382 [00:00<?, ?it/s]"
      ]
     },
     "metadata": {},
     "output_type": "display_data"
    },
    {
     "data": {
      "application/vnd.jupyter.widget-view+json": {
       "model_id": "161387c2735447f38fbe59f14dbd96ce",
       "version_major": 2,
       "version_minor": 0
      },
      "text/plain": [
       "  0%|          | 0/37382 [00:00<?, ?it/s]"
      ]
     },
     "metadata": {},
     "output_type": "display_data"
    },
    {
     "data": {
      "application/vnd.jupyter.widget-view+json": {
       "model_id": "7e29a89dfd1142d68fadfa5d5a716a36",
       "version_major": 2,
       "version_minor": 0
      },
      "text/plain": [
       "  0%|          | 0/37382 [00:00<?, ?it/s]"
      ]
     },
     "metadata": {},
     "output_type": "display_data"
    },
    {
     "data": {
      "application/vnd.jupyter.widget-view+json": {
       "model_id": "72e32a4f4a1f4b578ef41f7e36771959",
       "version_major": 2,
       "version_minor": 0
      },
      "text/plain": [
       "  0%|          | 0/37382 [00:00<?, ?it/s]"
      ]
     },
     "metadata": {},
     "output_type": "display_data"
    },
    {
     "data": {
      "application/vnd.jupyter.widget-view+json": {
       "model_id": "1c8d5b1200db4155b7ec8986b90fd3fb",
       "version_major": 2,
       "version_minor": 0
      },
      "text/plain": [
       "  0%|          | 0/37382 [00:00<?, ?it/s]"
      ]
     },
     "metadata": {},
     "output_type": "display_data"
    },
    {
     "data": {
      "application/vnd.jupyter.widget-view+json": {
       "model_id": "b3740c6f2cba477ba6e0cdf423920f0e",
       "version_major": 2,
       "version_minor": 0
      },
      "text/plain": [
       "  0%|          | 0/37382 [00:00<?, ?it/s]"
      ]
     },
     "metadata": {},
     "output_type": "display_data"
    },
    {
     "data": {
      "application/vnd.jupyter.widget-view+json": {
       "model_id": "930a1a36a5794304892ca001fd461b44",
       "version_major": 2,
       "version_minor": 0
      },
      "text/plain": [
       "  0%|          | 0/37382 [00:00<?, ?it/s]"
      ]
     },
     "metadata": {},
     "output_type": "display_data"
    },
    {
     "data": {
      "application/vnd.jupyter.widget-view+json": {
       "model_id": "83dcc0deb5854ba398bff83e5b49b8fd",
       "version_major": 2,
       "version_minor": 0
      },
      "text/plain": [
       "  0%|          | 0/37382 [00:00<?, ?it/s]"
      ]
     },
     "metadata": {},
     "output_type": "display_data"
    },
    {
     "data": {
      "application/vnd.jupyter.widget-view+json": {
       "model_id": "f38881827fd642eaaca7b87c910ac62a",
       "version_major": 2,
       "version_minor": 0
      },
      "text/plain": [
       "  0%|          | 0/37382 [00:00<?, ?it/s]"
      ]
     },
     "metadata": {},
     "output_type": "display_data"
    },
    {
     "data": {
      "application/vnd.jupyter.widget-view+json": {
       "model_id": "f3a2c4832c8e467abba2b63539ab05b3",
       "version_major": 2,
       "version_minor": 0
      },
      "text/plain": [
       "  0%|          | 0/37382 [00:00<?, ?it/s]"
      ]
     },
     "metadata": {},
     "output_type": "display_data"
    },
    {
     "data": {
      "application/vnd.jupyter.widget-view+json": {
       "model_id": "1e0d0a85b0a34899b7302c1eacce9012",
       "version_major": 2,
       "version_minor": 0
      },
      "text/plain": [
       "  0%|          | 0/37382 [00:00<?, ?it/s]"
      ]
     },
     "metadata": {},
     "output_type": "display_data"
    },
    {
     "data": {
      "application/vnd.jupyter.widget-view+json": {
       "model_id": "7acd11f1ba834268a56a3e5b4f0a1f8e",
       "version_major": 2,
       "version_minor": 0
      },
      "text/plain": [
       "  0%|          | 0/37382 [00:00<?, ?it/s]"
      ]
     },
     "metadata": {},
     "output_type": "display_data"
    },
    {
     "data": {
      "application/vnd.jupyter.widget-view+json": {
       "model_id": "9ed73f82a27e499db2d53ff729050ebb",
       "version_major": 2,
       "version_minor": 0
      },
      "text/plain": [
       "  0%|          | 0/37382 [00:00<?, ?it/s]"
      ]
     },
     "metadata": {},
     "output_type": "display_data"
    },
    {
     "data": {
      "application/vnd.jupyter.widget-view+json": {
       "model_id": "dd0a0c030bf4413784c12c2343318b2b",
       "version_major": 2,
       "version_minor": 0
      },
      "text/plain": [
       "  0%|          | 0/37382 [00:00<?, ?it/s]"
      ]
     },
     "metadata": {},
     "output_type": "display_data"
    },
    {
     "data": {
      "application/vnd.jupyter.widget-view+json": {
       "model_id": "79c153cdeef1434f9f60dcc4284052b9",
       "version_major": 2,
       "version_minor": 0
      },
      "text/plain": [
       "  0%|          | 0/37382 [00:00<?, ?it/s]"
      ]
     },
     "metadata": {},
     "output_type": "display_data"
    },
    {
     "data": {
      "application/vnd.jupyter.widget-view+json": {
       "model_id": "1d69c42129e24110b6e8c5e148d1179e",
       "version_major": 2,
       "version_minor": 0
      },
      "text/plain": [
       "  0%|          | 0/37382 [00:00<?, ?it/s]"
      ]
     },
     "metadata": {},
     "output_type": "display_data"
    },
    {
     "data": {
      "application/vnd.jupyter.widget-view+json": {
       "model_id": "7a3f67e85a7548b1a56fb7f47d3f1e3c",
       "version_major": 2,
       "version_minor": 0
      },
      "text/plain": [
       "  0%|          | 0/37382 [00:00<?, ?it/s]"
      ]
     },
     "metadata": {},
     "output_type": "display_data"
    },
    {
     "data": {
      "application/vnd.jupyter.widget-view+json": {
       "model_id": "1a946cd4fd9345bcbb518f146bcf06cd",
       "version_major": 2,
       "version_minor": 0
      },
      "text/plain": [
       "  0%|          | 0/37382 [00:00<?, ?it/s]"
      ]
     },
     "metadata": {},
     "output_type": "display_data"
    },
    {
     "data": {
      "application/vnd.jupyter.widget-view+json": {
       "model_id": "bff2855b2a0c48b88fbfb9d0a4d645d4",
       "version_major": 2,
       "version_minor": 0
      },
      "text/plain": [
       "  0%|          | 0/37382 [00:00<?, ?it/s]"
      ]
     },
     "metadata": {},
     "output_type": "display_data"
    },
    {
     "data": {
      "application/vnd.jupyter.widget-view+json": {
       "model_id": "1ec16077e6d1415798309980cb4667f4",
       "version_major": 2,
       "version_minor": 0
      },
      "text/plain": [
       "  0%|          | 0/37382 [00:00<?, ?it/s]"
      ]
     },
     "metadata": {},
     "output_type": "display_data"
    },
    {
     "data": {
      "application/vnd.jupyter.widget-view+json": {
       "model_id": "f7687ad7a88e434a941f5decf99b66a4",
       "version_major": 2,
       "version_minor": 0
      },
      "text/plain": [
       "  0%|          | 0/37382 [00:00<?, ?it/s]"
      ]
     },
     "metadata": {},
     "output_type": "display_data"
    },
    {
     "data": {
      "application/vnd.jupyter.widget-view+json": {
       "model_id": "53732df5b23b4c8b9302f35b5a19f2a1",
       "version_major": 2,
       "version_minor": 0
      },
      "text/plain": [
       "  0%|          | 0/37382 [00:00<?, ?it/s]"
      ]
     },
     "metadata": {},
     "output_type": "display_data"
    },
    {
     "data": {
      "application/vnd.jupyter.widget-view+json": {
       "model_id": "e5b298c0aba8481b8ce1bea1b34b686c",
       "version_major": 2,
       "version_minor": 0
      },
      "text/plain": [
       "  0%|          | 0/37382 [00:00<?, ?it/s]"
      ]
     },
     "metadata": {},
     "output_type": "display_data"
    },
    {
     "data": {
      "application/vnd.jupyter.widget-view+json": {
       "model_id": "cec52ca0f3ba454abbfa8afcf1e8b871",
       "version_major": 2,
       "version_minor": 0
      },
      "text/plain": [
       "  0%|          | 0/37382 [00:00<?, ?it/s]"
      ]
     },
     "metadata": {},
     "output_type": "display_data"
    },
    {
     "data": {
      "application/vnd.jupyter.widget-view+json": {
       "model_id": "80523354af4d43a482707506612c0f16",
       "version_major": 2,
       "version_minor": 0
      },
      "text/plain": [
       "  0%|          | 0/37382 [00:00<?, ?it/s]"
      ]
     },
     "metadata": {},
     "output_type": "display_data"
    },
    {
     "data": {
      "application/vnd.jupyter.widget-view+json": {
       "model_id": "58be342bf6f24fa79c30894b2f21d34c",
       "version_major": 2,
       "version_minor": 0
      },
      "text/plain": [
       "  0%|          | 0/37382 [00:00<?, ?it/s]"
      ]
     },
     "metadata": {},
     "output_type": "display_data"
    },
    {
     "data": {
      "application/vnd.jupyter.widget-view+json": {
       "model_id": "fba42184c7fd40eca2ca00470f6b47a7",
       "version_major": 2,
       "version_minor": 0
      },
      "text/plain": [
       "  0%|          | 0/37382 [00:00<?, ?it/s]"
      ]
     },
     "metadata": {},
     "output_type": "display_data"
    },
    {
     "data": {
      "application/vnd.jupyter.widget-view+json": {
       "model_id": "e1368a416a674128a1c1443112e2abf8",
       "version_major": 2,
       "version_minor": 0
      },
      "text/plain": [
       "  0%|          | 0/37382 [00:00<?, ?it/s]"
      ]
     },
     "metadata": {},
     "output_type": "display_data"
    },
    {
     "data": {
      "application/vnd.jupyter.widget-view+json": {
       "model_id": "96d7912630454de69ccef079eefa6b39",
       "version_major": 2,
       "version_minor": 0
      },
      "text/plain": [
       "  0%|          | 0/37382 [00:00<?, ?it/s]"
      ]
     },
     "metadata": {},
     "output_type": "display_data"
    },
    {
     "data": {
      "application/vnd.jupyter.widget-view+json": {
       "model_id": "639d4b4aaa7e49b49ca60cca57946902",
       "version_major": 2,
       "version_minor": 0
      },
      "text/plain": [
       "  0%|          | 0/37382 [00:00<?, ?it/s]"
      ]
     },
     "metadata": {},
     "output_type": "display_data"
    },
    {
     "data": {
      "application/vnd.jupyter.widget-view+json": {
       "model_id": "c03358c5102442a1b7ae08007a5d7e6a",
       "version_major": 2,
       "version_minor": 0
      },
      "text/plain": [
       "  0%|          | 0/37382 [00:00<?, ?it/s]"
      ]
     },
     "metadata": {},
     "output_type": "display_data"
    },
    {
     "data": {
      "application/vnd.jupyter.widget-view+json": {
       "model_id": "d40f1ace9566463bbfc6002054abb00e",
       "version_major": 2,
       "version_minor": 0
      },
      "text/plain": [
       "  0%|          | 0/37382 [00:00<?, ?it/s]"
      ]
     },
     "metadata": {},
     "output_type": "display_data"
    },
    {
     "data": {
      "application/vnd.jupyter.widget-view+json": {
       "model_id": "f5b6b25eacb048ef8b04eaf33c1bbd57",
       "version_major": 2,
       "version_minor": 0
      },
      "text/plain": [
       "  0%|          | 0/37382 [00:00<?, ?it/s]"
      ]
     },
     "metadata": {},
     "output_type": "display_data"
    },
    {
     "data": {
      "application/vnd.jupyter.widget-view+json": {
       "model_id": "44895e8bc6954dbe98685618d309a11d",
       "version_major": 2,
       "version_minor": 0
      },
      "text/plain": [
       "  0%|          | 0/37382 [00:00<?, ?it/s]"
      ]
     },
     "metadata": {},
     "output_type": "display_data"
    },
    {
     "data": {
      "application/vnd.jupyter.widget-view+json": {
       "model_id": "7feb96174b2441919ba495a9ae23d4f1",
       "version_major": 2,
       "version_minor": 0
      },
      "text/plain": [
       "  0%|          | 0/37382 [00:00<?, ?it/s]"
      ]
     },
     "metadata": {},
     "output_type": "display_data"
    },
    {
     "data": {
      "application/vnd.jupyter.widget-view+json": {
       "model_id": "25d5b96370b9459e91b138b648a479fb",
       "version_major": 2,
       "version_minor": 0
      },
      "text/plain": [
       "  0%|          | 0/37382 [00:00<?, ?it/s]"
      ]
     },
     "metadata": {},
     "output_type": "display_data"
    },
    {
     "data": {
      "application/vnd.jupyter.widget-view+json": {
       "model_id": "527b8e79c6624672b5d263f483914a86",
       "version_major": 2,
       "version_minor": 0
      },
      "text/plain": [
       "  0%|          | 0/37382 [00:00<?, ?it/s]"
      ]
     },
     "metadata": {},
     "output_type": "display_data"
    },
    {
     "data": {
      "application/vnd.jupyter.widget-view+json": {
       "model_id": "f07884aa2c0240689b3e3d77eb24d2c1",
       "version_major": 2,
       "version_minor": 0
      },
      "text/plain": [
       "  0%|          | 0/37382 [00:00<?, ?it/s]"
      ]
     },
     "metadata": {},
     "output_type": "display_data"
    },
    {
     "data": {
      "application/vnd.jupyter.widget-view+json": {
       "model_id": "726f8066285942f49c5b66ad6716b4c7",
       "version_major": 2,
       "version_minor": 0
      },
      "text/plain": [
       "  0%|          | 0/37382 [00:00<?, ?it/s]"
      ]
     },
     "metadata": {},
     "output_type": "display_data"
    }
   ],
   "source": [
    "HPC_mse_neur = pd.DataFrame(data=np.zeros((len(peaks.columns),10)),\n",
    "                       index=peaks.columns, columns=['Low', 'High', 'Exons low var',\n",
    "                                                    'Exons high var', 'Exons low cons',\n",
    "                                                    'Exons high cons', 'Peaks low var',\n",
    "                                                    'Peaks high var', 'Peaks low cons',\n",
    "                                                    'Peaks high cons'])\n",
    "HPC_mse_glia = pd.DataFrame(data=np.zeros((len(peaks.columns),10)),\n",
    "                       index=peaks.columns, columns=['Low', 'High', 'Exons low var',\n",
    "                                                    'Exons high var', 'Exons low cons',\n",
    "                                                    'Exons high cons', 'Peaks low var',\n",
    "                                                    'Peaks high var', 'Peaks low cons',\n",
    "                                                    'Peaks high cons'])\n",
    "\n",
    "for RBP in tqdm(peaks.columns):\n",
    "    res_glia, res_neur = mse_peaks(RBP, exons_info.iloc[tokeep.values], \n",
    "                                   peaks, PSI_glia[tokeep], PSI_neur[tokeep])    \n",
    "    HPC_mse_neur.loc[RBP] = res_neur\n",
    "    HPC_mse_glia.loc[RBP] = res_glia"
   ]
  },
  {
   "cell_type": "markdown",
   "id": "71700e41",
   "metadata": {},
   "source": [
    "We follow the same steps for the Frontal Cortex"
   ]
  },
  {
   "cell_type": "code",
   "execution_count": null,
   "id": "2716b7e5",
   "metadata": {},
   "outputs": [],
   "source": [
    "peaks_path = '../../Zenodo/Human/FC/RBP/RBP_coor_repl.pickle'\n",
    "RBP_coor_repl, rows, columns = pd.read_pickle(peaks_path)\n",
    "peaks = pd.DataFrame(RBP_coor_repl, index=rows, columns=columns)\n",
    "peaks.iloc[:5,:5]"
   ]
  },
  {
   "cell_type": "code",
   "execution_count": null,
   "id": "79a67a8e",
   "metadata": {},
   "outputs": [],
   "source": [
    "PSI_glia = pd.read_csv('../../Zenodo/Human/HPC/PSI/PSI_glia_norm.csv', \n",
    "                       index_col=0)\n",
    "PSI_neur = pd.read_csv('../../Zenodo/Human/HPC/PSI/PSI_neur_norm.csv', \n",
    "                       index_col=0)\n",
    "PSI = pd.concat((PSI_glia, PSI_neur), axis=1)\n",
    "PSI.columns = ['Glia', 'Neurons']\n",
    "PSI = PSI.loc[PSI.notna().sum(axis=1) > 1]\n",
    "PSI_glia = PSI_glia.loc[PSI.index]\n",
    "PSI_neur = PSI_neur.loc[PSI.index]"
   ]
  },
  {
   "cell_type": "code",
   "execution_count": null,
   "id": "7b94f99f",
   "metadata": {},
   "outputs": [],
   "source": [
    "RBP_counts = pd.read_csv('Final_PSI_datasets/FC/RBP_peaks.csv', \n",
    "                         index_col=0)\n",
    "\n",
    "# We have to get rid of the .version in the gene name\n",
    "xx = pd.DataFrame(RBP_counts.index)[0].str.split('_', expand=True)\n",
    "RBP_counts.index = xx[0]+'_'+xx[1]+'_'+xx[2]+'_'+xx[3].str.split('.', expand=True)[0]+'_'+xx[4]\n",
    "\n",
    "RBP_counts = RBP_counts.loc[PSI.index]\n",
    "tokeep = np.sum(RBP_counts, axis=1) > 0\n"
   ]
  },
  {
   "cell_type": "code",
   "execution_count": null,
   "id": "3a5d73fe",
   "metadata": {},
   "outputs": [],
   "source": [
    "exons_info = pd.DataFrame(RBP_counts.index)[0].str.split('_',expand=True)\n",
    "exons_info.iloc[:5]"
   ]
  },
  {
   "cell_type": "code",
   "execution_count": null,
   "id": "83daee0a",
   "metadata": {},
   "outputs": [],
   "source": [
    "FC_mse_neur = pd.DataFrame(data=np.zeros((len(peaks.columns),10)),\n",
    "                       index=peaks.columns, columns=['Low', 'High', 'Exons low var',\n",
    "                                                    'Exons high var', 'Exons low cons',\n",
    "                                                    'Exons high cons', 'Peaks low var',\n",
    "                                                    'Peaks high var', 'Peaks low cons',\n",
    "                                                    'Peaks high cons'])\n",
    "FC_mse_glia = pd.DataFrame(data=np.zeros((len(peaks.columns),10)),\n",
    "                       index=peaks.columns, columns=['Low', 'High', 'Exons low var',\n",
    "                                                    'Exons high var', 'Exons low cons',\n",
    "                                                    'Exons high cons', 'Peaks low var',\n",
    "                                                    'Peaks high var', 'Peaks low cons',\n",
    "                                                    'Peaks high cons'])\n",
    "\n",
    "for RBP in tqdm(peaks.columns):\n",
    "    res_glia, res_neur = mse_peaks(RBP, exons_info.iloc[tokeep.values], \n",
    "                                      peaks, PSI_glia[tokeep],\n",
    "                                      PSI_neur[tokeep])    \n",
    "    FC_mse_neur.loc[RBP] = res_neur\n",
    "    FC_mse_glia.loc[RBP] = res_glia"
   ]
  },
  {
   "cell_type": "markdown",
   "id": "95728d80",
   "metadata": {},
   "source": [
    "### Plotting the MSE (Figure 2B)"
   ]
  },
  {
   "cell_type": "code",
   "execution_count": 7,
   "id": "a14e9220",
   "metadata": {},
   "outputs": [],
   "source": [
    "HPC_mse_neur = pd.read_csv('../../Zenodo/Human/HPC/RBP/mse_neur.csv', index_col=0)\n",
    "HPC_mse_glia = pd.read_csv('../../Zenodo/Human/HPC/RBP/mse_glia.csv', index_col=0)\n",
    "\n",
    "# Only keep exons with at least 50 exons in every category\n",
    "tk = (HPC_mse_neur['Exons low var'] > 50) & (HPC_mse_glia['Exons low var'] > 50) & (HPC_mse_neur['Exons high var'] > 50) & (HPC_mse_glia['Exons high var'] > 50)\n",
    "HPC_mse_neur = HPC_mse_neur[tk]\n",
    "HPC_mse_glia = HPC_mse_glia[tk]\n",
    "\n",
    "HPC_mse_glia2 = HPC_mse_glia[['Low', 'High']].melt()\n",
    "HPC_mse_glia2['cell type'] = 'Glia'\n",
    "\n",
    "HPC_mse_neur2 = HPC_mse_neur[['Low', 'High']].melt()\n",
    "HPC_mse_neur2['cell type'] = 'Neurons'\n"
   ]
  },
  {
   "cell_type": "code",
   "execution_count": 8,
   "id": "11e578f5",
   "metadata": {},
   "outputs": [
    {
     "data": {
      "image/png": "[encoded data removed]",
      "text/plain": [
       "<Figure size 216x108 with 1 Axes>"
      ]
     },
     "metadata": {
      "needs_background": "light"
     },
     "output_type": "display_data"
    }
   ],
   "source": [
    "plt.figure(figsize=[3,1.5])\n",
    "sns.boxplot(data=pd.concat((HPC_mse_neur2, HPC_mse_glia2)),\n",
    "            x='value', y='variable', hue='cell type',\n",
    "           palette=['#9DC3E6', '#F4B68C'])\n",
    "sns.despine()\n",
    "plt.xlabel('MSE between cons. and var. exons')\n",
    "plt.ylabel('PSI value')\n",
    "plt.legend(bbox_to_anchor=(1.1, 1.05))\n",
    "plt.show()"
   ]
  },
  {
   "cell_type": "code",
   "execution_count": 4,
   "id": "246331d8",
   "metadata": {},
   "outputs": [],
   "source": [
    "FC_mse_neur = pd.read_csv('../../Zenodo/Human/FC/RBP/mse_neur.csv', index_col=0)\n",
    "FC_mse_glia = pd.read_csv('../../Zenodo/Human/FC/RBP/mse_glia.csv', index_col=0)\n",
    "\n",
    "# Only keep exons with at least 50 exons in every category\n",
    "tk = (FC_mse_neur['Exons low var'] > 50) & (FC_mse_glia['Exons low var'] > 50) & (FC_mse_glia['Exons high var'] > 50) & (FC_mse_neur['Exons high var'] > 50)\n",
    "FC_mse_neur = FC_mse_neur[tk]\n",
    "FC_mse_glia = FC_mse_glia[tk]\n",
    "\n",
    "FC_mse_glia2 = FC_mse_glia[['Low', 'High']].melt()\n",
    "FC_mse_glia2['cell type'] = 'Glia'\n",
    "\n",
    "FC_mse_neur2 = FC_mse_neur[['Low', 'High']].melt()\n",
    "FC_mse_neur2['cell type'] = 'Neurons'"
   ]
  },
  {
   "cell_type": "code",
   "execution_count": 5,
   "id": "b6512488",
   "metadata": {},
   "outputs": [
    {
     "data": {
      "image/png": "[encoded data removed]",
      "text/plain": [
       "<Figure size 216x108 with 1 Axes>"
      ]
     },
     "metadata": {
      "needs_background": "light"
     },
     "output_type": "display_data"
    }
   ],
   "source": [
    "plt.figure(figsize=[3,1.5])\n",
    "sns.boxplot(data=pd.concat((FC_mse_neur2, FC_mse_glia2)),\n",
    "            x='value', y='variable', hue='cell type',\n",
    "           palette=['#9DC3E6', '#F4B68C'])\n",
    "plt.legend([], [], frameon=False)\n",
    "sns.despine()\n",
    "plt.xlabel('MSE between cons. and var. exons')\n",
    "plt.ylabel('PSI value')\n",
    "plt.title('Frontal cortex')\n",
    "plt.show()"
   ]
  },
  {
   "cell_type": "markdown",
   "id": "df29020d",
   "metadata": {},
   "source": [
    "### Check whether the difference between neurons and glia is significant"
   ]
  },
  {
   "cell_type": "code",
   "execution_count": 9,
   "id": "2c579717",
   "metadata": {},
   "outputs": [
    {
     "name": "stdout",
     "output_type": "stream",
     "text": [
      "WilcoxonResult(statistic=599.0, pvalue=2.6445045679439433e-10)\n",
      "WilcoxonResult(statistic=153.0, pvalue=1.893539925427103e-15)\n",
      "WilcoxonResult(statistic=473.0, pvalue=8.982839066503265e-15)\n",
      "WilcoxonResult(statistic=192.0, pvalue=9.51518447580423e-18)\n"
     ]
    }
   ],
   "source": [
    "from scipy.stats import wilcoxon\n",
    "\n",
    "print(wilcoxon(FC_mse_glia2[FC_mse_glia2['variable'] == 'Low']['value'], FC_mse_neur2[FC_mse_neur2['variable'] == 'Low']['value']))\n",
    "print(wilcoxon(FC_mse_glia2[FC_mse_glia2['variable'] == 'High']['value'], FC_mse_neur2[FC_mse_neur2['variable'] == 'High']['value']))\n",
    "\n",
    "print(wilcoxon(HPC_mse_glia2[HPC_mse_glia2['variable'] == 'Low']['value'], HPC_mse_neur2[HPC_mse_neur2['variable'] == 'Low']['value']))\n",
    "print(wilcoxon(HPC_mse_glia2[HPC_mse_glia2['variable'] == 'High']['value'], HPC_mse_neur2[HPC_mse_neur2['variable'] == 'High']['value']))\n",
    "\n"
   ]
  }
 ],
 "metadata": {
  "kernelspec": {
   "display_name": "Python 3 (ipykernel)",
   "language": "python",
   "name": "python3"
  },
  "language_info": {
   "codemirror_mode": {
    "name": "ipython",
    "version": 3
   },
   "file_extension": ".py",
   "mimetype": "text/x-python",
   "name": "python",
   "nbconvert_exporter": "python",
   "pygments_lexer": "ipython3",
   "version": "3.8.3"
  }
 },
 "nbformat": 4,
 "nbformat_minor": 5
}

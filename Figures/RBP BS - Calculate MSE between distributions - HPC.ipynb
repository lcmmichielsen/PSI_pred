{
 "cells": [
  {
   "cell_type": "code",
   "execution_count": 61,
   "id": "95c80317",
   "metadata": {},
   "outputs": [],
   "source": [
    "import pickle\n",
    "import copy as cp\n",
    "import numpy as np\n",
    "import pandas as pd\n",
    "from tqdm.notebook import tqdm\n",
    "from scipy.stats import pearsonr\n",
    "\n",
    "import seaborn as sns\n",
    "from matplotlib import pyplot as plt\n",
    "from sklearn.metrics import mean_squared_error as mse\n",
    "\n",
    "import matplotlib\n",
    "matplotlib.rcParams['pdf.fonttype'] = 42"
   ]
  },
  {
   "cell_type": "code",
   "execution_count": 36,
   "id": "7b87ab82",
   "metadata": {},
   "outputs": [],
   "source": [
    "peaks_path = 'Final_PSI_datasets/HippData/RBP_coor_repl.pickle'\n",
    "with open(peaks_path, 'rb') as handle:\n",
    "    RBP_coor_repl, rows, columns = pickle.load(handle)\n",
    "peaks = pd.DataFrame(RBP_coor_repl, index=rows, columns=columns)\n"
   ]
  },
  {
   "cell_type": "code",
   "execution_count": 57,
   "id": "66391be3",
   "metadata": {},
   "outputs": [
    {
     "data": {
      "text/plain": [
       "(42942, 2)"
      ]
     },
     "execution_count": 57,
     "metadata": {},
     "output_type": "execute_result"
    }
   ],
   "source": [
    "PSI_glia = pd.read_csv('Final_PSI_datasets/HippData/PSI_glia_norm.csv', \n",
    "                       index_col=0)\n",
    "PSI_neur = pd.read_csv('Final_PSI_datasets/HippData/PSI_neur_norm.csv', \n",
    "                       index_col=0)\n",
    "PSI = pd.concat((PSI_glia, PSI_neur), axis=1)\n",
    "PSI.columns = ['Glia', 'Neurons']\n",
    "PSI = PSI.loc[PSI.notna().sum(axis=1) > 1]\n",
    "PSI_glia = PSI_glia.loc[PSI.index]\n",
    "PSI_neur = PSI_neur.loc[PSI.index]\n",
    "np.shape(PSI)"
   ]
  },
  {
   "cell_type": "code",
   "execution_count": 48,
   "id": "8b6fef0b",
   "metadata": {},
   "outputs": [
    {
     "name": "stdout",
     "output_type": "stream",
     "text": [
      "(42942, 732)\n"
     ]
    }
   ],
   "source": [
    "RBP_counts = pd.read_csv('Final_PSI_datasets/HippData/RBP_peaks.csv', \n",
    "                         index_col=0)\n",
    "RBP_counts = RBP_counts.loc[PSI.index]\n",
    "print(np.shape(RBP_counts))\n",
    "tokeep = np.sum(RBP_counts, axis=1) > 0\n"
   ]
  },
  {
   "cell_type": "code",
   "execution_count": 49,
   "id": "5723d4e5",
   "metadata": {},
   "outputs": [
    {
     "data": {
      "text/html": [
       "<div>\n",
       "<style scoped>\n",
       "    .dataframe tbody tr th:only-of-type {\n",
       "        vertical-align: middle;\n",
       "    }\n",
       "\n",
       "    .dataframe tbody tr th {\n",
       "        vertical-align: top;\n",
       "    }\n",
       "\n",
       "    .dataframe thead th {\n",
       "        text-align: right;\n",
       "    }\n",
       "</style>\n",
       "<table border=\"1\" class=\"dataframe\">\n",
       "  <thead>\n",
       "    <tr style=\"text-align: right;\">\n",
       "      <th></th>\n",
       "      <th>0</th>\n",
       "      <th>1</th>\n",
       "      <th>2</th>\n",
       "      <th>3</th>\n",
       "      <th>4</th>\n",
       "    </tr>\n",
       "  </thead>\n",
       "  <tbody>\n",
       "    <tr>\n",
       "      <th>0</th>\n",
       "      <td>chr10</td>\n",
       "      <td>100002942</td>\n",
       "      <td>100003023</td>\n",
       "      <td>ENSG00000107554</td>\n",
       "      <td>-</td>\n",
       "    </tr>\n",
       "    <tr>\n",
       "      <th>1</th>\n",
       "      <td>chr10</td>\n",
       "      <td>1000677</td>\n",
       "      <td>1000868</td>\n",
       "      <td>ENSG00000107937</td>\n",
       "      <td>+</td>\n",
       "    </tr>\n",
       "    <tr>\n",
       "      <th>2</th>\n",
       "      <td>chr10</td>\n",
       "      <td>100158984</td>\n",
       "      <td>100159055</td>\n",
       "      <td>ENSG00000107566</td>\n",
       "      <td>-</td>\n",
       "    </tr>\n",
       "    <tr>\n",
       "      <th>3</th>\n",
       "      <td>chr10</td>\n",
       "      <td>100167348</td>\n",
       "      <td>100167406</td>\n",
       "      <td>ENSG00000107566</td>\n",
       "      <td>-</td>\n",
       "    </tr>\n",
       "    <tr>\n",
       "      <th>4</th>\n",
       "      <td>chr10</td>\n",
       "      <td>100174208</td>\n",
       "      <td>100174281</td>\n",
       "      <td>ENSG00000107566</td>\n",
       "      <td>-</td>\n",
       "    </tr>\n",
       "  </tbody>\n",
       "</table>\n",
       "</div>"
      ],
      "text/plain": [
       "       0          1          2                3  4\n",
       "0  chr10  100002942  100003023  ENSG00000107554  -\n",
       "1  chr10    1000677    1000868  ENSG00000107937  +\n",
       "2  chr10  100158984  100159055  ENSG00000107566  -\n",
       "3  chr10  100167348  100167406  ENSG00000107566  -\n",
       "4  chr10  100174208  100174281  ENSG00000107566  -"
      ]
     },
     "execution_count": 49,
     "metadata": {},
     "output_type": "execute_result"
    }
   ],
   "source": [
    "exons_info = pd.DataFrame(RBP_counts.index)[0].str.split('_',expand=True)\n",
    "exons_info.iloc[:5]"
   ]
  },
  {
   "cell_type": "code",
   "execution_count": 50,
   "id": "48b2cc09",
   "metadata": {},
   "outputs": [
    {
     "name": "stdout",
     "output_type": "stream",
     "text": [
      "0.8511586452762924\n",
      "0.9354012388803502\n"
     ]
    }
   ],
   "source": [
    "# Quickly check how many exons and how many variable exons are long enough\n",
    "exon_var = np.abs(PSI['Glia'] - PSI['Neurons']) > 0.25\n",
    "xx = pd.DataFrame(PSI.index)[0].str.split('_', expand=True)\n",
    "exon_length = np.array(xx[2],dtype=int)-np.array(xx[1], dtype=int)\n",
    "\n",
    "np.sum(exon_length[exon_var] >= 50)\n",
    "\n",
    "print(np.sum(exon_length[exon_var] >= 50)/len(exon_length[exon_var]))\n",
    "print(np.sum(exon_length >= 50)/len(exon_length))\n"
   ]
  },
  {
   "cell_type": "code",
   "execution_count": 67,
   "id": "0b75144c",
   "metadata": {
    "scrolled": true
   },
   "outputs": [
    {
     "data": {
      "application/vnd.jupyter.widget-view+json": {
       "model_id": "6bc678525c624443af71510a69d1adb4",
       "version_major": 2,
       "version_minor": 0
      },
      "text/plain": [
       "  0%|          | 0/122 [00:00<?, ?it/s]"
      ]
     },
     "metadata": {},
     "output_type": "display_data"
    },
    {
     "data": {
      "application/vnd.jupyter.widget-view+json": {
       "model_id": "1271d1d447d14bfe9f80e866ac55b631",
       "version_major": 2,
       "version_minor": 0
      },
      "text/plain": [
       "  0%|          | 0/37382 [00:00<?, ?it/s]"
      ]
     },
     "metadata": {},
     "output_type": "display_data"
    },
    {
     "data": {
      "application/vnd.jupyter.widget-view+json": {
       "model_id": "c5b614a484644bd5b3f480bb8908c3e7",
       "version_major": 2,
       "version_minor": 0
      },
      "text/plain": [
       "  0%|          | 0/37382 [00:00<?, ?it/s]"
      ]
     },
     "metadata": {},
     "output_type": "display_data"
    },
    {
     "data": {
      "application/vnd.jupyter.widget-view+json": {
       "model_id": "94f91db6975349b99b6eb1be356cf3b5",
       "version_major": 2,
       "version_minor": 0
      },
      "text/plain": [
       "  0%|          | 0/37382 [00:00<?, ?it/s]"
      ]
     },
     "metadata": {},
     "output_type": "display_data"
    },
    {
     "data": {
      "application/vnd.jupyter.widget-view+json": {
       "model_id": "11e4fa3cd2fc4d74906b824d9ec76f12",
       "version_major": 2,
       "version_minor": 0
      },
      "text/plain": [
       "  0%|          | 0/37382 [00:00<?, ?it/s]"
      ]
     },
     "metadata": {},
     "output_type": "display_data"
    },
    {
     "data": {
      "application/vnd.jupyter.widget-view+json": {
       "model_id": "afc5615de3e34503b1d8396c0d5559b4",
       "version_major": 2,
       "version_minor": 0
      },
      "text/plain": [
       "  0%|          | 0/37382 [00:00<?, ?it/s]"
      ]
     },
     "metadata": {},
     "output_type": "display_data"
    },
    {
     "data": {
      "application/vnd.jupyter.widget-view+json": {
       "model_id": "82b4f980d5954fadb743f58def0d0dfb",
       "version_major": 2,
       "version_minor": 0
      },
      "text/plain": [
       "  0%|          | 0/37382 [00:00<?, ?it/s]"
      ]
     },
     "metadata": {},
     "output_type": "display_data"
    },
    {
     "data": {
      "application/vnd.jupyter.widget-view+json": {
       "model_id": "5b775761da3945b2987cb3c9aa621689",
       "version_major": 2,
       "version_minor": 0
      },
      "text/plain": [
       "  0%|          | 0/37382 [00:00<?, ?it/s]"
      ]
     },
     "metadata": {},
     "output_type": "display_data"
    },
    {
     "data": {
      "application/vnd.jupyter.widget-view+json": {
       "model_id": "9dfa04c554ed4fa0ae19a3ee6250551d",
       "version_major": 2,
       "version_minor": 0
      },
      "text/plain": [
       "  0%|          | 0/37382 [00:00<?, ?it/s]"
      ]
     },
     "metadata": {},
     "output_type": "display_data"
    },
    {
     "data": {
      "application/vnd.jupyter.widget-view+json": {
       "model_id": "72177413781849b181833938ade43f1e",
       "version_major": 2,
       "version_minor": 0
      },
      "text/plain": [
       "  0%|          | 0/37382 [00:00<?, ?it/s]"
      ]
     },
     "metadata": {},
     "output_type": "display_data"
    },
    {
     "data": {
      "application/vnd.jupyter.widget-view+json": {
       "model_id": "ab33b8c752c84178b93a1e0d59da6c74",
       "version_major": 2,
       "version_minor": 0
      },
      "text/plain": [
       "  0%|          | 0/37382 [00:00<?, ?it/s]"
      ]
     },
     "metadata": {},
     "output_type": "display_data"
    },
    {
     "data": {
      "application/vnd.jupyter.widget-view+json": {
       "model_id": "a7379579173a4954af9c9ad4dd9882ee",
       "version_major": 2,
       "version_minor": 0
      },
      "text/plain": [
       "  0%|          | 0/37382 [00:00<?, ?it/s]"
      ]
     },
     "metadata": {},
     "output_type": "display_data"
    },
    {
     "data": {
      "application/vnd.jupyter.widget-view+json": {
       "model_id": "057a8d09c73b48cda7bd34f4c51836bf",
       "version_major": 2,
       "version_minor": 0
      },
      "text/plain": [
       "  0%|          | 0/37382 [00:00<?, ?it/s]"
      ]
     },
     "metadata": {},
     "output_type": "display_data"
    },
    {
     "data": {
      "application/vnd.jupyter.widget-view+json": {
       "model_id": "cd80baf639c34f81a733656c77a328a7",
       "version_major": 2,
       "version_minor": 0
      },
      "text/plain": [
       "  0%|          | 0/37382 [00:00<?, ?it/s]"
      ]
     },
     "metadata": {},
     "output_type": "display_data"
    },
    {
     "data": {
      "application/vnd.jupyter.widget-view+json": {
       "model_id": "4465670b83264605b2bdbf40ae9ac54b",
       "version_major": 2,
       "version_minor": 0
      },
      "text/plain": [
       "  0%|          | 0/37382 [00:00<?, ?it/s]"
      ]
     },
     "metadata": {},
     "output_type": "display_data"
    },
    {
     "data": {
      "application/vnd.jupyter.widget-view+json": {
       "model_id": "a04501696ae74ef1a84e868931c14020",
       "version_major": 2,
       "version_minor": 0
      },
      "text/plain": [
       "  0%|          | 0/37382 [00:00<?, ?it/s]"
      ]
     },
     "metadata": {},
     "output_type": "display_data"
    },
    {
     "data": {
      "application/vnd.jupyter.widget-view+json": {
       "model_id": "032ffd583a154e78b01fbba2b1b9f807",
       "version_major": 2,
       "version_minor": 0
      },
      "text/plain": [
       "  0%|          | 0/37382 [00:00<?, ?it/s]"
      ]
     },
     "metadata": {},
     "output_type": "display_data"
    },
    {
     "data": {
      "application/vnd.jupyter.widget-view+json": {
       "model_id": "e3ccb5aed88a4771b46146cf043089c5",
       "version_major": 2,
       "version_minor": 0
      },
      "text/plain": [
       "  0%|          | 0/37382 [00:00<?, ?it/s]"
      ]
     },
     "metadata": {},
     "output_type": "display_data"
    },
    {
     "data": {
      "application/vnd.jupyter.widget-view+json": {
       "model_id": "91dfd18c4f124cb293d48c7d5e15b2ca",
       "version_major": 2,
       "version_minor": 0
      },
      "text/plain": [
       "  0%|          | 0/37382 [00:00<?, ?it/s]"
      ]
     },
     "metadata": {},
     "output_type": "display_data"
    },
    {
     "data": {
      "application/vnd.jupyter.widget-view+json": {
       "model_id": "e6fd3cfcd9bd4d6a8cb94ea192a7f7dd",
       "version_major": 2,
       "version_minor": 0
      },
      "text/plain": [
       "  0%|          | 0/37382 [00:00<?, ?it/s]"
      ]
     },
     "metadata": {},
     "output_type": "display_data"
    },
    {
     "data": {
      "application/vnd.jupyter.widget-view+json": {
       "model_id": "e28483ce0078441c83b669c3cf60a6ab",
       "version_major": 2,
       "version_minor": 0
      },
      "text/plain": [
       "  0%|          | 0/37382 [00:00<?, ?it/s]"
      ]
     },
     "metadata": {},
     "output_type": "display_data"
    },
    {
     "data": {
      "application/vnd.jupyter.widget-view+json": {
       "model_id": "d6fc795dd24e4593b97014ec29a48283",
       "version_major": 2,
       "version_minor": 0
      },
      "text/plain": [
       "  0%|          | 0/37382 [00:00<?, ?it/s]"
      ]
     },
     "metadata": {},
     "output_type": "display_data"
    },
    {
     "data": {
      "application/vnd.jupyter.widget-view+json": {
       "model_id": "5c4925a87b454c91a92394860dab30bb",
       "version_major": 2,
       "version_minor": 0
      },
      "text/plain": [
       "  0%|          | 0/37382 [00:00<?, ?it/s]"
      ]
     },
     "metadata": {},
     "output_type": "display_data"
    },
    {
     "data": {
      "application/vnd.jupyter.widget-view+json": {
       "model_id": "e63de3dd7db049499b4ed9bff308031b",
       "version_major": 2,
       "version_minor": 0
      },
      "text/plain": [
       "  0%|          | 0/37382 [00:00<?, ?it/s]"
      ]
     },
     "metadata": {},
     "output_type": "display_data"
    },
    {
     "data": {
      "application/vnd.jupyter.widget-view+json": {
       "model_id": "120dc56f2ec246049c2a27cf1a886739",
       "version_major": 2,
       "version_minor": 0
      },
      "text/plain": [
       "  0%|          | 0/37382 [00:00<?, ?it/s]"
      ]
     },
     "metadata": {},
     "output_type": "display_data"
    },
    {
     "data": {
      "application/vnd.jupyter.widget-view+json": {
       "model_id": "28d90cf2d85c45548f4ae7071e5c1647",
       "version_major": 2,
       "version_minor": 0
      },
      "text/plain": [
       "  0%|          | 0/37382 [00:00<?, ?it/s]"
      ]
     },
     "metadata": {},
     "output_type": "display_data"
    },
    {
     "data": {
      "application/vnd.jupyter.widget-view+json": {
       "model_id": "592db66c94b44b818dc18fe2e1bb0343",
       "version_major": 2,
       "version_minor": 0
      },
      "text/plain": [
       "  0%|          | 0/37382 [00:00<?, ?it/s]"
      ]
     },
     "metadata": {},
     "output_type": "display_data"
    },
    {
     "data": {
      "application/vnd.jupyter.widget-view+json": {
       "model_id": "97aefd6512214e9fac3ec0b18d054f48",
       "version_major": 2,
       "version_minor": 0
      },
      "text/plain": [
       "  0%|          | 0/37382 [00:00<?, ?it/s]"
      ]
     },
     "metadata": {},
     "output_type": "display_data"
    },
    {
     "data": {
      "application/vnd.jupyter.widget-view+json": {
       "model_id": "905c953a5ab549168f2f970309c19916",
       "version_major": 2,
       "version_minor": 0
      },
      "text/plain": [
       "  0%|          | 0/37382 [00:00<?, ?it/s]"
      ]
     },
     "metadata": {},
     "output_type": "display_data"
    },
    {
     "data": {
      "application/vnd.jupyter.widget-view+json": {
       "model_id": "34470e275a3d4aeb81b0b225fc593bfa",
       "version_major": 2,
       "version_minor": 0
      },
      "text/plain": [
       "  0%|          | 0/37382 [00:00<?, ?it/s]"
      ]
     },
     "metadata": {},
     "output_type": "display_data"
    },
    {
     "data": {
      "application/vnd.jupyter.widget-view+json": {
       "model_id": "70bb7d15dd8d44fdb5af01ba641267be",
       "version_major": 2,
       "version_minor": 0
      },
      "text/plain": [
       "  0%|          | 0/37382 [00:00<?, ?it/s]"
      ]
     },
     "metadata": {},
     "output_type": "display_data"
    },
    {
     "data": {
      "application/vnd.jupyter.widget-view+json": {
       "model_id": "add19df5e6564c2da2f1249f376a9e26",
       "version_major": 2,
       "version_minor": 0
      },
      "text/plain": [
       "  0%|          | 0/37382 [00:00<?, ?it/s]"
      ]
     },
     "metadata": {},
     "output_type": "display_data"
    },
    {
     "data": {
      "application/vnd.jupyter.widget-view+json": {
       "model_id": "9105272cc0984237840af7694cd82913",
       "version_major": 2,
       "version_minor": 0
      },
      "text/plain": [
       "  0%|          | 0/37382 [00:00<?, ?it/s]"
      ]
     },
     "metadata": {},
     "output_type": "display_data"
    },
    {
     "data": {
      "application/vnd.jupyter.widget-view+json": {
       "model_id": "19ffd4a3c3ba4804a7d3de86f3b7adbf",
       "version_major": 2,
       "version_minor": 0
      },
      "text/plain": [
       "  0%|          | 0/37382 [00:00<?, ?it/s]"
      ]
     },
     "metadata": {},
     "output_type": "display_data"
    },
    {
     "data": {
      "application/vnd.jupyter.widget-view+json": {
       "model_id": "0995a69eb61842d2b82cb573a56972d9",
       "version_major": 2,
       "version_minor": 0
      },
      "text/plain": [
       "  0%|          | 0/37382 [00:00<?, ?it/s]"
      ]
     },
     "metadata": {},
     "output_type": "display_data"
    },
    {
     "data": {
      "application/vnd.jupyter.widget-view+json": {
       "model_id": "3d826b238250499786046998f0ee02b1",
       "version_major": 2,
       "version_minor": 0
      },
      "text/plain": [
       "  0%|          | 0/37382 [00:00<?, ?it/s]"
      ]
     },
     "metadata": {},
     "output_type": "display_data"
    },
    {
     "data": {
      "application/vnd.jupyter.widget-view+json": {
       "model_id": "6929680b2f4047f682cb54221aeb7c95",
       "version_major": 2,
       "version_minor": 0
      },
      "text/plain": [
       "  0%|          | 0/37382 [00:00<?, ?it/s]"
      ]
     },
     "metadata": {},
     "output_type": "display_data"
    },
    {
     "data": {
      "application/vnd.jupyter.widget-view+json": {
       "model_id": "404a2f1caf8f4f3e9779a78c18bacf0d",
       "version_major": 2,
       "version_minor": 0
      },
      "text/plain": [
       "  0%|          | 0/37382 [00:00<?, ?it/s]"
      ]
     },
     "metadata": {},
     "output_type": "display_data"
    },
    {
     "data": {
      "application/vnd.jupyter.widget-view+json": {
       "model_id": "d7113fe5f09e489b9f6241dc2c432c4f",
       "version_major": 2,
       "version_minor": 0
      },
      "text/plain": [
       "  0%|          | 0/37382 [00:00<?, ?it/s]"
      ]
     },
     "metadata": {},
     "output_type": "display_data"
    },
    {
     "data": {
      "application/vnd.jupyter.widget-view+json": {
       "model_id": "864a52ed9ac24cd6a33033c372a99ced",
       "version_major": 2,
       "version_minor": 0
      },
      "text/plain": [
       "  0%|          | 0/37382 [00:00<?, ?it/s]"
      ]
     },
     "metadata": {},
     "output_type": "display_data"
    },
    {
     "data": {
      "application/vnd.jupyter.widget-view+json": {
       "model_id": "89539641ab4d4a55915abc5d93394cc7",
       "version_major": 2,
       "version_minor": 0
      },
      "text/plain": [
       "  0%|          | 0/37382 [00:00<?, ?it/s]"
      ]
     },
     "metadata": {},
     "output_type": "display_data"
    },
    {
     "data": {
      "application/vnd.jupyter.widget-view+json": {
       "model_id": "2a603befbef94d14aeec62a7b1d1b480",
       "version_major": 2,
       "version_minor": 0
      },
      "text/plain": [
       "  0%|          | 0/37382 [00:00<?, ?it/s]"
      ]
     },
     "metadata": {},
     "output_type": "display_data"
    },
    {
     "data": {
      "application/vnd.jupyter.widget-view+json": {
       "model_id": "93bb6b62ad0d41659de2a9cc2220daaf",
       "version_major": 2,
       "version_minor": 0
      },
      "text/plain": [
       "  0%|          | 0/37382 [00:00<?, ?it/s]"
      ]
     },
     "metadata": {},
     "output_type": "display_data"
    },
    {
     "data": {
      "application/vnd.jupyter.widget-view+json": {
       "model_id": "523c246b517349628cf95231268f7daa",
       "version_major": 2,
       "version_minor": 0
      },
      "text/plain": [
       "  0%|          | 0/37382 [00:00<?, ?it/s]"
      ]
     },
     "metadata": {},
     "output_type": "display_data"
    },
    {
     "data": {
      "application/vnd.jupyter.widget-view+json": {
       "model_id": "8fa0bd2cfd624a8da04fc2d71ea34825",
       "version_major": 2,
       "version_minor": 0
      },
      "text/plain": [
       "  0%|          | 0/37382 [00:00<?, ?it/s]"
      ]
     },
     "metadata": {},
     "output_type": "display_data"
    },
    {
     "data": {
      "application/vnd.jupyter.widget-view+json": {
       "model_id": "081eb1753fc644ac9298f02b324f3996",
       "version_major": 2,
       "version_minor": 0
      },
      "text/plain": [
       "  0%|          | 0/37382 [00:00<?, ?it/s]"
      ]
     },
     "metadata": {},
     "output_type": "display_data"
    },
    {
     "data": {
      "application/vnd.jupyter.widget-view+json": {
       "model_id": "c42c1640ab5b4079842886e5ae91c6a6",
       "version_major": 2,
       "version_minor": 0
      },
      "text/plain": [
       "  0%|          | 0/37382 [00:00<?, ?it/s]"
      ]
     },
     "metadata": {},
     "output_type": "display_data"
    },
    {
     "data": {
      "application/vnd.jupyter.widget-view+json": {
       "model_id": "66b2343fd18d493ba5fc21bf868d7520",
       "version_major": 2,
       "version_minor": 0
      },
      "text/plain": [
       "  0%|          | 0/37382 [00:00<?, ?it/s]"
      ]
     },
     "metadata": {},
     "output_type": "display_data"
    },
    {
     "data": {
      "application/vnd.jupyter.widget-view+json": {
       "model_id": "4b4f64d731d64d7e933bbceeba557b96",
       "version_major": 2,
       "version_minor": 0
      },
      "text/plain": [
       "  0%|          | 0/37382 [00:00<?, ?it/s]"
      ]
     },
     "metadata": {},
     "output_type": "display_data"
    },
    {
     "data": {
      "application/vnd.jupyter.widget-view+json": {
       "model_id": "0409ee760a404e418d7c4f0c73a4d580",
       "version_major": 2,
       "version_minor": 0
      },
      "text/plain": [
       "  0%|          | 0/37382 [00:00<?, ?it/s]"
      ]
     },
     "metadata": {},
     "output_type": "display_data"
    },
    {
     "data": {
      "application/vnd.jupyter.widget-view+json": {
       "model_id": "fb7ceb28641d4e9ca2dec1d8b7813b31",
       "version_major": 2,
       "version_minor": 0
      },
      "text/plain": [
       "  0%|          | 0/37382 [00:00<?, ?it/s]"
      ]
     },
     "metadata": {},
     "output_type": "display_data"
    },
    {
     "data": {
      "application/vnd.jupyter.widget-view+json": {
       "model_id": "3997c5d4045745ffbfdbbfe61ae19eef",
       "version_major": 2,
       "version_minor": 0
      },
      "text/plain": [
       "  0%|          | 0/37382 [00:00<?, ?it/s]"
      ]
     },
     "metadata": {},
     "output_type": "display_data"
    },
    {
     "data": {
      "application/vnd.jupyter.widget-view+json": {
       "model_id": "d8c7f5ffa22f489f9f130a8a4c4cbaba",
       "version_major": 2,
       "version_minor": 0
      },
      "text/plain": [
       "  0%|          | 0/37382 [00:00<?, ?it/s]"
      ]
     },
     "metadata": {},
     "output_type": "display_data"
    },
    {
     "data": {
      "application/vnd.jupyter.widget-view+json": {
       "model_id": "e956a7c93a0a41b38a0ea50cc4adc4b7",
       "version_major": 2,
       "version_minor": 0
      },
      "text/plain": [
       "  0%|          | 0/37382 [00:00<?, ?it/s]"
      ]
     },
     "metadata": {},
     "output_type": "display_data"
    },
    {
     "data": {
      "application/vnd.jupyter.widget-view+json": {
       "model_id": "8268d7bf3b564c62b90e8b5f70186020",
       "version_major": 2,
       "version_minor": 0
      },
      "text/plain": [
       "  0%|          | 0/37382 [00:00<?, ?it/s]"
      ]
     },
     "metadata": {},
     "output_type": "display_data"
    },
    {
     "data": {
      "application/vnd.jupyter.widget-view+json": {
       "model_id": "6573759da65e42a285f9c31c2ce216a9",
       "version_major": 2,
       "version_minor": 0
      },
      "text/plain": [
       "  0%|          | 0/37382 [00:00<?, ?it/s]"
      ]
     },
     "metadata": {},
     "output_type": "display_data"
    },
    {
     "data": {
      "application/vnd.jupyter.widget-view+json": {
       "model_id": "614e8f8f6d104fbbb5d6751228cc411a",
       "version_major": 2,
       "version_minor": 0
      },
      "text/plain": [
       "  0%|          | 0/37382 [00:00<?, ?it/s]"
      ]
     },
     "metadata": {},
     "output_type": "display_data"
    },
    {
     "data": {
      "application/vnd.jupyter.widget-view+json": {
       "model_id": "43a24033ba4b4f90b7d197ec28717cb7",
       "version_major": 2,
       "version_minor": 0
      },
      "text/plain": [
       "  0%|          | 0/37382 [00:00<?, ?it/s]"
      ]
     },
     "metadata": {},
     "output_type": "display_data"
    },
    {
     "data": {
      "application/vnd.jupyter.widget-view+json": {
       "model_id": "d29943b0e8cc4340a856cfec73bdb19a",
       "version_major": 2,
       "version_minor": 0
      },
      "text/plain": [
       "  0%|          | 0/37382 [00:00<?, ?it/s]"
      ]
     },
     "metadata": {},
     "output_type": "display_data"
    },
    {
     "data": {
      "application/vnd.jupyter.widget-view+json": {
       "model_id": "9c333d11230f4119a7cf384e93358624",
       "version_major": 2,
       "version_minor": 0
      },
      "text/plain": [
       "  0%|          | 0/37382 [00:00<?, ?it/s]"
      ]
     },
     "metadata": {},
     "output_type": "display_data"
    },
    {
     "data": {
      "application/vnd.jupyter.widget-view+json": {
       "model_id": "1a5c58dd8b7b46c8b155b5c87c917df6",
       "version_major": 2,
       "version_minor": 0
      },
      "text/plain": [
       "  0%|          | 0/37382 [00:00<?, ?it/s]"
      ]
     },
     "metadata": {},
     "output_type": "display_data"
    },
    {
     "data": {
      "application/vnd.jupyter.widget-view+json": {
       "model_id": "db58db02f27e4160b4117a8bd071b82e",
       "version_major": 2,
       "version_minor": 0
      },
      "text/plain": [
       "  0%|          | 0/37382 [00:00<?, ?it/s]"
      ]
     },
     "metadata": {},
     "output_type": "display_data"
    },
    {
     "data": {
      "application/vnd.jupyter.widget-view+json": {
       "model_id": "446e5b735116499eb7a4d4e5c86f4cbc",
       "version_major": 2,
       "version_minor": 0
      },
      "text/plain": [
       "  0%|          | 0/37382 [00:00<?, ?it/s]"
      ]
     },
     "metadata": {},
     "output_type": "display_data"
    },
    {
     "data": {
      "application/vnd.jupyter.widget-view+json": {
       "model_id": "9241010de5504612a7f5524c066f8ac5",
       "version_major": 2,
       "version_minor": 0
      },
      "text/plain": [
       "  0%|          | 0/37382 [00:00<?, ?it/s]"
      ]
     },
     "metadata": {},
     "output_type": "display_data"
    },
    {
     "data": {
      "application/vnd.jupyter.widget-view+json": {
       "model_id": "20e2d2c66d2d43a4bd07847755e6d25f",
       "version_major": 2,
       "version_minor": 0
      },
      "text/plain": [
       "  0%|          | 0/37382 [00:00<?, ?it/s]"
      ]
     },
     "metadata": {},
     "output_type": "display_data"
    },
    {
     "data": {
      "application/vnd.jupyter.widget-view+json": {
       "model_id": "91cfb8faf13146ec8b328e025ccec0ca",
       "version_major": 2,
       "version_minor": 0
      },
      "text/plain": [
       "  0%|          | 0/37382 [00:00<?, ?it/s]"
      ]
     },
     "metadata": {},
     "output_type": "display_data"
    },
    {
     "data": {
      "application/vnd.jupyter.widget-view+json": {
       "model_id": "59589bd95ce14c5c9faf9889f50bb5ea",
       "version_major": 2,
       "version_minor": 0
      },
      "text/plain": [
       "  0%|          | 0/37382 [00:00<?, ?it/s]"
      ]
     },
     "metadata": {},
     "output_type": "display_data"
    },
    {
     "data": {
      "application/vnd.jupyter.widget-view+json": {
       "model_id": "4f4f07dbf25d41dab5de4dbdc73c7976",
       "version_major": 2,
       "version_minor": 0
      },
      "text/plain": [
       "  0%|          | 0/37382 [00:00<?, ?it/s]"
      ]
     },
     "metadata": {},
     "output_type": "display_data"
    },
    {
     "data": {
      "application/vnd.jupyter.widget-view+json": {
       "model_id": "6cb469aab91549339b40f7999a9a4a80",
       "version_major": 2,
       "version_minor": 0
      },
      "text/plain": [
       "  0%|          | 0/37382 [00:00<?, ?it/s]"
      ]
     },
     "metadata": {},
     "output_type": "display_data"
    },
    {
     "data": {
      "application/vnd.jupyter.widget-view+json": {
       "model_id": "3070568fff8a4154861de46ad1465b7f",
       "version_major": 2,
       "version_minor": 0
      },
      "text/plain": [
       "  0%|          | 0/37382 [00:00<?, ?it/s]"
      ]
     },
     "metadata": {},
     "output_type": "display_data"
    },
    {
     "data": {
      "application/vnd.jupyter.widget-view+json": {
       "model_id": "65bec95196d74bd4adfcb2599eee9647",
       "version_major": 2,
       "version_minor": 0
      },
      "text/plain": [
       "  0%|          | 0/37382 [00:00<?, ?it/s]"
      ]
     },
     "metadata": {},
     "output_type": "display_data"
    },
    {
     "data": {
      "application/vnd.jupyter.widget-view+json": {
       "model_id": "3f3ec2b480274ab086866c98c7c21d0c",
       "version_major": 2,
       "version_minor": 0
      },
      "text/plain": [
       "  0%|          | 0/37382 [00:00<?, ?it/s]"
      ]
     },
     "metadata": {},
     "output_type": "display_data"
    },
    {
     "data": {
      "application/vnd.jupyter.widget-view+json": {
       "model_id": "cf0b7c2730394f80b964e192618aefe7",
       "version_major": 2,
       "version_minor": 0
      },
      "text/plain": [
       "  0%|          | 0/37382 [00:00<?, ?it/s]"
      ]
     },
     "metadata": {},
     "output_type": "display_data"
    },
    {
     "data": {
      "application/vnd.jupyter.widget-view+json": {
       "model_id": "5c53be25dccc4ccd87705b08c9206887",
       "version_major": 2,
       "version_minor": 0
      },
      "text/plain": [
       "  0%|          | 0/37382 [00:00<?, ?it/s]"
      ]
     },
     "metadata": {},
     "output_type": "display_data"
    },
    {
     "data": {
      "application/vnd.jupyter.widget-view+json": {
       "model_id": "ca555ae7db2e408b90e830906169bea3",
       "version_major": 2,
       "version_minor": 0
      },
      "text/plain": [
       "  0%|          | 0/37382 [00:00<?, ?it/s]"
      ]
     },
     "metadata": {},
     "output_type": "display_data"
    },
    {
     "data": {
      "application/vnd.jupyter.widget-view+json": {
       "model_id": "3dc7d1371a234ce2bedfd54a38c6e308",
       "version_major": 2,
       "version_minor": 0
      },
      "text/plain": [
       "  0%|          | 0/37382 [00:00<?, ?it/s]"
      ]
     },
     "metadata": {},
     "output_type": "display_data"
    },
    {
     "data": {
      "application/vnd.jupyter.widget-view+json": {
       "model_id": "cacb4321ef9047b39d2706f71dc4cf03",
       "version_major": 2,
       "version_minor": 0
      },
      "text/plain": [
       "  0%|          | 0/37382 [00:00<?, ?it/s]"
      ]
     },
     "metadata": {},
     "output_type": "display_data"
    },
    {
     "data": {
      "application/vnd.jupyter.widget-view+json": {
       "model_id": "15c18518e0a34356921ea8b3aa5061ec",
       "version_major": 2,
       "version_minor": 0
      },
      "text/plain": [
       "  0%|          | 0/37382 [00:00<?, ?it/s]"
      ]
     },
     "metadata": {},
     "output_type": "display_data"
    },
    {
     "data": {
      "application/vnd.jupyter.widget-view+json": {
       "model_id": "c601e63fb2124f3485dbc90d6fbeb5e5",
       "version_major": 2,
       "version_minor": 0
      },
      "text/plain": [
       "  0%|          | 0/37382 [00:00<?, ?it/s]"
      ]
     },
     "metadata": {},
     "output_type": "display_data"
    },
    {
     "data": {
      "application/vnd.jupyter.widget-view+json": {
       "model_id": "55311f9ccbd84fd597b54eb81b37b4f6",
       "version_major": 2,
       "version_minor": 0
      },
      "text/plain": [
       "  0%|          | 0/37382 [00:00<?, ?it/s]"
      ]
     },
     "metadata": {},
     "output_type": "display_data"
    },
    {
     "data": {
      "application/vnd.jupyter.widget-view+json": {
       "model_id": "8950cc03262844f8af7c33bb6d1a164b",
       "version_major": 2,
       "version_minor": 0
      },
      "text/plain": [
       "  0%|          | 0/37382 [00:00<?, ?it/s]"
      ]
     },
     "metadata": {},
     "output_type": "display_data"
    },
    {
     "data": {
      "application/vnd.jupyter.widget-view+json": {
       "model_id": "6cb841f3eb534ddb95311ffdf2fa6bae",
       "version_major": 2,
       "version_minor": 0
      },
      "text/plain": [
       "  0%|          | 0/37382 [00:00<?, ?it/s]"
      ]
     },
     "metadata": {},
     "output_type": "display_data"
    },
    {
     "data": {
      "application/vnd.jupyter.widget-view+json": {
       "model_id": "5e607906844e4b3c9cc6b1c3ea9eaa07",
       "version_major": 2,
       "version_minor": 0
      },
      "text/plain": [
       "  0%|          | 0/37382 [00:00<?, ?it/s]"
      ]
     },
     "metadata": {},
     "output_type": "display_data"
    },
    {
     "data": {
      "application/vnd.jupyter.widget-view+json": {
       "model_id": "28f82f804b96445c9ff6783e74fe7b70",
       "version_major": 2,
       "version_minor": 0
      },
      "text/plain": [
       "  0%|          | 0/37382 [00:00<?, ?it/s]"
      ]
     },
     "metadata": {},
     "output_type": "display_data"
    },
    {
     "data": {
      "application/vnd.jupyter.widget-view+json": {
       "model_id": "305aa759d2274b66987a185a624b957e",
       "version_major": 2,
       "version_minor": 0
      },
      "text/plain": [
       "  0%|          | 0/37382 [00:00<?, ?it/s]"
      ]
     },
     "metadata": {},
     "output_type": "display_data"
    },
    {
     "data": {
      "application/vnd.jupyter.widget-view+json": {
       "model_id": "5018657a1c524930823477e59780cffe",
       "version_major": 2,
       "version_minor": 0
      },
      "text/plain": [
       "  0%|          | 0/37382 [00:00<?, ?it/s]"
      ]
     },
     "metadata": {},
     "output_type": "display_data"
    },
    {
     "data": {
      "application/vnd.jupyter.widget-view+json": {
       "model_id": "934ce17824e849a485baf8b9982dc39a",
       "version_major": 2,
       "version_minor": 0
      },
      "text/plain": [
       "  0%|          | 0/37382 [00:00<?, ?it/s]"
      ]
     },
     "metadata": {},
     "output_type": "display_data"
    },
    {
     "data": {
      "application/vnd.jupyter.widget-view+json": {
       "model_id": "31d4bb2616db4c9ba89ed28cc3ce0df7",
       "version_major": 2,
       "version_minor": 0
      },
      "text/plain": [
       "  0%|          | 0/37382 [00:00<?, ?it/s]"
      ]
     },
     "metadata": {},
     "output_type": "display_data"
    },
    {
     "data": {
      "application/vnd.jupyter.widget-view+json": {
       "model_id": "d76c245a0f5d44339208eccc0b4212d9",
       "version_major": 2,
       "version_minor": 0
      },
      "text/plain": [
       "  0%|          | 0/37382 [00:00<?, ?it/s]"
      ]
     },
     "metadata": {},
     "output_type": "display_data"
    },
    {
     "data": {
      "application/vnd.jupyter.widget-view+json": {
       "model_id": "364d56ea79a142f3811a66e2a87a01a3",
       "version_major": 2,
       "version_minor": 0
      },
      "text/plain": [
       "  0%|          | 0/37382 [00:00<?, ?it/s]"
      ]
     },
     "metadata": {},
     "output_type": "display_data"
    },
    {
     "data": {
      "application/vnd.jupyter.widget-view+json": {
       "model_id": "26bb21ad068f4ce6b3131c8de0dd75f1",
       "version_major": 2,
       "version_minor": 0
      },
      "text/plain": [
       "  0%|          | 0/37382 [00:00<?, ?it/s]"
      ]
     },
     "metadata": {},
     "output_type": "display_data"
    },
    {
     "data": {
      "application/vnd.jupyter.widget-view+json": {
       "model_id": "35cf0878bf5e4fdd96c0db2cf7d2d105",
       "version_major": 2,
       "version_minor": 0
      },
      "text/plain": [
       "  0%|          | 0/37382 [00:00<?, ?it/s]"
      ]
     },
     "metadata": {},
     "output_type": "display_data"
    },
    {
     "data": {
      "application/vnd.jupyter.widget-view+json": {
       "model_id": "22a6c90d1df041e3be50d13175704e93",
       "version_major": 2,
       "version_minor": 0
      },
      "text/plain": [
       "  0%|          | 0/37382 [00:00<?, ?it/s]"
      ]
     },
     "metadata": {},
     "output_type": "display_data"
    },
    {
     "data": {
      "application/vnd.jupyter.widget-view+json": {
       "model_id": "209318c49e8543ccb53a5e4e662626ea",
       "version_major": 2,
       "version_minor": 0
      },
      "text/plain": [
       "  0%|          | 0/37382 [00:00<?, ?it/s]"
      ]
     },
     "metadata": {},
     "output_type": "display_data"
    },
    {
     "data": {
      "application/vnd.jupyter.widget-view+json": {
       "model_id": "14b70d8b61254d1da915802dcf5cdd85",
       "version_major": 2,
       "version_minor": 0
      },
      "text/plain": [
       "  0%|          | 0/37382 [00:00<?, ?it/s]"
      ]
     },
     "metadata": {},
     "output_type": "display_data"
    },
    {
     "data": {
      "application/vnd.jupyter.widget-view+json": {
       "model_id": "0c84f958a711438695eb405b35bb50da",
       "version_major": 2,
       "version_minor": 0
      },
      "text/plain": [
       "  0%|          | 0/37382 [00:00<?, ?it/s]"
      ]
     },
     "metadata": {},
     "output_type": "display_data"
    },
    {
     "data": {
      "application/vnd.jupyter.widget-view+json": {
       "model_id": "c9a6ced2cfd2487b9438cb422c08af90",
       "version_major": 2,
       "version_minor": 0
      },
      "text/plain": [
       "  0%|          | 0/37382 [00:00<?, ?it/s]"
      ]
     },
     "metadata": {},
     "output_type": "display_data"
    },
    {
     "data": {
      "application/vnd.jupyter.widget-view+json": {
       "model_id": "8aa9ac8b949b48138ddf01ff208d7cd8",
       "version_major": 2,
       "version_minor": 0
      },
      "text/plain": [
       "  0%|          | 0/37382 [00:00<?, ?it/s]"
      ]
     },
     "metadata": {},
     "output_type": "display_data"
    },
    {
     "data": {
      "application/vnd.jupyter.widget-view+json": {
       "model_id": "e29b60e981da49b98a40860b167c0e90",
       "version_major": 2,
       "version_minor": 0
      },
      "text/plain": [
       "  0%|          | 0/37382 [00:00<?, ?it/s]"
      ]
     },
     "metadata": {},
     "output_type": "display_data"
    },
    {
     "data": {
      "application/vnd.jupyter.widget-view+json": {
       "model_id": "f7bebb2621a54003809f10178acf4abd",
       "version_major": 2,
       "version_minor": 0
      },
      "text/plain": [
       "  0%|          | 0/37382 [00:00<?, ?it/s]"
      ]
     },
     "metadata": {},
     "output_type": "display_data"
    },
    {
     "data": {
      "application/vnd.jupyter.widget-view+json": {
       "model_id": "163535f28d234793be921214fc3653a1",
       "version_major": 2,
       "version_minor": 0
      },
      "text/plain": [
       "  0%|          | 0/37382 [00:00<?, ?it/s]"
      ]
     },
     "metadata": {},
     "output_type": "display_data"
    },
    {
     "data": {
      "application/vnd.jupyter.widget-view+json": {
       "model_id": "6a33a1b3591a4f6f88e96ea742b46a33",
       "version_major": 2,
       "version_minor": 0
      },
      "text/plain": [
       "  0%|          | 0/37382 [00:00<?, ?it/s]"
      ]
     },
     "metadata": {},
     "output_type": "display_data"
    },
    {
     "data": {
      "application/vnd.jupyter.widget-view+json": {
       "model_id": "1ffb2bf73e864191ac2ad69485b059d6",
       "version_major": 2,
       "version_minor": 0
      },
      "text/plain": [
       "  0%|          | 0/37382 [00:00<?, ?it/s]"
      ]
     },
     "metadata": {},
     "output_type": "display_data"
    },
    {
     "data": {
      "application/vnd.jupyter.widget-view+json": {
       "model_id": "f5e8539e678b4bcfb24175147411e096",
       "version_major": 2,
       "version_minor": 0
      },
      "text/plain": [
       "  0%|          | 0/37382 [00:00<?, ?it/s]"
      ]
     },
     "metadata": {},
     "output_type": "display_data"
    },
    {
     "data": {
      "application/vnd.jupyter.widget-view+json": {
       "model_id": "bc0c670b604345a0bf492a68b47d3098",
       "version_major": 2,
       "version_minor": 0
      },
      "text/plain": [
       "  0%|          | 0/37382 [00:00<?, ?it/s]"
      ]
     },
     "metadata": {},
     "output_type": "display_data"
    },
    {
     "data": {
      "application/vnd.jupyter.widget-view+json": {
       "model_id": "43fc872f58da4585ae3fb06a5ed21199",
       "version_major": 2,
       "version_minor": 0
      },
      "text/plain": [
       "  0%|          | 0/37382 [00:00<?, ?it/s]"
      ]
     },
     "metadata": {},
     "output_type": "display_data"
    },
    {
     "data": {
      "application/vnd.jupyter.widget-view+json": {
       "model_id": "f95a7db029394738bf171d8646dc2a8c",
       "version_major": 2,
       "version_minor": 0
      },
      "text/plain": [
       "  0%|          | 0/37382 [00:00<?, ?it/s]"
      ]
     },
     "metadata": {},
     "output_type": "display_data"
    },
    {
     "data": {
      "application/vnd.jupyter.widget-view+json": {
       "model_id": "0203c6d3dce748e6a65834f2ba35d852",
       "version_major": 2,
       "version_minor": 0
      },
      "text/plain": [
       "  0%|          | 0/37382 [00:00<?, ?it/s]"
      ]
     },
     "metadata": {},
     "output_type": "display_data"
    },
    {
     "data": {
      "application/vnd.jupyter.widget-view+json": {
       "model_id": "956bb5839c24451f8b2d9704b14868a0",
       "version_major": 2,
       "version_minor": 0
      },
      "text/plain": [
       "  0%|          | 0/37382 [00:00<?, ?it/s]"
      ]
     },
     "metadata": {},
     "output_type": "display_data"
    },
    {
     "data": {
      "application/vnd.jupyter.widget-view+json": {
       "model_id": "68635bc5c81d4ce0a1a8046aa896f927",
       "version_major": 2,
       "version_minor": 0
      },
      "text/plain": [
       "  0%|          | 0/37382 [00:00<?, ?it/s]"
      ]
     },
     "metadata": {},
     "output_type": "display_data"
    },
    {
     "data": {
      "application/vnd.jupyter.widget-view+json": {
       "model_id": "d6db90cdf0774183aaf8e8a77e919c89",
       "version_major": 2,
       "version_minor": 0
      },
      "text/plain": [
       "  0%|          | 0/37382 [00:00<?, ?it/s]"
      ]
     },
     "metadata": {},
     "output_type": "display_data"
    },
    {
     "data": {
      "application/vnd.jupyter.widget-view+json": {
       "model_id": "24fd24c1e71f49c4a4ac5f4ebc48f62c",
       "version_major": 2,
       "version_minor": 0
      },
      "text/plain": [
       "  0%|          | 0/37382 [00:00<?, ?it/s]"
      ]
     },
     "metadata": {},
     "output_type": "display_data"
    },
    {
     "data": {
      "application/vnd.jupyter.widget-view+json": {
       "model_id": "8dce6a75c01d47e8ae4d7792ab8a8906",
       "version_major": 2,
       "version_minor": 0
      },
      "text/plain": [
       "  0%|          | 0/37382 [00:00<?, ?it/s]"
      ]
     },
     "metadata": {},
     "output_type": "display_data"
    },
    {
     "data": {
      "application/vnd.jupyter.widget-view+json": {
       "model_id": "7b072905c5e1413bb255de26e4f52b5a",
       "version_major": 2,
       "version_minor": 0
      },
      "text/plain": [
       "  0%|          | 0/37382 [00:00<?, ?it/s]"
      ]
     },
     "metadata": {},
     "output_type": "display_data"
    },
    {
     "data": {
      "application/vnd.jupyter.widget-view+json": {
       "model_id": "7ed461e4884c42489ccc903327c25557",
       "version_major": 2,
       "version_minor": 0
      },
      "text/plain": [
       "  0%|          | 0/37382 [00:00<?, ?it/s]"
      ]
     },
     "metadata": {},
     "output_type": "display_data"
    },
    {
     "data": {
      "application/vnd.jupyter.widget-view+json": {
       "model_id": "e85aae3f1a264e09975f33de9b47b01a",
       "version_major": 2,
       "version_minor": 0
      },
      "text/plain": [
       "  0%|          | 0/37382 [00:00<?, ?it/s]"
      ]
     },
     "metadata": {},
     "output_type": "display_data"
    },
    {
     "data": {
      "application/vnd.jupyter.widget-view+json": {
       "model_id": "1072e6482604444c99476f96b3453c78",
       "version_major": 2,
       "version_minor": 0
      },
      "text/plain": [
       "  0%|          | 0/37382 [00:00<?, ?it/s]"
      ]
     },
     "metadata": {},
     "output_type": "display_data"
    },
    {
     "data": {
      "application/vnd.jupyter.widget-view+json": {
       "model_id": "de4a890ac3744c2f9e6e7285aabb3ce8",
       "version_major": 2,
       "version_minor": 0
      },
      "text/plain": [
       "  0%|          | 0/37382 [00:00<?, ?it/s]"
      ]
     },
     "metadata": {},
     "output_type": "display_data"
    },
    {
     "data": {
      "application/vnd.jupyter.widget-view+json": {
       "model_id": "22ccc59b7cc94bcd898663e4229f7c62",
       "version_major": 2,
       "version_minor": 0
      },
      "text/plain": [
       "  0%|          | 0/37382 [00:00<?, ?it/s]"
      ]
     },
     "metadata": {},
     "output_type": "display_data"
    },
    {
     "data": {
      "application/vnd.jupyter.widget-view+json": {
       "model_id": "be1d6b44ee0d4b188d46a726964fc47b",
       "version_major": 2,
       "version_minor": 0
      },
      "text/plain": [
       "  0%|          | 0/37382 [00:00<?, ?it/s]"
      ]
     },
     "metadata": {},
     "output_type": "display_data"
    },
    {
     "data": {
      "application/vnd.jupyter.widget-view+json": {
       "model_id": "b97bcf1ecb4345399322f3e3c111f548",
       "version_major": 2,
       "version_minor": 0
      },
      "text/plain": [
       "  0%|          | 0/37382 [00:00<?, ?it/s]"
      ]
     },
     "metadata": {},
     "output_type": "display_data"
    },
    {
     "data": {
      "application/vnd.jupyter.widget-view+json": {
       "model_id": "702df4ac2c4c46989ed81a5c0e6966c9",
       "version_major": 2,
       "version_minor": 0
      },
      "text/plain": [
       "  0%|          | 0/37382 [00:00<?, ?it/s]"
      ]
     },
     "metadata": {},
     "output_type": "display_data"
    },
    {
     "data": {
      "application/vnd.jupyter.widget-view+json": {
       "model_id": "87e8e2b5c4114d5693ddc717ccb8c4ad",
       "version_major": 2,
       "version_minor": 0
      },
      "text/plain": [
       "  0%|          | 0/37382 [00:00<?, ?it/s]"
      ]
     },
     "metadata": {},
     "output_type": "display_data"
    }
   ],
   "source": [
    "HPC_mse_neur = pd.DataFrame(data=np.zeros((len(peaks.columns),10)),\n",
    "                       index=peaks.columns, columns=['Low', 'High', 'Exons low var',\n",
    "                                                    'Exons high var', 'Exons low cons',\n",
    "                                                    'Exons high cons', 'Peaks low var',\n",
    "                                                    'Peaks high var', 'Peaks low cons',\n",
    "                                                    'Peaks high cons'])\n",
    "HPC_mse_glia = pd.DataFrame(data=np.zeros((len(peaks.columns),10)),\n",
    "                       index=peaks.columns, columns=['Low', 'High', 'Exons low var',\n",
    "                                                    'Exons high var', 'Exons low cons',\n",
    "                                                    'Exons high cons', 'Peaks low var',\n",
    "                                                    'Peaks high var', 'Peaks low cons',\n",
    "                                                    'Peaks high cons'])\n",
    "\n",
    "for RBP in tqdm(peaks.columns):\n",
    "    res_glia, res_neur = mse_peaks(RBP, exons_info.iloc[tokeep.values], \n",
    "                                      peaks, PSI_glia[tokeep],\n",
    "                                      PSI_neur[tokeep], RBP_counts[tokeep])    \n",
    "    HPC_mse_neur.loc[RBP] = res_neur\n",
    "    HPC_mse_glia.loc[RBP] = res_glia"
   ]
  },
  {
   "cell_type": "code",
   "execution_count": 70,
   "id": "771cf5c9",
   "metadata": {},
   "outputs": [],
   "source": [
    "HPC_mse_neur.to_csv('Final_PSI_datasets/HippData/mse_neur.csv')\n",
    "HPC_mse_glia.to_csv('Final_PSI_datasets/HippData/mse_glia.csv')"
   ]
  },
  {
   "cell_type": "code",
   "execution_count": 96,
   "id": "b02caa3f",
   "metadata": {},
   "outputs": [],
   "source": [
    "HPC_mse_neur = pd.read_csv('Final_PSI_datasets/HippData/mse_neur.csv', index_col=0)\n",
    "HPC_mse_glia = pd.read_csv('Final_PSI_datasets/HippData/mse_glia.csv', index_col=0)"
   ]
  },
  {
   "cell_type": "code",
   "execution_count": 97,
   "id": "1ac70a18",
   "metadata": {},
   "outputs": [],
   "source": [
    "HPC_mse_glia2 = HPC_mse_glia[['Low', 'High']].melt()\n",
    "HPC_mse_glia2['cell type'] = 'Glia'\n",
    "\n",
    "HPC_mse_neur2 = HPC_mse_neur[['Low', 'High']].melt()\n",
    "HPC_mse_neur2['cell type'] = 'Neurons'\n",
    "\n"
   ]
  },
  {
   "cell_type": "code",
   "execution_count": 98,
   "id": "6514263e",
   "metadata": {},
   "outputs": [],
   "source": [
    "tk = (HPC_mse_neur['Exons low var'] > 50) & (HPC_mse_glia['Exons low var'] > 50)\n",
    "HPC_mse_neur = HPC_mse_neur[tk]\n",
    "HPC_mse_glia = HPC_mse_glia[tk]"
   ]
  },
  {
   "cell_type": "code",
   "execution_count": 109,
   "id": "39fe8205",
   "metadata": {},
   "outputs": [
    {
     "data": {
      "image/png": "[encoded data removed]",
      "text/plain": [
       "<Figure size 288x144 with 1 Axes>"
      ]
     },
     "metadata": {
      "needs_background": "light"
     },
     "output_type": "display_data"
    }
   ],
   "source": [
    "plt.figure(figsize=[4,2])\n",
    "sns.boxplot(data=pd.concat((HPC_mse_neur2, HPC_mse_glia2)),\n",
    "            x='value', y='variable', hue='cell type',\n",
    "           palette=['#9DC3E6', '#F4B68C'])\n",
    "sns.despine()\n",
    "plt.xlabel('MSE between cons. and var. exons')\n",
    "plt.ylabel('PSI value')\n",
    "plt.show()"
   ]
  },
  {
   "cell_type": "code",
   "execution_count": 63,
   "id": "8e29f510",
   "metadata": {},
   "outputs": [],
   "source": [
    "def mse_peaks(RBP, exons_info, peaks, PSI_glia, PSI_neur, RBP_counts):\n",
    "    \n",
    "    rng = 400\n",
    "    bins = 50\n",
    "        \n",
    "    bins_RBP = np.zeros((len(exons_info),850))\n",
    "\n",
    "    for k in tqdm(range(len(exons_info))):\n",
    "\n",
    "        pk_start = peaks[RBP].loc[exons_info[3].values[k]][:,0]\n",
    "        pk_end = peaks[RBP].loc[exons_info[3].values[k]][:,1]\n",
    "        exon_start = int(exons_info[1].iloc[k])\n",
    "        exon_end = int(exons_info[2].iloc[k])\n",
    "\n",
    "        if exon_end - exon_start < 50:\n",
    "            continue\n",
    "\n",
    "        start_bins=[]\n",
    "        end_bins=[]\n",
    "\n",
    "        ## Check 1\n",
    "        start_bin1 = pk_start - exon_start + rng\n",
    "        start_bin1_keep = (start_bin1 >= 0)  & (start_bin1 < rng)\n",
    "        start_bins.extend(start_bin1[start_bin1_keep])\n",
    "\n",
    "        end_bin1 = pk_end - exon_start + rng\n",
    "        end_bin1_keep = (end_bin1 >= 0) & (end_bin1 < rng)\n",
    "        end_bins.extend(end_bin1[end_bin1_keep])\n",
    "\n",
    "        ## Check 2\n",
    "        start_bin2 = np.round(np.array((bins/(exon_end-exon_start))*(pk_start-exon_start), dtype=float)) + rng\n",
    "        start_bin2_keep = (start_bin2 >= 400) & (start_bin2 <= 450)\n",
    "        start_bins.extend(start_bin2[start_bin2_keep])\n",
    "\n",
    "        end_bin2 = np.round(np.array((bins/(exon_end-exon_start))*(pk_end-exon_start), dtype=float)) + rng\n",
    "        end_bin2_keep = (end_bin2 >= 400) & (end_bin2 <= 450)\n",
    "        end_bins.extend(end_bin2[end_bin2_keep])\n",
    "\n",
    "        ## Check 3\n",
    "        start_bin3 = pk_start - exon_end + rng + bins\n",
    "        start_bin3_keep = (start_bin3 > 450) & (start_bin3 < 850)\n",
    "        start_bins.extend(start_bin3[start_bin3_keep])\n",
    "\n",
    "        end_bin3 = pk_end - exon_end + rng + bins\n",
    "        end_bin3_keep = (end_bin3 > 450) & (end_bin3 < 850)\n",
    "        end_bins.extend(end_bin3[end_bin3_keep])\n",
    "\n",
    "        start_bins=np.array(start_bins,dtype=int)\n",
    "        end_bins=np.array(end_bins,dtype=int)\n",
    "\n",
    "        if len(end_bins) > 0:\n",
    "\n",
    "            if len(start_bins) == 0:\n",
    "                bins_RBP[k,:end_bins[0]] = 1\n",
    "            elif end_bins[0] < start_bins[0]:\n",
    "                bins_RBP[k,:end_bins[0]] = 1\n",
    "                j = 1\n",
    "            else:\n",
    "                j = 0\n",
    "\n",
    "        for i in range(len(start_bins)):\n",
    "            \n",
    "            if len(end_bins) == 0:\n",
    "                bins_RBP[k,start_bins[i]:] = 1\n",
    "            \n",
    "            elif j >= len(end_bins):\n",
    "                bins_RBP[k,start_bins[i]:] = 1\n",
    "            else:\n",
    "                bins_RBP[k,start_bins[i]:end_bins[j]] = 1\n",
    "                j += 1\n",
    "\n",
    "        if exons_info[4].iloc[k] == '-':\n",
    "            bins_RBP[k] = np.flip(bins_RBP[k])\n",
    "\n",
    "    var_exons = np.abs(PSI_glia['0'] - PSI_neur['0']) > 0.25\n",
    "    cons_exons = np.abs(PSI_glia['0'] - PSI_neur['0']) <= 0.25\n",
    "    \n",
    "    bins_RBP_var = bins_RBP[var_exons]\n",
    "    bins_RBP_cons = bins_RBP[cons_exons]\n",
    "    \n",
    "    ### Glia\n",
    "    PSI_var = PSI_glia[var_exons]\n",
    "    PSI_cons = PSI_glia[cons_exons]\n",
    "    \n",
    "    bins_RBP_sum_lowPSI_var = np.sum(bins_RBP_var[PSI_var['0'] < 0.5], axis=0)/np.sum(PSI_var['0'] < 0.5)\n",
    "    bins_RBP_sum_higPSI_var = np.sum(bins_RBP_var[PSI_var['0'] >= 0.5], axis=0)/np.sum(PSI_var['0'] >= 0.5)    \n",
    "    bins_RBP_sum_lowPSI_cons = np.sum(bins_RBP_cons[PSI_cons['0'] < 0.5], axis=0)/np.sum(PSI_cons['0'] < 0.5)\n",
    "    bins_RBP_sum_higPSI_cons = np.sum(bins_RBP_cons[PSI_cons['0'] >= 0.5], axis=0)/np.sum(PSI_cons['0'] >= 0.5)\n",
    "    \n",
    "    low_mse = mse(bins_RBP_sum_lowPSI_var, bins_RBP_sum_lowPSI_cons)\n",
    "    high_mse = mse(bins_RBP_sum_higPSI_var, bins_RBP_sum_higPSI_cons)\n",
    "    \n",
    "    exons_low_var = np.sum(np.sum(bins_RBP_var[PSI_var['0'] < 0.5], axis=1) > 0)\n",
    "    exons_hig_var = np.sum(np.sum(bins_RBP_var[PSI_var['0'] >= 0.5], axis=1) > 0)\n",
    "    exons_low_cons = np.sum(np.sum(bins_RBP_cons[PSI_cons['0'] < 0.5], axis=1) > 0)\n",
    "    exons_hig_cons = np.sum(np.sum(bins_RBP_cons[PSI_cons['0'] >= 0.5], axis=1) > 0)\n",
    "\n",
    "    peaks_low_var = np.sum(bins_RBP_var[PSI_var['0'] < 0.5])\n",
    "    peaks_hig_var = np.sum(bins_RBP_var[PSI_var['0'] >= 0.5])\n",
    "    peaks_low_cons = np.sum(bins_RBP_cons[PSI_cons['0'] < 0.5])\n",
    "    peaks_hig_cons = np.sum(bins_RBP_cons[PSI_cons['0'] >= 0.5])\n",
    "    \n",
    "    res_glia = cp.deepcopy(np.array([low_mse, high_mse, exons_low_var, exons_hig_var, \n",
    "                    exons_low_cons, exons_hig_cons, peaks_low_var,\n",
    "                    peaks_hig_var, peaks_low_cons, peaks_hig_cons]))\n",
    "    ## Neurons\n",
    "    PSI_var = PSI_neur[var_exons]\n",
    "    PSI_cons = PSI_neur[cons_exons]\n",
    "    \n",
    "    bins_RBP_sum_lowPSI_var = np.sum(bins_RBP_var[PSI_var['0'] < 0.5], axis=0)/np.sum(PSI_var['0'] < 0.5)\n",
    "    bins_RBP_sum_higPSI_var = np.sum(bins_RBP_var[PSI_var['0'] >= 0.5], axis=0)/np.sum(PSI_var['0'] >= 0.5)    \n",
    "    bins_RBP_sum_lowPSI_cons = np.sum(bins_RBP_cons[PSI_cons['0'] < 0.5], axis=0)/np.sum(PSI_cons['0'] < 0.5)\n",
    "    bins_RBP_sum_higPSI_cons = np.sum(bins_RBP_cons[PSI_cons['0'] >= 0.5], axis=0)/np.sum(PSI_cons['0'] >= 0.5)\n",
    "    \n",
    "    low_mse = mse(bins_RBP_sum_lowPSI_var, bins_RBP_sum_lowPSI_cons)\n",
    "    high_mse = mse(bins_RBP_sum_higPSI_var, bins_RBP_sum_higPSI_cons)\n",
    "    \n",
    "    exons_low_var = np.sum(np.sum(bins_RBP_var[PSI_var['0'] < 0.5], axis=1) > 0)\n",
    "    exons_hig_var = np.sum(np.sum(bins_RBP_var[PSI_var['0'] >= 0.5], axis=1) > 0)\n",
    "    exons_low_cons = np.sum(np.sum(bins_RBP_cons[PSI_cons['0'] < 0.5], axis=1) > 0)\n",
    "    exons_hig_cons = np.sum(np.sum(bins_RBP_cons[PSI_cons['0'] >= 0.5], axis=1) > 0)\n",
    "\n",
    "    peaks_low_var = np.sum(bins_RBP_var[PSI_var['0'] < 0.5])\n",
    "    peaks_hig_var = np.sum(bins_RBP_var[PSI_var['0'] >= 0.5])\n",
    "    peaks_low_cons = np.sum(bins_RBP_cons[PSI_cons['0'] < 0.5])\n",
    "    peaks_hig_cons = np.sum(bins_RBP_cons[PSI_cons['0'] >= 0.5])\n",
    "    \n",
    "    res_neur = cp.deepcopy(np.array([low_mse, high_mse, exons_low_var, exons_hig_var, \n",
    "                    exons_low_cons, exons_hig_cons, peaks_low_var,\n",
    "                    peaks_hig_var, peaks_low_cons, peaks_hig_cons]))\n",
    "\n",
    "    \n",
    "    return res_glia, res_neur"
   ]
  },
  {
   "cell_type": "code",
   "execution_count": null,
   "id": "fa719cb2",
   "metadata": {},
   "outputs": [],
   "source": []
  }
 ],
 "metadata": {
  "kernelspec": {
   "display_name": "Python 3 (ipykernel)",
   "language": "python",
   "name": "python3"
  },
  "language_info": {
   "codemirror_mode": {
    "name": "ipython",
    "version": 3
   },
   "file_extension": ".py",
   "mimetype": "text/x-python",
   "name": "python",
   "nbconvert_exporter": "python",
   "pygments_lexer": "ipython3",
   "version": "3.8.3"
  }
 },
 "nbformat": 4,
 "nbformat_minor": 5
}

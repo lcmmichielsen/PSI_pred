{
 "cells": [
  {
   "cell_type": "code",
   "execution_count": 1,
   "id": "95c80317",
   "metadata": {},
   "outputs": [],
   "source": [
    "import pickle\n",
    "import copy as cp\n",
    "import numpy as np\n",
    "import pandas as pd\n",
    "from tqdm.notebook import tqdm\n",
    "from scipy.stats import pearsonr\n",
    "\n",
    "import seaborn as sns\n",
    "from matplotlib import pyplot as plt\n",
    "from sklearn.metrics import mean_squared_error as mse\n",
    "\n",
    "import matplotlib\n",
    "matplotlib.rcParams['pdf.fonttype'] = 42"
   ]
  },
  {
   "cell_type": "code",
   "execution_count": 2,
   "id": "7b87ab82",
   "metadata": {},
   "outputs": [],
   "source": [
    "peaks_path = 'Final_PSI_datasets/FC/RBP_coor_repl.pickle'\n",
    "with open(peaks_path, 'rb') as handle:\n",
    "    RBP_coor_repl, rows, columns = pickle.load(handle)\n",
    "peaks = pd.DataFrame(RBP_coor_repl, index=rows, columns=columns)\n"
   ]
  },
  {
   "cell_type": "code",
   "execution_count": 4,
   "id": "66391be3",
   "metadata": {},
   "outputs": [
    {
     "data": {
      "text/plain": [
       "(29066, 2)"
      ]
     },
     "execution_count": 4,
     "metadata": {},
     "output_type": "execute_result"
    }
   ],
   "source": [
    "PSI_glia = pd.read_csv('Final_PSI_datasets/FC/PSI_glia_norm.csv', \n",
    "                       index_col=0)\n",
    "PSI_neur = pd.read_csv('Final_PSI_datasets/FC/PSI_neur_norm.csv', \n",
    "                       index_col=0)\n",
    "PSI = pd.concat((PSI_glia, PSI_neur), axis=1)\n",
    "PSI.columns = ['Glia', 'Neurons']\n",
    "PSI = PSI.loc[PSI.notna().sum(axis=1) > 1]\n",
    "PSI_glia = PSI_glia.loc[PSI.index]\n",
    "PSI_neur = PSI_neur.loc[PSI.index]\n",
    "np.shape(PSI)"
   ]
  },
  {
   "cell_type": "code",
   "execution_count": 24,
   "id": "8b6fef0b",
   "metadata": {},
   "outputs": [
    {
     "name": "stdout",
     "output_type": "stream",
     "text": [
      "(29066, 732)\n"
     ]
    }
   ],
   "source": [
    "RBP_counts = pd.read_csv('Final_PSI_datasets/FC/RBP_peaks.csv', \n",
    "                         index_col=0)\n",
    "xx = pd.DataFrame(RBP_counts.index)[0].str.split('_', expand=True)\n",
    "RBP_counts.index = xx[0]+'_'+xx[1]+'_'+xx[2]+'_'+xx[3].str.split('.', expand=True)[0]+'_'+xx[4]\n",
    "\n",
    "RBP_counts = RBP_counts.loc[PSI.index]\n",
    "print(np.shape(RBP_counts))\n",
    "tokeep = np.sum(RBP_counts, axis=1) > 0\n"
   ]
  },
  {
   "cell_type": "code",
   "execution_count": 25,
   "id": "5723d4e5",
   "metadata": {},
   "outputs": [
    {
     "data": {
      "text/html": [
       "<div>\n",
       "<style scoped>\n",
       "    .dataframe tbody tr th:only-of-type {\n",
       "        vertical-align: middle;\n",
       "    }\n",
       "\n",
       "    .dataframe tbody tr th {\n",
       "        vertical-align: top;\n",
       "    }\n",
       "\n",
       "    .dataframe thead th {\n",
       "        text-align: right;\n",
       "    }\n",
       "</style>\n",
       "<table border=\"1\" class=\"dataframe\">\n",
       "  <thead>\n",
       "    <tr style=\"text-align: right;\">\n",
       "      <th></th>\n",
       "      <th>0</th>\n",
       "      <th>1</th>\n",
       "      <th>2</th>\n",
       "      <th>3</th>\n",
       "      <th>4</th>\n",
       "    </tr>\n",
       "  </thead>\n",
       "  <tbody>\n",
       "    <tr>\n",
       "      <th>0</th>\n",
       "      <td>chr10</td>\n",
       "      <td>100158984</td>\n",
       "      <td>100159055</td>\n",
       "      <td>ENSG00000107566</td>\n",
       "      <td>-</td>\n",
       "    </tr>\n",
       "    <tr>\n",
       "      <th>1</th>\n",
       "      <td>chr10</td>\n",
       "      <td>100167348</td>\n",
       "      <td>100167406</td>\n",
       "      <td>ENSG00000107566</td>\n",
       "      <td>-</td>\n",
       "    </tr>\n",
       "    <tr>\n",
       "      <th>2</th>\n",
       "      <td>chr10</td>\n",
       "      <td>100183756</td>\n",
       "      <td>100183837</td>\n",
       "      <td>ENSG00000107566</td>\n",
       "      <td>-</td>\n",
       "    </tr>\n",
       "    <tr>\n",
       "      <th>3</th>\n",
       "      <td>chr10</td>\n",
       "      <td>100202088</td>\n",
       "      <td>100202149</td>\n",
       "      <td>ENSG00000213341</td>\n",
       "      <td>-</td>\n",
       "    </tr>\n",
       "    <tr>\n",
       "      <th>4</th>\n",
       "      <td>chr10</td>\n",
       "      <td>100235667</td>\n",
       "      <td>100235764</td>\n",
       "      <td>ENSG00000095485</td>\n",
       "      <td>-</td>\n",
       "    </tr>\n",
       "  </tbody>\n",
       "</table>\n",
       "</div>"
      ],
      "text/plain": [
       "       0          1          2                3  4\n",
       "0  chr10  100158984  100159055  ENSG00000107566  -\n",
       "1  chr10  100167348  100167406  ENSG00000107566  -\n",
       "2  chr10  100183756  100183837  ENSG00000107566  -\n",
       "3  chr10  100202088  100202149  ENSG00000213341  -\n",
       "4  chr10  100235667  100235764  ENSG00000095485  -"
      ]
     },
     "execution_count": 25,
     "metadata": {},
     "output_type": "execute_result"
    }
   ],
   "source": [
    "exons_info = pd.DataFrame(RBP_counts.index)[0].str.split('_',expand=True)\n",
    "exons_info.iloc[:5]"
   ]
  },
  {
   "cell_type": "code",
   "execution_count": 26,
   "id": "48b2cc09",
   "metadata": {},
   "outputs": [
    {
     "name": "stdout",
     "output_type": "stream",
     "text": [
      "0.8102481985588471\n",
      "0.9037363242276198\n"
     ]
    }
   ],
   "source": [
    "# Quickly check how many exons and how many variable exons are long enough\n",
    "exon_var = np.abs(PSI['Glia'] - PSI['Neurons']) > 0.25\n",
    "xx = pd.DataFrame(PSI.index)[0].str.split('_', expand=True)\n",
    "exon_length = np.array(xx[2],dtype=int)-np.array(xx[1], dtype=int)\n",
    "\n",
    "np.sum(exon_length[exon_var] >= 50)\n",
    "\n",
    "print(np.sum(exon_length[exon_var] >= 50)/len(exon_length[exon_var]))\n",
    "print(np.sum(exon_length >= 50)/len(exon_length))\n"
   ]
  },
  {
   "cell_type": "code",
   "execution_count": 29,
   "id": "0b75144c",
   "metadata": {
    "scrolled": true
   },
   "outputs": [
    {
     "data": {
      "application/vnd.jupyter.widget-view+json": {
       "model_id": "10949945c4c6437b9b7e0b456b480df4",
       "version_major": 2,
       "version_minor": 0
      },
      "text/plain": [
       "  0%|          | 0/122 [00:00<?, ?it/s]"
      ]
     },
     "metadata": {},
     "output_type": "display_data"
    },
    {
     "data": {
      "application/vnd.jupyter.widget-view+json": {
       "model_id": "c75c18595afe46e49675becfdd33f0dd",
       "version_major": 2,
       "version_minor": 0
      },
      "text/plain": [
       "  0%|          | 0/25604 [00:00<?, ?it/s]"
      ]
     },
     "metadata": {},
     "output_type": "display_data"
    },
    {
     "data": {
      "application/vnd.jupyter.widget-view+json": {
       "model_id": "50c97259866d446a95aa389e65418a41",
       "version_major": 2,
       "version_minor": 0
      },
      "text/plain": [
       "  0%|          | 0/25604 [00:00<?, ?it/s]"
      ]
     },
     "metadata": {},
     "output_type": "display_data"
    },
    {
     "data": {
      "application/vnd.jupyter.widget-view+json": {
       "model_id": "dfb872bea222493894255765ee7add2a",
       "version_major": 2,
       "version_minor": 0
      },
      "text/plain": [
       "  0%|          | 0/25604 [00:00<?, ?it/s]"
      ]
     },
     "metadata": {},
     "output_type": "display_data"
    },
    {
     "data": {
      "application/vnd.jupyter.widget-view+json": {
       "model_id": "9fa6a71bb1b841658c3c3cde37b9e491",
       "version_major": 2,
       "version_minor": 0
      },
      "text/plain": [
       "  0%|          | 0/25604 [00:00<?, ?it/s]"
      ]
     },
     "metadata": {},
     "output_type": "display_data"
    },
    {
     "data": {
      "application/vnd.jupyter.widget-view+json": {
       "model_id": "cfdb7875b190489ab403e004760f2917",
       "version_major": 2,
       "version_minor": 0
      },
      "text/plain": [
       "  0%|          | 0/25604 [00:00<?, ?it/s]"
      ]
     },
     "metadata": {},
     "output_type": "display_data"
    },
    {
     "data": {
      "application/vnd.jupyter.widget-view+json": {
       "model_id": "5ff2a7e13d4f469190805ce959a30ffc",
       "version_major": 2,
       "version_minor": 0
      },
      "text/plain": [
       "  0%|          | 0/25604 [00:00<?, ?it/s]"
      ]
     },
     "metadata": {},
     "output_type": "display_data"
    },
    {
     "data": {
      "application/vnd.jupyter.widget-view+json": {
       "model_id": "ae672eb56c7a4740ba829513699381b8",
       "version_major": 2,
       "version_minor": 0
      },
      "text/plain": [
       "  0%|          | 0/25604 [00:00<?, ?it/s]"
      ]
     },
     "metadata": {},
     "output_type": "display_data"
    },
    {
     "data": {
      "application/vnd.jupyter.widget-view+json": {
       "model_id": "81041194a40746ccbe7db3a5a0a0027d",
       "version_major": 2,
       "version_minor": 0
      },
      "text/plain": [
       "  0%|          | 0/25604 [00:00<?, ?it/s]"
      ]
     },
     "metadata": {},
     "output_type": "display_data"
    },
    {
     "data": {
      "application/vnd.jupyter.widget-view+json": {
       "model_id": "e34d1c360af2478baf3d6570274493f9",
       "version_major": 2,
       "version_minor": 0
      },
      "text/plain": [
       "  0%|          | 0/25604 [00:00<?, ?it/s]"
      ]
     },
     "metadata": {},
     "output_type": "display_data"
    },
    {
     "data": {
      "application/vnd.jupyter.widget-view+json": {
       "model_id": "bc4ea2b7dff849a28c1e1d07d24a0527",
       "version_major": 2,
       "version_minor": 0
      },
      "text/plain": [
       "  0%|          | 0/25604 [00:00<?, ?it/s]"
      ]
     },
     "metadata": {},
     "output_type": "display_data"
    },
    {
     "data": {
      "application/vnd.jupyter.widget-view+json": {
       "model_id": "76d108c70a394b77a824d77c8ca773a3",
       "version_major": 2,
       "version_minor": 0
      },
      "text/plain": [
       "  0%|          | 0/25604 [00:00<?, ?it/s]"
      ]
     },
     "metadata": {},
     "output_type": "display_data"
    },
    {
     "data": {
      "application/vnd.jupyter.widget-view+json": {
       "model_id": "515dd4c8fc644835bba8bce61600dd70",
       "version_major": 2,
       "version_minor": 0
      },
      "text/plain": [
       "  0%|          | 0/25604 [00:00<?, ?it/s]"
      ]
     },
     "metadata": {},
     "output_type": "display_data"
    },
    {
     "data": {
      "application/vnd.jupyter.widget-view+json": {
       "model_id": "f6c7c8726a964d2a95f4dd5e46c38bba",
       "version_major": 2,
       "version_minor": 0
      },
      "text/plain": [
       "  0%|          | 0/25604 [00:00<?, ?it/s]"
      ]
     },
     "metadata": {},
     "output_type": "display_data"
    },
    {
     "data": {
      "application/vnd.jupyter.widget-view+json": {
       "model_id": "39e4fdc4d0494d32920506d732d74ccf",
       "version_major": 2,
       "version_minor": 0
      },
      "text/plain": [
       "  0%|          | 0/25604 [00:00<?, ?it/s]"
      ]
     },
     "metadata": {},
     "output_type": "display_data"
    },
    {
     "data": {
      "application/vnd.jupyter.widget-view+json": {
       "model_id": "b4221cce692a443abb53ca6437183207",
       "version_major": 2,
       "version_minor": 0
      },
      "text/plain": [
       "  0%|          | 0/25604 [00:00<?, ?it/s]"
      ]
     },
     "metadata": {},
     "output_type": "display_data"
    },
    {
     "data": {
      "application/vnd.jupyter.widget-view+json": {
       "model_id": "a14ea40ad2f74fac97be6feffff8b03f",
       "version_major": 2,
       "version_minor": 0
      },
      "text/plain": [
       "  0%|          | 0/25604 [00:00<?, ?it/s]"
      ]
     },
     "metadata": {},
     "output_type": "display_data"
    },
    {
     "data": {
      "application/vnd.jupyter.widget-view+json": {
       "model_id": "87d6fec281234d3ab2473c1845489360",
       "version_major": 2,
       "version_minor": 0
      },
      "text/plain": [
       "  0%|          | 0/25604 [00:00<?, ?it/s]"
      ]
     },
     "metadata": {},
     "output_type": "display_data"
    },
    {
     "data": {
      "application/vnd.jupyter.widget-view+json": {
       "model_id": "8e42a528a2714713baa315d1adbf4920",
       "version_major": 2,
       "version_minor": 0
      },
      "text/plain": [
       "  0%|          | 0/25604 [00:00<?, ?it/s]"
      ]
     },
     "metadata": {},
     "output_type": "display_data"
    },
    {
     "data": {
      "application/vnd.jupyter.widget-view+json": {
       "model_id": "4595f3e208c64af49da8bdbffa957d1d",
       "version_major": 2,
       "version_minor": 0
      },
      "text/plain": [
       "  0%|          | 0/25604 [00:00<?, ?it/s]"
      ]
     },
     "metadata": {},
     "output_type": "display_data"
    },
    {
     "data": {
      "application/vnd.jupyter.widget-view+json": {
       "model_id": "5bc51e00264e45fbb12535162fc8a743",
       "version_major": 2,
       "version_minor": 0
      },
      "text/plain": [
       "  0%|          | 0/25604 [00:00<?, ?it/s]"
      ]
     },
     "metadata": {},
     "output_type": "display_data"
    },
    {
     "data": {
      "application/vnd.jupyter.widget-view+json": {
       "model_id": "511a2e9acb8e49dcbe33bc99266e010c",
       "version_major": 2,
       "version_minor": 0
      },
      "text/plain": [
       "  0%|          | 0/25604 [00:00<?, ?it/s]"
      ]
     },
     "metadata": {},
     "output_type": "display_data"
    },
    {
     "data": {
      "application/vnd.jupyter.widget-view+json": {
       "model_id": "f8e41b8f179f4caea69fdb4f27aedfa6",
       "version_major": 2,
       "version_minor": 0
      },
      "text/plain": [
       "  0%|          | 0/25604 [00:00<?, ?it/s]"
      ]
     },
     "metadata": {},
     "output_type": "display_data"
    },
    {
     "data": {
      "application/vnd.jupyter.widget-view+json": {
       "model_id": "f14a9831145d42afb7b1ec52aa5206b2",
       "version_major": 2,
       "version_minor": 0
      },
      "text/plain": [
       "  0%|          | 0/25604 [00:00<?, ?it/s]"
      ]
     },
     "metadata": {},
     "output_type": "display_data"
    },
    {
     "data": {
      "application/vnd.jupyter.widget-view+json": {
       "model_id": "708f1e13430e4eeaabd9614a2b239ab7",
       "version_major": 2,
       "version_minor": 0
      },
      "text/plain": [
       "  0%|          | 0/25604 [00:00<?, ?it/s]"
      ]
     },
     "metadata": {},
     "output_type": "display_data"
    },
    {
     "data": {
      "application/vnd.jupyter.widget-view+json": {
       "model_id": "213bb3d4091d4c94a6e2618a3d4c68fc",
       "version_major": 2,
       "version_minor": 0
      },
      "text/plain": [
       "  0%|          | 0/25604 [00:00<?, ?it/s]"
      ]
     },
     "metadata": {},
     "output_type": "display_data"
    },
    {
     "data": {
      "application/vnd.jupyter.widget-view+json": {
       "model_id": "2c9fd4dff60f486293abf1f049723ab9",
       "version_major": 2,
       "version_minor": 0
      },
      "text/plain": [
       "  0%|          | 0/25604 [00:00<?, ?it/s]"
      ]
     },
     "metadata": {},
     "output_type": "display_data"
    },
    {
     "data": {
      "application/vnd.jupyter.widget-view+json": {
       "model_id": "d0b406aece3f49fd912167e57cb6dfed",
       "version_major": 2,
       "version_minor": 0
      },
      "text/plain": [
       "  0%|          | 0/25604 [00:00<?, ?it/s]"
      ]
     },
     "metadata": {},
     "output_type": "display_data"
    },
    {
     "data": {
      "application/vnd.jupyter.widget-view+json": {
       "model_id": "9d4f66a9140e4117836d8d7a0390db0b",
       "version_major": 2,
       "version_minor": 0
      },
      "text/plain": [
       "  0%|          | 0/25604 [00:00<?, ?it/s]"
      ]
     },
     "metadata": {},
     "output_type": "display_data"
    },
    {
     "data": {
      "application/vnd.jupyter.widget-view+json": {
       "model_id": "a5c32e3b486b47fe8ab8e662a5828e01",
       "version_major": 2,
       "version_minor": 0
      },
      "text/plain": [
       "  0%|          | 0/25604 [00:00<?, ?it/s]"
      ]
     },
     "metadata": {},
     "output_type": "display_data"
    },
    {
     "data": {
      "application/vnd.jupyter.widget-view+json": {
       "model_id": "f24b09177f874d138e4e40604c5b50ce",
       "version_major": 2,
       "version_minor": 0
      },
      "text/plain": [
       "  0%|          | 0/25604 [00:00<?, ?it/s]"
      ]
     },
     "metadata": {},
     "output_type": "display_data"
    },
    {
     "data": {
      "application/vnd.jupyter.widget-view+json": {
       "model_id": "350f300b1dd04093a645f39cda0c918d",
       "version_major": 2,
       "version_minor": 0
      },
      "text/plain": [
       "  0%|          | 0/25604 [00:00<?, ?it/s]"
      ]
     },
     "metadata": {},
     "output_type": "display_data"
    },
    {
     "data": {
      "application/vnd.jupyter.widget-view+json": {
       "model_id": "d115777b77e745ea8ca081e5df8249da",
       "version_major": 2,
       "version_minor": 0
      },
      "text/plain": [
       "  0%|          | 0/25604 [00:00<?, ?it/s]"
      ]
     },
     "metadata": {},
     "output_type": "display_data"
    },
    {
     "data": {
      "application/vnd.jupyter.widget-view+json": {
       "model_id": "8f9af91eab3748b29162279fb855258a",
       "version_major": 2,
       "version_minor": 0
      },
      "text/plain": [
       "  0%|          | 0/25604 [00:00<?, ?it/s]"
      ]
     },
     "metadata": {},
     "output_type": "display_data"
    },
    {
     "data": {
      "application/vnd.jupyter.widget-view+json": {
       "model_id": "43ede6cc08ff44fc9ebc0ab2cea6f266",
       "version_major": 2,
       "version_minor": 0
      },
      "text/plain": [
       "  0%|          | 0/25604 [00:00<?, ?it/s]"
      ]
     },
     "metadata": {},
     "output_type": "display_data"
    },
    {
     "data": {
      "application/vnd.jupyter.widget-view+json": {
       "model_id": "e3979579c9cf431fb84de5d70c14be4b",
       "version_major": 2,
       "version_minor": 0
      },
      "text/plain": [
       "  0%|          | 0/25604 [00:00<?, ?it/s]"
      ]
     },
     "metadata": {},
     "output_type": "display_data"
    },
    {
     "data": {
      "application/vnd.jupyter.widget-view+json": {
       "model_id": "a120b524a23d4cab875e1b7d852db49d",
       "version_major": 2,
       "version_minor": 0
      },
      "text/plain": [
       "  0%|          | 0/25604 [00:00<?, ?it/s]"
      ]
     },
     "metadata": {},
     "output_type": "display_data"
    },
    {
     "data": {
      "application/vnd.jupyter.widget-view+json": {
       "model_id": "038ed645eef744b8b3f5d07e72e80aab",
       "version_major": 2,
       "version_minor": 0
      },
      "text/plain": [
       "  0%|          | 0/25604 [00:00<?, ?it/s]"
      ]
     },
     "metadata": {},
     "output_type": "display_data"
    },
    {
     "data": {
      "application/vnd.jupyter.widget-view+json": {
       "model_id": "5a7193e07d3d4fbd8f8bb876f99ecd9a",
       "version_major": 2,
       "version_minor": 0
      },
      "text/plain": [
       "  0%|          | 0/25604 [00:00<?, ?it/s]"
      ]
     },
     "metadata": {},
     "output_type": "display_data"
    },
    {
     "data": {
      "application/vnd.jupyter.widget-view+json": {
       "model_id": "8465cffaab204b22b0559c9b259ba97b",
       "version_major": 2,
       "version_minor": 0
      },
      "text/plain": [
       "  0%|          | 0/25604 [00:00<?, ?it/s]"
      ]
     },
     "metadata": {},
     "output_type": "display_data"
    },
    {
     "data": {
      "application/vnd.jupyter.widget-view+json": {
       "model_id": "76cef1bd592b444d91629d753fc05f9f",
       "version_major": 2,
       "version_minor": 0
      },
      "text/plain": [
       "  0%|          | 0/25604 [00:00<?, ?it/s]"
      ]
     },
     "metadata": {},
     "output_type": "display_data"
    },
    {
     "data": {
      "application/vnd.jupyter.widget-view+json": {
       "model_id": "83905c13fc3841ecb4486f024c24da6d",
       "version_major": 2,
       "version_minor": 0
      },
      "text/plain": [
       "  0%|          | 0/25604 [00:00<?, ?it/s]"
      ]
     },
     "metadata": {},
     "output_type": "display_data"
    },
    {
     "data": {
      "application/vnd.jupyter.widget-view+json": {
       "model_id": "906574a7cc2a4ddfb3e80b092cade634",
       "version_major": 2,
       "version_minor": 0
      },
      "text/plain": [
       "  0%|          | 0/25604 [00:00<?, ?it/s]"
      ]
     },
     "metadata": {},
     "output_type": "display_data"
    },
    {
     "data": {
      "application/vnd.jupyter.widget-view+json": {
       "model_id": "a407cc1009bf46dea5c289e071902c5c",
       "version_major": 2,
       "version_minor": 0
      },
      "text/plain": [
       "  0%|          | 0/25604 [00:00<?, ?it/s]"
      ]
     },
     "metadata": {},
     "output_type": "display_data"
    },
    {
     "data": {
      "application/vnd.jupyter.widget-view+json": {
       "model_id": "921cb9d354d74dfba4a2f3b536cf796d",
       "version_major": 2,
       "version_minor": 0
      },
      "text/plain": [
       "  0%|          | 0/25604 [00:00<?, ?it/s]"
      ]
     },
     "metadata": {},
     "output_type": "display_data"
    },
    {
     "data": {
      "application/vnd.jupyter.widget-view+json": {
       "model_id": "f0d1c2461d8f4b4b93dceb1fb809f48f",
       "version_major": 2,
       "version_minor": 0
      },
      "text/plain": [
       "  0%|          | 0/25604 [00:00<?, ?it/s]"
      ]
     },
     "metadata": {},
     "output_type": "display_data"
    },
    {
     "data": {
      "application/vnd.jupyter.widget-view+json": {
       "model_id": "98f0b719087c434eb7161acfffe607a5",
       "version_major": 2,
       "version_minor": 0
      },
      "text/plain": [
       "  0%|          | 0/25604 [00:00<?, ?it/s]"
      ]
     },
     "metadata": {},
     "output_type": "display_data"
    },
    {
     "data": {
      "application/vnd.jupyter.widget-view+json": {
       "model_id": "63fe3279f61b4145a534ed8199414d3f",
       "version_major": 2,
       "version_minor": 0
      },
      "text/plain": [
       "  0%|          | 0/25604 [00:00<?, ?it/s]"
      ]
     },
     "metadata": {},
     "output_type": "display_data"
    },
    {
     "data": {
      "application/vnd.jupyter.widget-view+json": {
       "model_id": "f578343b6b8c4206857a5d9c9f4fcd98",
       "version_major": 2,
       "version_minor": 0
      },
      "text/plain": [
       "  0%|          | 0/25604 [00:00<?, ?it/s]"
      ]
     },
     "metadata": {},
     "output_type": "display_data"
    },
    {
     "data": {
      "application/vnd.jupyter.widget-view+json": {
       "model_id": "7166ad1c3ecd4e73ba8c3653c1e44f1a",
       "version_major": 2,
       "version_minor": 0
      },
      "text/plain": [
       "  0%|          | 0/25604 [00:00<?, ?it/s]"
      ]
     },
     "metadata": {},
     "output_type": "display_data"
    },
    {
     "data": {
      "application/vnd.jupyter.widget-view+json": {
       "model_id": "776521a9f9124d2cbc65d6b794ed70b4",
       "version_major": 2,
       "version_minor": 0
      },
      "text/plain": [
       "  0%|          | 0/25604 [00:00<?, ?it/s]"
      ]
     },
     "metadata": {},
     "output_type": "display_data"
    },
    {
     "data": {
      "application/vnd.jupyter.widget-view+json": {
       "model_id": "e18300502aad4baa82729a641739c492",
       "version_major": 2,
       "version_minor": 0
      },
      "text/plain": [
       "  0%|          | 0/25604 [00:00<?, ?it/s]"
      ]
     },
     "metadata": {},
     "output_type": "display_data"
    },
    {
     "data": {
      "application/vnd.jupyter.widget-view+json": {
       "model_id": "852cb199672a461fb0c6cfabe35461e4",
       "version_major": 2,
       "version_minor": 0
      },
      "text/plain": [
       "  0%|          | 0/25604 [00:00<?, ?it/s]"
      ]
     },
     "metadata": {},
     "output_type": "display_data"
    },
    {
     "data": {
      "application/vnd.jupyter.widget-view+json": {
       "model_id": "1267f1848af343c29db809d1fc56f4e7",
       "version_major": 2,
       "version_minor": 0
      },
      "text/plain": [
       "  0%|          | 0/25604 [00:00<?, ?it/s]"
      ]
     },
     "metadata": {},
     "output_type": "display_data"
    },
    {
     "data": {
      "application/vnd.jupyter.widget-view+json": {
       "model_id": "dd77d6d33eba4eef9f5487333dce3dae",
       "version_major": 2,
       "version_minor": 0
      },
      "text/plain": [
       "  0%|          | 0/25604 [00:00<?, ?it/s]"
      ]
     },
     "metadata": {},
     "output_type": "display_data"
    },
    {
     "data": {
      "application/vnd.jupyter.widget-view+json": {
       "model_id": "47b2f787607d43ecb9c78b6ff52a1214",
       "version_major": 2,
       "version_minor": 0
      },
      "text/plain": [
       "  0%|          | 0/25604 [00:00<?, ?it/s]"
      ]
     },
     "metadata": {},
     "output_type": "display_data"
    },
    {
     "data": {
      "application/vnd.jupyter.widget-view+json": {
       "model_id": "230b6a0fdbc94718928f52f29340b156",
       "version_major": 2,
       "version_minor": 0
      },
      "text/plain": [
       "  0%|          | 0/25604 [00:00<?, ?it/s]"
      ]
     },
     "metadata": {},
     "output_type": "display_data"
    },
    {
     "data": {
      "application/vnd.jupyter.widget-view+json": {
       "model_id": "b3e6666440704d9392a1e345f09d2a93",
       "version_major": 2,
       "version_minor": 0
      },
      "text/plain": [
       "  0%|          | 0/25604 [00:00<?, ?it/s]"
      ]
     },
     "metadata": {},
     "output_type": "display_data"
    },
    {
     "data": {
      "application/vnd.jupyter.widget-view+json": {
       "model_id": "d9f6932bde6643a394e55474d2cc1636",
       "version_major": 2,
       "version_minor": 0
      },
      "text/plain": [
       "  0%|          | 0/25604 [00:00<?, ?it/s]"
      ]
     },
     "metadata": {},
     "output_type": "display_data"
    },
    {
     "data": {
      "application/vnd.jupyter.widget-view+json": {
       "model_id": "f823959cb51b4984b7b68eaefbee6765",
       "version_major": 2,
       "version_minor": 0
      },
      "text/plain": [
       "  0%|          | 0/25604 [00:00<?, ?it/s]"
      ]
     },
     "metadata": {},
     "output_type": "display_data"
    },
    {
     "data": {
      "application/vnd.jupyter.widget-view+json": {
       "model_id": "96ce3ddd61764391bdb5a205e894ed92",
       "version_major": 2,
       "version_minor": 0
      },
      "text/plain": [
       "  0%|          | 0/25604 [00:00<?, ?it/s]"
      ]
     },
     "metadata": {},
     "output_type": "display_data"
    },
    {
     "data": {
      "application/vnd.jupyter.widget-view+json": {
       "model_id": "d4511eac457d4543bc2d158768edbdfb",
       "version_major": 2,
       "version_minor": 0
      },
      "text/plain": [
       "  0%|          | 0/25604 [00:00<?, ?it/s]"
      ]
     },
     "metadata": {},
     "output_type": "display_data"
    },
    {
     "data": {
      "application/vnd.jupyter.widget-view+json": {
       "model_id": "eb1c57a656304004acf298ebbb87557d",
       "version_major": 2,
       "version_minor": 0
      },
      "text/plain": [
       "  0%|          | 0/25604 [00:00<?, ?it/s]"
      ]
     },
     "metadata": {},
     "output_type": "display_data"
    },
    {
     "data": {
      "application/vnd.jupyter.widget-view+json": {
       "model_id": "9d015293688e4ab7ad628cd3de0a78a3",
       "version_major": 2,
       "version_minor": 0
      },
      "text/plain": [
       "  0%|          | 0/25604 [00:00<?, ?it/s]"
      ]
     },
     "metadata": {},
     "output_type": "display_data"
    },
    {
     "data": {
      "application/vnd.jupyter.widget-view+json": {
       "model_id": "8150c40612e548fa96e61e1879ac1623",
       "version_major": 2,
       "version_minor": 0
      },
      "text/plain": [
       "  0%|          | 0/25604 [00:00<?, ?it/s]"
      ]
     },
     "metadata": {},
     "output_type": "display_data"
    },
    {
     "data": {
      "application/vnd.jupyter.widget-view+json": {
       "model_id": "8349cddcce7f4b32848ed46087102e0c",
       "version_major": 2,
       "version_minor": 0
      },
      "text/plain": [
       "  0%|          | 0/25604 [00:00<?, ?it/s]"
      ]
     },
     "metadata": {},
     "output_type": "display_data"
    },
    {
     "data": {
      "application/vnd.jupyter.widget-view+json": {
       "model_id": "2d0066c8cd5a4f5e99f2aa6164e5c450",
       "version_major": 2,
       "version_minor": 0
      },
      "text/plain": [
       "  0%|          | 0/25604 [00:00<?, ?it/s]"
      ]
     },
     "metadata": {},
     "output_type": "display_data"
    },
    {
     "data": {
      "application/vnd.jupyter.widget-view+json": {
       "model_id": "701af6d6818345cba4272e4e1701dff2",
       "version_major": 2,
       "version_minor": 0
      },
      "text/plain": [
       "  0%|          | 0/25604 [00:00<?, ?it/s]"
      ]
     },
     "metadata": {},
     "output_type": "display_data"
    },
    {
     "data": {
      "application/vnd.jupyter.widget-view+json": {
       "model_id": "99dd0498f02f4e418dfc12e9e4dccf0d",
       "version_major": 2,
       "version_minor": 0
      },
      "text/plain": [
       "  0%|          | 0/25604 [00:00<?, ?it/s]"
      ]
     },
     "metadata": {},
     "output_type": "display_data"
    },
    {
     "data": {
      "application/vnd.jupyter.widget-view+json": {
       "model_id": "e0ac2c7d68914713b8ce09b69a278abf",
       "version_major": 2,
       "version_minor": 0
      },
      "text/plain": [
       "  0%|          | 0/25604 [00:00<?, ?it/s]"
      ]
     },
     "metadata": {},
     "output_type": "display_data"
    },
    {
     "data": {
      "application/vnd.jupyter.widget-view+json": {
       "model_id": "4f34c4973377405eb455af4f8192ac85",
       "version_major": 2,
       "version_minor": 0
      },
      "text/plain": [
       "  0%|          | 0/25604 [00:00<?, ?it/s]"
      ]
     },
     "metadata": {},
     "output_type": "display_data"
    },
    {
     "data": {
      "application/vnd.jupyter.widget-view+json": {
       "model_id": "045be28366cb4241832b2f46a1209f79",
       "version_major": 2,
       "version_minor": 0
      },
      "text/plain": [
       "  0%|          | 0/25604 [00:00<?, ?it/s]"
      ]
     },
     "metadata": {},
     "output_type": "display_data"
    },
    {
     "data": {
      "application/vnd.jupyter.widget-view+json": {
       "model_id": "e04c2ca8a67e4b0e9a70547068937cf9",
       "version_major": 2,
       "version_minor": 0
      },
      "text/plain": [
       "  0%|          | 0/25604 [00:00<?, ?it/s]"
      ]
     },
     "metadata": {},
     "output_type": "display_data"
    },
    {
     "data": {
      "application/vnd.jupyter.widget-view+json": {
       "model_id": "7093464c4dc2428ab0aa7e89ab5f1376",
       "version_major": 2,
       "version_minor": 0
      },
      "text/plain": [
       "  0%|          | 0/25604 [00:00<?, ?it/s]"
      ]
     },
     "metadata": {},
     "output_type": "display_data"
    },
    {
     "data": {
      "application/vnd.jupyter.widget-view+json": {
       "model_id": "c50d9f66166f47bdabe1278d02c34add",
       "version_major": 2,
       "version_minor": 0
      },
      "text/plain": [
       "  0%|          | 0/25604 [00:00<?, ?it/s]"
      ]
     },
     "metadata": {},
     "output_type": "display_data"
    },
    {
     "data": {
      "application/vnd.jupyter.widget-view+json": {
       "model_id": "45b39d379a144286800fbe57a36a2036",
       "version_major": 2,
       "version_minor": 0
      },
      "text/plain": [
       "  0%|          | 0/25604 [00:00<?, ?it/s]"
      ]
     },
     "metadata": {},
     "output_type": "display_data"
    },
    {
     "data": {
      "application/vnd.jupyter.widget-view+json": {
       "model_id": "5fa1f56f5ffa41bba71973d39cf7ccd8",
       "version_major": 2,
       "version_minor": 0
      },
      "text/plain": [
       "  0%|          | 0/25604 [00:00<?, ?it/s]"
      ]
     },
     "metadata": {},
     "output_type": "display_data"
    },
    {
     "data": {
      "application/vnd.jupyter.widget-view+json": {
       "model_id": "3ee6520ecb5645edb88a25f43b4bf114",
       "version_major": 2,
       "version_minor": 0
      },
      "text/plain": [
       "  0%|          | 0/25604 [00:00<?, ?it/s]"
      ]
     },
     "metadata": {},
     "output_type": "display_data"
    },
    {
     "data": {
      "application/vnd.jupyter.widget-view+json": {
       "model_id": "76e187e34b49425e924031049bdcd70a",
       "version_major": 2,
       "version_minor": 0
      },
      "text/plain": [
       "  0%|          | 0/25604 [00:00<?, ?it/s]"
      ]
     },
     "metadata": {},
     "output_type": "display_data"
    },
    {
     "data": {
      "application/vnd.jupyter.widget-view+json": {
       "model_id": "b2493c601f8a4e5cb7573799115a7d23",
       "version_major": 2,
       "version_minor": 0
      },
      "text/plain": [
       "  0%|          | 0/25604 [00:00<?, ?it/s]"
      ]
     },
     "metadata": {},
     "output_type": "display_data"
    },
    {
     "data": {
      "application/vnd.jupyter.widget-view+json": {
       "model_id": "7186e6eab34541f5a417683bcf255dc3",
       "version_major": 2,
       "version_minor": 0
      },
      "text/plain": [
       "  0%|          | 0/25604 [00:00<?, ?it/s]"
      ]
     },
     "metadata": {},
     "output_type": "display_data"
    },
    {
     "data": {
      "application/vnd.jupyter.widget-view+json": {
       "model_id": "d6c204bc23d7481a83385b9238fc0987",
       "version_major": 2,
       "version_minor": 0
      },
      "text/plain": [
       "  0%|          | 0/25604 [00:00<?, ?it/s]"
      ]
     },
     "metadata": {},
     "output_type": "display_data"
    },
    {
     "data": {
      "application/vnd.jupyter.widget-view+json": {
       "model_id": "92228b1d10c34ad2b87ed14f9f2edaf7",
       "version_major": 2,
       "version_minor": 0
      },
      "text/plain": [
       "  0%|          | 0/25604 [00:00<?, ?it/s]"
      ]
     },
     "metadata": {},
     "output_type": "display_data"
    },
    {
     "data": {
      "application/vnd.jupyter.widget-view+json": {
       "model_id": "c5432bc9aba748d389942d3034e8c70f",
       "version_major": 2,
       "version_minor": 0
      },
      "text/plain": [
       "  0%|          | 0/25604 [00:00<?, ?it/s]"
      ]
     },
     "metadata": {},
     "output_type": "display_data"
    },
    {
     "data": {
      "application/vnd.jupyter.widget-view+json": {
       "model_id": "716aa5d795d1465e8b2ce91edb9de0ba",
       "version_major": 2,
       "version_minor": 0
      },
      "text/plain": [
       "  0%|          | 0/25604 [00:00<?, ?it/s]"
      ]
     },
     "metadata": {},
     "output_type": "display_data"
    },
    {
     "data": {
      "application/vnd.jupyter.widget-view+json": {
       "model_id": "73a01f3889424b67b616d71c47a27f3b",
       "version_major": 2,
       "version_minor": 0
      },
      "text/plain": [
       "  0%|          | 0/25604 [00:00<?, ?it/s]"
      ]
     },
     "metadata": {},
     "output_type": "display_data"
    },
    {
     "data": {
      "application/vnd.jupyter.widget-view+json": {
       "model_id": "796b5bfc92a64a028a3e8b8d07e1adf4",
       "version_major": 2,
       "version_minor": 0
      },
      "text/plain": [
       "  0%|          | 0/25604 [00:00<?, ?it/s]"
      ]
     },
     "metadata": {},
     "output_type": "display_data"
    },
    {
     "data": {
      "application/vnd.jupyter.widget-view+json": {
       "model_id": "9e9adb7a98f64908844aed80f2e62666",
       "version_major": 2,
       "version_minor": 0
      },
      "text/plain": [
       "  0%|          | 0/25604 [00:00<?, ?it/s]"
      ]
     },
     "metadata": {},
     "output_type": "display_data"
    },
    {
     "data": {
      "application/vnd.jupyter.widget-view+json": {
       "model_id": "062e5ef580304d45a149cff4cd986421",
       "version_major": 2,
       "version_minor": 0
      },
      "text/plain": [
       "  0%|          | 0/25604 [00:00<?, ?it/s]"
      ]
     },
     "metadata": {},
     "output_type": "display_data"
    },
    {
     "data": {
      "application/vnd.jupyter.widget-view+json": {
       "model_id": "28d659ccaef348cb84c9e157b555e0b5",
       "version_major": 2,
       "version_minor": 0
      },
      "text/plain": [
       "  0%|          | 0/25604 [00:00<?, ?it/s]"
      ]
     },
     "metadata": {},
     "output_type": "display_data"
    },
    {
     "data": {
      "application/vnd.jupyter.widget-view+json": {
       "model_id": "d7e37664d3e34c6f854a61887abe5910",
       "version_major": 2,
       "version_minor": 0
      },
      "text/plain": [
       "  0%|          | 0/25604 [00:00<?, ?it/s]"
      ]
     },
     "metadata": {},
     "output_type": "display_data"
    },
    {
     "data": {
      "application/vnd.jupyter.widget-view+json": {
       "model_id": "6b3a859569534751a511bf5584d72bc7",
       "version_major": 2,
       "version_minor": 0
      },
      "text/plain": [
       "  0%|          | 0/25604 [00:00<?, ?it/s]"
      ]
     },
     "metadata": {},
     "output_type": "display_data"
    },
    {
     "data": {
      "application/vnd.jupyter.widget-view+json": {
       "model_id": "2f54740d7a8b48c7a135af4ee1f55360",
       "version_major": 2,
       "version_minor": 0
      },
      "text/plain": [
       "  0%|          | 0/25604 [00:00<?, ?it/s]"
      ]
     },
     "metadata": {},
     "output_type": "display_data"
    },
    {
     "data": {
      "application/vnd.jupyter.widget-view+json": {
       "model_id": "3ed788d623ba4f698e53e05361b73100",
       "version_major": 2,
       "version_minor": 0
      },
      "text/plain": [
       "  0%|          | 0/25604 [00:00<?, ?it/s]"
      ]
     },
     "metadata": {},
     "output_type": "display_data"
    },
    {
     "data": {
      "application/vnd.jupyter.widget-view+json": {
       "model_id": "0f55e23b769745dabff3818c56d772d4",
       "version_major": 2,
       "version_minor": 0
      },
      "text/plain": [
       "  0%|          | 0/25604 [00:00<?, ?it/s]"
      ]
     },
     "metadata": {},
     "output_type": "display_data"
    },
    {
     "data": {
      "application/vnd.jupyter.widget-view+json": {
       "model_id": "955a91e0bf174efaa9a8cf1d173e735f",
       "version_major": 2,
       "version_minor": 0
      },
      "text/plain": [
       "  0%|          | 0/25604 [00:00<?, ?it/s]"
      ]
     },
     "metadata": {},
     "output_type": "display_data"
    },
    {
     "data": {
      "application/vnd.jupyter.widget-view+json": {
       "model_id": "e0fcc3ac93644ee5870b13b14a8a48e3",
       "version_major": 2,
       "version_minor": 0
      },
      "text/plain": [
       "  0%|          | 0/25604 [00:00<?, ?it/s]"
      ]
     },
     "metadata": {},
     "output_type": "display_data"
    },
    {
     "data": {
      "application/vnd.jupyter.widget-view+json": {
       "model_id": "65f8a8f293d14ba6aa0d3622b10c1ee1",
       "version_major": 2,
       "version_minor": 0
      },
      "text/plain": [
       "  0%|          | 0/25604 [00:00<?, ?it/s]"
      ]
     },
     "metadata": {},
     "output_type": "display_data"
    },
    {
     "data": {
      "application/vnd.jupyter.widget-view+json": {
       "model_id": "5060fc0b923b43908ce1b8450c1713a6",
       "version_major": 2,
       "version_minor": 0
      },
      "text/plain": [
       "  0%|          | 0/25604 [00:00<?, ?it/s]"
      ]
     },
     "metadata": {},
     "output_type": "display_data"
    },
    {
     "data": {
      "application/vnd.jupyter.widget-view+json": {
       "model_id": "30398220d52f4523b1fafc876055536f",
       "version_major": 2,
       "version_minor": 0
      },
      "text/plain": [
       "  0%|          | 0/25604 [00:00<?, ?it/s]"
      ]
     },
     "metadata": {},
     "output_type": "display_data"
    },
    {
     "data": {
      "application/vnd.jupyter.widget-view+json": {
       "model_id": "54660906ee4b4f4ba329110e26729929",
       "version_major": 2,
       "version_minor": 0
      },
      "text/plain": [
       "  0%|          | 0/25604 [00:00<?, ?it/s]"
      ]
     },
     "metadata": {},
     "output_type": "display_data"
    },
    {
     "data": {
      "application/vnd.jupyter.widget-view+json": {
       "model_id": "702546c52184498d84c5dcbd64324c29",
       "version_major": 2,
       "version_minor": 0
      },
      "text/plain": [
       "  0%|          | 0/25604 [00:00<?, ?it/s]"
      ]
     },
     "metadata": {},
     "output_type": "display_data"
    },
    {
     "data": {
      "application/vnd.jupyter.widget-view+json": {
       "model_id": "07fb730aeb41487db5b1a422a5b53634",
       "version_major": 2,
       "version_minor": 0
      },
      "text/plain": [
       "  0%|          | 0/25604 [00:00<?, ?it/s]"
      ]
     },
     "metadata": {},
     "output_type": "display_data"
    },
    {
     "data": {
      "application/vnd.jupyter.widget-view+json": {
       "model_id": "065e557bb61447d089c33948d694fda6",
       "version_major": 2,
       "version_minor": 0
      },
      "text/plain": [
       "  0%|          | 0/25604 [00:00<?, ?it/s]"
      ]
     },
     "metadata": {},
     "output_type": "display_data"
    },
    {
     "data": {
      "application/vnd.jupyter.widget-view+json": {
       "model_id": "334c0124a27d47b2bddd042ba06b1151",
       "version_major": 2,
       "version_minor": 0
      },
      "text/plain": [
       "  0%|          | 0/25604 [00:00<?, ?it/s]"
      ]
     },
     "metadata": {},
     "output_type": "display_data"
    },
    {
     "data": {
      "application/vnd.jupyter.widget-view+json": {
       "model_id": "32667ed927464f9a898c13fc9cdf962a",
       "version_major": 2,
       "version_minor": 0
      },
      "text/plain": [
       "  0%|          | 0/25604 [00:00<?, ?it/s]"
      ]
     },
     "metadata": {},
     "output_type": "display_data"
    },
    {
     "data": {
      "application/vnd.jupyter.widget-view+json": {
       "model_id": "c28f406cd7d24d6ba9dfa9d93878d6b9",
       "version_major": 2,
       "version_minor": 0
      },
      "text/plain": [
       "  0%|          | 0/25604 [00:00<?, ?it/s]"
      ]
     },
     "metadata": {},
     "output_type": "display_data"
    },
    {
     "data": {
      "application/vnd.jupyter.widget-view+json": {
       "model_id": "c8e58f0d080c40f992dec9220bfe614d",
       "version_major": 2,
       "version_minor": 0
      },
      "text/plain": [
       "  0%|          | 0/25604 [00:00<?, ?it/s]"
      ]
     },
     "metadata": {},
     "output_type": "display_data"
    },
    {
     "data": {
      "application/vnd.jupyter.widget-view+json": {
       "model_id": "a61180ba0dff4580bb69c919d00e7654",
       "version_major": 2,
       "version_minor": 0
      },
      "text/plain": [
       "  0%|          | 0/25604 [00:00<?, ?it/s]"
      ]
     },
     "metadata": {},
     "output_type": "display_data"
    },
    {
     "data": {
      "application/vnd.jupyter.widget-view+json": {
       "model_id": "7d9ce240174a4503b0bff272c739b1a0",
       "version_major": 2,
       "version_minor": 0
      },
      "text/plain": [
       "  0%|          | 0/25604 [00:00<?, ?it/s]"
      ]
     },
     "metadata": {},
     "output_type": "display_data"
    },
    {
     "data": {
      "application/vnd.jupyter.widget-view+json": {
       "model_id": "9458b589751e4fe68423c6b8a8fa1e9e",
       "version_major": 2,
       "version_minor": 0
      },
      "text/plain": [
       "  0%|          | 0/25604 [00:00<?, ?it/s]"
      ]
     },
     "metadata": {},
     "output_type": "display_data"
    },
    {
     "data": {
      "application/vnd.jupyter.widget-view+json": {
       "model_id": "f48995e916bb45f0ae2f27f4e155e72f",
       "version_major": 2,
       "version_minor": 0
      },
      "text/plain": [
       "  0%|          | 0/25604 [00:00<?, ?it/s]"
      ]
     },
     "metadata": {},
     "output_type": "display_data"
    },
    {
     "data": {
      "application/vnd.jupyter.widget-view+json": {
       "model_id": "e2a2e268f2c243009fac442d2cecf994",
       "version_major": 2,
       "version_minor": 0
      },
      "text/plain": [
       "  0%|          | 0/25604 [00:00<?, ?it/s]"
      ]
     },
     "metadata": {},
     "output_type": "display_data"
    },
    {
     "data": {
      "application/vnd.jupyter.widget-view+json": {
       "model_id": "e9fb13c8ac8049509a1ce6ed2f8edd16",
       "version_major": 2,
       "version_minor": 0
      },
      "text/plain": [
       "  0%|          | 0/25604 [00:00<?, ?it/s]"
      ]
     },
     "metadata": {},
     "output_type": "display_data"
    },
    {
     "data": {
      "application/vnd.jupyter.widget-view+json": {
       "model_id": "36d1056576474d48b22b23ef25438b2b",
       "version_major": 2,
       "version_minor": 0
      },
      "text/plain": [
       "  0%|          | 0/25604 [00:00<?, ?it/s]"
      ]
     },
     "metadata": {},
     "output_type": "display_data"
    },
    {
     "data": {
      "application/vnd.jupyter.widget-view+json": {
       "model_id": "cc41afd36c0e43539741a665a94749d9",
       "version_major": 2,
       "version_minor": 0
      },
      "text/plain": [
       "  0%|          | 0/25604 [00:00<?, ?it/s]"
      ]
     },
     "metadata": {},
     "output_type": "display_data"
    },
    {
     "data": {
      "application/vnd.jupyter.widget-view+json": {
       "model_id": "68ce5f22706346a885b520b8e191c29c",
       "version_major": 2,
       "version_minor": 0
      },
      "text/plain": [
       "  0%|          | 0/25604 [00:00<?, ?it/s]"
      ]
     },
     "metadata": {},
     "output_type": "display_data"
    },
    {
     "data": {
      "application/vnd.jupyter.widget-view+json": {
       "model_id": "ec9d8ebbd6784825a737a3e3fcfe2483",
       "version_major": 2,
       "version_minor": 0
      },
      "text/plain": [
       "  0%|          | 0/25604 [00:00<?, ?it/s]"
      ]
     },
     "metadata": {},
     "output_type": "display_data"
    },
    {
     "data": {
      "application/vnd.jupyter.widget-view+json": {
       "model_id": "24c3cca09cfc4d959241cb93332f0dc9",
       "version_major": 2,
       "version_minor": 0
      },
      "text/plain": [
       "  0%|          | 0/25604 [00:00<?, ?it/s]"
      ]
     },
     "metadata": {},
     "output_type": "display_data"
    },
    {
     "data": {
      "application/vnd.jupyter.widget-view+json": {
       "model_id": "6f2d3eeed7134c99ab02c3ff31a688f1",
       "version_major": 2,
       "version_minor": 0
      },
      "text/plain": [
       "  0%|          | 0/25604 [00:00<?, ?it/s]"
      ]
     },
     "metadata": {},
     "output_type": "display_data"
    },
    {
     "data": {
      "application/vnd.jupyter.widget-view+json": {
       "model_id": "047e2dfc9aca429b9439767c22de9bbf",
       "version_major": 2,
       "version_minor": 0
      },
      "text/plain": [
       "  0%|          | 0/25604 [00:00<?, ?it/s]"
      ]
     },
     "metadata": {},
     "output_type": "display_data"
    },
    {
     "data": {
      "application/vnd.jupyter.widget-view+json": {
       "model_id": "f3546987f7474c2aa99fd42ad84f6109",
       "version_major": 2,
       "version_minor": 0
      },
      "text/plain": [
       "  0%|          | 0/25604 [00:00<?, ?it/s]"
      ]
     },
     "metadata": {},
     "output_type": "display_data"
    },
    {
     "data": {
      "application/vnd.jupyter.widget-view+json": {
       "model_id": "f526ad1bec8347b3b291c72c8831ab2e",
       "version_major": 2,
       "version_minor": 0
      },
      "text/plain": [
       "  0%|          | 0/25604 [00:00<?, ?it/s]"
      ]
     },
     "metadata": {},
     "output_type": "display_data"
    }
   ],
   "source": [
    "FC_mse_neur = pd.DataFrame(data=np.zeros((len(peaks.columns),10)),\n",
    "                       index=peaks.columns, columns=['Low', 'High', 'Exons low var',\n",
    "                                                    'Exons high var', 'Exons low cons',\n",
    "                                                    'Exons high cons', 'Peaks low var',\n",
    "                                                    'Peaks high var', 'Peaks low cons',\n",
    "                                                    'Peaks high cons'])\n",
    "FC_mse_glia = pd.DataFrame(data=np.zeros((len(peaks.columns),10)),\n",
    "                       index=peaks.columns, columns=['Low', 'High', 'Exons low var',\n",
    "                                                    'Exons high var', 'Exons low cons',\n",
    "                                                    'Exons high cons', 'Peaks low var',\n",
    "                                                    'Peaks high var', 'Peaks low cons',\n",
    "                                                    'Peaks high cons'])\n",
    "\n",
    "for RBP in tqdm(peaks.columns):\n",
    "    res_glia, res_neur = mse_peaks(RBP, exons_info.iloc[tokeep.values], \n",
    "                                      peaks, PSI_glia[tokeep],\n",
    "                                      PSI_neur[tokeep], RBP_counts[tokeep])    \n",
    "    FC_mse_neur.loc[RBP] = res_neur\n",
    "    FC_mse_glia.loc[RBP] = res_glia"
   ]
  },
  {
   "cell_type": "code",
   "execution_count": 47,
   "id": "771cf5c9",
   "metadata": {},
   "outputs": [],
   "source": [
    "FC_mse_neur.to_csv('Final_PSI_datasets/FC/mse_neur.csv')\n",
    "FC_mse_glia.to_csv('Final_PSI_datasets/FC/mse_glia.csv')"
   ]
  },
  {
   "cell_type": "code",
   "execution_count": 42,
   "id": "848b6048",
   "metadata": {},
   "outputs": [
    {
     "data": {
      "text/plain": [
       "SERBP1     11.0\n",
       "SBDS       16.0\n",
       "SLBP       20.0\n",
       "WDR3       40.0\n",
       "RPS11      46.0\n",
       "          ...  \n",
       "U2AF1     439.0\n",
       "UCHL5     461.0\n",
       "BUD13     466.0\n",
       "U2AF2     469.0\n",
       "PRPF8     474.0\n",
       "Name: Exons high var, Length: 122, dtype: float64"
      ]
     },
     "execution_count": 42,
     "metadata": {},
     "output_type": "execute_result"
    }
   ],
   "source": [
    "FC_mse_neur['Exons high var'].sort_values()"
   ]
  },
  {
   "cell_type": "code",
   "execution_count": 50,
   "id": "0bd018de",
   "metadata": {},
   "outputs": [
    {
     "data": {
      "text/plain": [
       "96"
      ]
     },
     "execution_count": 50,
     "metadata": {},
     "output_type": "execute_result"
    }
   ],
   "source": [
    "tk = (FC_mse_neur['Exons low var'] > 50) & (FC_mse_glia['Exons low var'] > 50) & (FC_mse_glia['Exons high var'] > 50) & (FC_mse_neur['Exons high var'] > 50)\n",
    "FC_mse_neur = FC_mse_neur[tk]\n",
    "FC_mse_glia = FC_mse_glia[tk]\n",
    "\n",
    "np.sum(tk)"
   ]
  },
  {
   "cell_type": "code",
   "execution_count": 51,
   "id": "d7c9ef5c",
   "metadata": {},
   "outputs": [],
   "source": [
    "FC_mse_glia2 = FC_mse_glia[['Low', 'High']].melt()\n",
    "FC_mse_glia2['cell type'] = 'Glia'\n",
    "\n",
    "FC_mse_neur2 = FC_mse_neur[['Low', 'High']].melt()\n",
    "FC_mse_neur2['cell type'] = 'Neurons'\n"
   ]
  },
  {
   "cell_type": "code",
   "execution_count": 64,
   "id": "0a15b9ce",
   "metadata": {},
   "outputs": [
    {
     "data": {
      "image/png": "[encoded data removed]",
      "text/plain": [
       "<Figure size 216x108 with 1 Axes>"
      ]
     },
     "metadata": {
      "needs_background": "light"
     },
     "output_type": "display_data"
    }
   ],
   "source": [
    "plt.figure(figsize=[3,1.5])\n",
    "sns.boxplot(data=pd.concat((FC_mse_neur2, FC_mse_glia2)),\n",
    "            x='value', y='variable', hue='cell type',\n",
    "           palette=['#9DC3E6', '#F4B68C'])\n",
    "plt.legend([], [], frameon=False)\n",
    "sns.despine()\n",
    "plt.xlabel('MSE between cons. and var. exons')\n",
    "plt.ylabel('PSI value')\n",
    "plt.title('Frontal cortex')\n",
    "plt.savefig('Evaluate models/Figures/boxplot_FC_RBP.pdf', bbox_inches='tight')\n",
    "plt.show()"
   ]
  },
  {
   "cell_type": "code",
   "execution_count": 48,
   "id": "b02caa3f",
   "metadata": {},
   "outputs": [],
   "source": [
    "HPC_mse_neur = pd.read_csv('Final_PSI_datasets/HippData/mse_neur.csv', index_col=0)\n",
    "HPC_mse_glia = pd.read_csv('Final_PSI_datasets/HippData/mse_glia.csv', index_col=0)"
   ]
  },
  {
   "cell_type": "code",
   "execution_count": 49,
   "id": "8e59e1a0",
   "metadata": {},
   "outputs": [
    {
     "data": {
      "text/plain": [
       "111"
      ]
     },
     "execution_count": 49,
     "metadata": {},
     "output_type": "execute_result"
    }
   ],
   "source": [
    "tk = (HPC_mse_neur['Exons low var'] > 50) & (HPC_mse_glia['Exons low var'] > 50) & (HPC_mse_neur['Exons high var'] > 50) & (HPC_mse_glia['Exons high var'] > 50)\n",
    "HPC_mse_neur = HPC_mse_neur[tk]\n",
    "HPC_mse_glia = HPC_mse_glia[tk]\n",
    "\n",
    "np.sum(tk)"
   ]
  },
  {
   "cell_type": "code",
   "execution_count": 33,
   "id": "1ac70a18",
   "metadata": {},
   "outputs": [],
   "source": [
    "HPC_mse_glia2 = HPC_mse_glia[['Low', 'High']].melt()\n",
    "HPC_mse_glia2['cell type'] = 'Glia'\n",
    "\n",
    "HPC_mse_neur2 = HPC_mse_neur[['Low', 'High']].melt()\n",
    "HPC_mse_neur2['cell type'] = 'Neurons'\n",
    "\n"
   ]
  },
  {
   "cell_type": "code",
   "execution_count": 65,
   "id": "39fe8205",
   "metadata": {},
   "outputs": [
    {
     "data": {
      "image/png": "[encoded data removed]",
      "text/plain": [
       "<Figure size 216x108 with 1 Axes>"
      ]
     },
     "metadata": {
      "needs_background": "light"
     },
     "output_type": "display_data"
    }
   ],
   "source": [
    "plt.figure(figsize=[3,1.5])\n",
    "sns.boxplot(data=pd.concat((HPC_mse_neur2, HPC_mse_glia2)),\n",
    "            x='value', y='variable', hue='cell type',\n",
    "           palette=['#9DC3E6', '#F4B68C'])\n",
    "sns.despine()\n",
    "plt.xlabel('MSE between cons. and var. exons')\n",
    "plt.ylabel('PSI value')\n",
    "plt.legend(bbox_to_anchor=(1.1, 1.05))\n",
    "plt.savefig('Evaluate models/Figures/boxplot_HPC_RBP.pdf', bbox_inches='tight')\n",
    "plt.show()"
   ]
  },
  {
   "cell_type": "code",
   "execution_count": 28,
   "id": "8e29f510",
   "metadata": {},
   "outputs": [],
   "source": [
    "def mse_peaks(RBP, exons_info, peaks, PSI_glia, PSI_neur, RBP_counts):\n",
    "    \n",
    "    rng = 400\n",
    "    bins = 50\n",
    "        \n",
    "    bins_RBP = np.zeros((len(exons_info),850))\n",
    "\n",
    "    for k in tqdm(range(len(exons_info))):\n",
    "\n",
    "        pk_start = peaks[RBP].loc[exons_info[3].values[k]][:,0]\n",
    "        pk_end = peaks[RBP].loc[exons_info[3].values[k]][:,1]\n",
    "        exon_start = int(exons_info[1].iloc[k])\n",
    "        exon_end = int(exons_info[2].iloc[k])\n",
    "\n",
    "        if exon_end - exon_start < 50:\n",
    "            continue\n",
    "\n",
    "        start_bins=[]\n",
    "        end_bins=[]\n",
    "\n",
    "        ## Check 1\n",
    "        start_bin1 = pk_start - exon_start + rng\n",
    "        start_bin1_keep = (start_bin1 >= 0)  & (start_bin1 < rng)\n",
    "        start_bins.extend(start_bin1[start_bin1_keep])\n",
    "\n",
    "        end_bin1 = pk_end - exon_start + rng\n",
    "        end_bin1_keep = (end_bin1 >= 0) & (end_bin1 < rng)\n",
    "        end_bins.extend(end_bin1[end_bin1_keep])\n",
    "\n",
    "        ## Check 2\n",
    "        start_bin2 = np.round(np.array((bins/(exon_end-exon_start))*(pk_start-exon_start), dtype=float)) + rng\n",
    "        start_bin2_keep = (start_bin2 >= 400) & (start_bin2 <= 450)\n",
    "        start_bins.extend(start_bin2[start_bin2_keep])\n",
    "\n",
    "        end_bin2 = np.round(np.array((bins/(exon_end-exon_start))*(pk_end-exon_start), dtype=float)) + rng\n",
    "        end_bin2_keep = (end_bin2 >= 400) & (end_bin2 <= 450)\n",
    "        end_bins.extend(end_bin2[end_bin2_keep])\n",
    "\n",
    "        ## Check 3\n",
    "        start_bin3 = pk_start - exon_end + rng + bins\n",
    "        start_bin3_keep = (start_bin3 > 450) & (start_bin3 < 850)\n",
    "        start_bins.extend(start_bin3[start_bin3_keep])\n",
    "\n",
    "        end_bin3 = pk_end - exon_end + rng + bins\n",
    "        end_bin3_keep = (end_bin3 > 450) & (end_bin3 < 850)\n",
    "        end_bins.extend(end_bin3[end_bin3_keep])\n",
    "\n",
    "        start_bins=np.array(start_bins,dtype=int)\n",
    "        end_bins=np.array(end_bins,dtype=int)\n",
    "\n",
    "        if len(end_bins) > 0:\n",
    "\n",
    "            if len(start_bins) == 0:\n",
    "                bins_RBP[k,:end_bins[0]] = 1\n",
    "            elif end_bins[0] < start_bins[0]:\n",
    "                bins_RBP[k,:end_bins[0]] = 1\n",
    "                j = 1\n",
    "            else:\n",
    "                j = 0\n",
    "\n",
    "        for i in range(len(start_bins)):\n",
    "            \n",
    "            if len(end_bins) == 0:\n",
    "                bins_RBP[k,start_bins[i]:] = 1\n",
    "            \n",
    "            elif j >= len(end_bins):\n",
    "                bins_RBP[k,start_bins[i]:] = 1\n",
    "            else:\n",
    "                bins_RBP[k,start_bins[i]:end_bins[j]] = 1\n",
    "                j += 1\n",
    "\n",
    "        if exons_info[4].iloc[k] == '-':\n",
    "            bins_RBP[k] = np.flip(bins_RBP[k])\n",
    "\n",
    "    var_exons = np.abs(PSI_glia['0'] - PSI_neur['0']) > 0.25\n",
    "    cons_exons = np.abs(PSI_glia['0'] - PSI_neur['0']) <= 0.25\n",
    "    \n",
    "    bins_RBP_var = bins_RBP[var_exons]\n",
    "    bins_RBP_cons = bins_RBP[cons_exons]\n",
    "    \n",
    "    ### Glia\n",
    "    PSI_var = PSI_glia[var_exons]\n",
    "    PSI_cons = PSI_glia[cons_exons]\n",
    "    \n",
    "    bins_RBP_sum_lowPSI_var = np.sum(bins_RBP_var[PSI_var['0'] < 0.5], axis=0)/np.sum(PSI_var['0'] < 0.5)\n",
    "    bins_RBP_sum_higPSI_var = np.sum(bins_RBP_var[PSI_var['0'] >= 0.5], axis=0)/np.sum(PSI_var['0'] >= 0.5)    \n",
    "    bins_RBP_sum_lowPSI_cons = np.sum(bins_RBP_cons[PSI_cons['0'] < 0.5], axis=0)/np.sum(PSI_cons['0'] < 0.5)\n",
    "    bins_RBP_sum_higPSI_cons = np.sum(bins_RBP_cons[PSI_cons['0'] >= 0.5], axis=0)/np.sum(PSI_cons['0'] >= 0.5)\n",
    "    \n",
    "    low_mse = mse(bins_RBP_sum_lowPSI_var, bins_RBP_sum_lowPSI_cons)\n",
    "    high_mse = mse(bins_RBP_sum_higPSI_var, bins_RBP_sum_higPSI_cons)\n",
    "    \n",
    "    exons_low_var = np.sum(np.sum(bins_RBP_var[PSI_var['0'] < 0.5], axis=1) > 0)\n",
    "    exons_hig_var = np.sum(np.sum(bins_RBP_var[PSI_var['0'] >= 0.5], axis=1) > 0)\n",
    "    exons_low_cons = np.sum(np.sum(bins_RBP_cons[PSI_cons['0'] < 0.5], axis=1) > 0)\n",
    "    exons_hig_cons = np.sum(np.sum(bins_RBP_cons[PSI_cons['0'] >= 0.5], axis=1) > 0)\n",
    "\n",
    "    peaks_low_var = np.sum(bins_RBP_var[PSI_var['0'] < 0.5])\n",
    "    peaks_hig_var = np.sum(bins_RBP_var[PSI_var['0'] >= 0.5])\n",
    "    peaks_low_cons = np.sum(bins_RBP_cons[PSI_cons['0'] < 0.5])\n",
    "    peaks_hig_cons = np.sum(bins_RBP_cons[PSI_cons['0'] >= 0.5])\n",
    "    \n",
    "    res_glia = cp.deepcopy(np.array([low_mse, high_mse, exons_low_var, exons_hig_var, \n",
    "                    exons_low_cons, exons_hig_cons, peaks_low_var,\n",
    "                    peaks_hig_var, peaks_low_cons, peaks_hig_cons]))\n",
    "    ## Neurons\n",
    "    PSI_var = PSI_neur[var_exons]\n",
    "    PSI_cons = PSI_neur[cons_exons]\n",
    "    \n",
    "    bins_RBP_sum_lowPSI_var = np.sum(bins_RBP_var[PSI_var['0'] < 0.5], axis=0)/np.sum(PSI_var['0'] < 0.5)\n",
    "    bins_RBP_sum_higPSI_var = np.sum(bins_RBP_var[PSI_var['0'] >= 0.5], axis=0)/np.sum(PSI_var['0'] >= 0.5)    \n",
    "    bins_RBP_sum_lowPSI_cons = np.sum(bins_RBP_cons[PSI_cons['0'] < 0.5], axis=0)/np.sum(PSI_cons['0'] < 0.5)\n",
    "    bins_RBP_sum_higPSI_cons = np.sum(bins_RBP_cons[PSI_cons['0'] >= 0.5], axis=0)/np.sum(PSI_cons['0'] >= 0.5)\n",
    "    \n",
    "    low_mse = mse(bins_RBP_sum_lowPSI_var, bins_RBP_sum_lowPSI_cons)\n",
    "    high_mse = mse(bins_RBP_sum_higPSI_var, bins_RBP_sum_higPSI_cons)\n",
    "    \n",
    "    exons_low_var = np.sum(np.sum(bins_RBP_var[PSI_var['0'] < 0.5], axis=1) > 0)\n",
    "    exons_hig_var = np.sum(np.sum(bins_RBP_var[PSI_var['0'] >= 0.5], axis=1) > 0)\n",
    "    exons_low_cons = np.sum(np.sum(bins_RBP_cons[PSI_cons['0'] < 0.5], axis=1) > 0)\n",
    "    exons_hig_cons = np.sum(np.sum(bins_RBP_cons[PSI_cons['0'] >= 0.5], axis=1) > 0)\n",
    "\n",
    "    peaks_low_var = np.sum(bins_RBP_var[PSI_var['0'] < 0.5])\n",
    "    peaks_hig_var = np.sum(bins_RBP_var[PSI_var['0'] >= 0.5])\n",
    "    peaks_low_cons = np.sum(bins_RBP_cons[PSI_cons['0'] < 0.5])\n",
    "    peaks_hig_cons = np.sum(bins_RBP_cons[PSI_cons['0'] >= 0.5])\n",
    "    \n",
    "    res_neur = cp.deepcopy(np.array([low_mse, high_mse, exons_low_var, exons_hig_var, \n",
    "                    exons_low_cons, exons_hig_cons, peaks_low_var,\n",
    "                    peaks_hig_var, peaks_low_cons, peaks_hig_cons]))\n",
    "\n",
    "    \n",
    "    return res_glia, res_neur"
   ]
  },
  {
   "cell_type": "code",
   "execution_count": null,
   "id": "fa719cb2",
   "metadata": {},
   "outputs": [],
   "source": []
  }
 ],
 "metadata": {
  "kernelspec": {
   "display_name": "Python 3 (ipykernel)",
   "language": "python",
   "name": "python3"
  },
  "language_info": {
   "codemirror_mode": {
    "name": "ipython",
    "version": 3
   },
   "file_extension": ".py",
   "mimetype": "text/x-python",
   "name": "python",
   "nbconvert_exporter": "python",
   "pygments_lexer": "ipython3",
   "version": "3.8.3"
  }
 },
 "nbformat": 4,
 "nbformat_minor": 5
}

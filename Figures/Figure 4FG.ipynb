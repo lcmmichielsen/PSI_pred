{
 "cells": [
  {
   "cell_type": "markdown",
   "id": "cf7c389e",
   "metadata": {},
   "source": [
    "### Analyse results sQTL\n",
    "\n",
    "Results from the ISM can be downloaded from Zenodo."
   ]
  },
  {
   "cell_type": "code",
   "execution_count": 1,
   "id": "16e5324e",
   "metadata": {},
   "outputs": [],
   "source": [
    "import numpy as np\n",
    "import pandas as pd\n",
    "import h5py\n",
    "\n",
    "import seaborn as sns\n",
    "from matplotlib import pyplot as plt\n",
    "\n",
    "import matplotlib\n",
    "matplotlib.rcParams['pdf.fonttype'] = 42\n",
    "pd.set_option('mode.chained_assignment', None)\n"
   ]
  },
  {
   "cell_type": "markdown",
   "id": "df3d52c3",
   "metadata": {},
   "source": [
    "### Read sQTLs\n",
    "\n",
    "We filtered the GTEx v8 sQTL file for the hippocampus to check which genes have mutations that are within range (close enough to an exon so we can make predictions) and we only looked at the best sQTLs (lowest p-value). "
   ]
  },
  {
   "cell_type": "code",
   "execution_count": 2,
   "id": "9e0f457d",
   "metadata": {},
   "outputs": [],
   "source": [
    "sQTL = pd.read_csv('../../PSI_prediction/Zenodo/Human/HPC/DL_sQTL/sQTL_hippocampus_within_best.csv', index_col=0)\n",
    "sQTL_inrange = sQTL[sQTL['inrange'] == 1]"
   ]
  },
  {
   "cell_type": "code",
   "execution_count": 3,
   "id": "8b21fee5",
   "metadata": {},
   "outputs": [],
   "source": [
    "sQTL_inrange = sQTL_inrange.drop_duplicates()"
   ]
  },
  {
   "cell_type": "code",
   "execution_count": 4,
   "id": "efe200a3",
   "metadata": {},
   "outputs": [
    {
     "name": "stdout",
     "output_type": "stream",
     "text": [
      "130\n",
      "169\n",
      "373\n"
     ]
    }
   ],
   "source": [
    "### Check how many mutations we have\n",
    "### We cannot make predictions for all of these though, \n",
    "### since not all are point mutations\n",
    "print(len(np.unique(sQTL_inrange['Intron'])))\n",
    "print(len(np.unique(sQTL_inrange['Exon'])))\n",
    "print(len(sQTL_inrange))"
   ]
  },
  {
   "cell_type": "markdown",
   "id": "fb60a168",
   "metadata": {},
   "source": [
    "### Read PSI values\n",
    "\n",
    "Some of the sQTLs are related to exons that we removed from the data during downsampling. Therefore, here we need all the PSI values (so the NOT downsampled file)."
   ]
  },
  {
   "cell_type": "code",
   "execution_count": 5,
   "id": "3fab8408",
   "metadata": {},
   "outputs": [],
   "source": [
    "PSI_glia = pd.read_csv('../../PSI_prediction/Zenodo/Human/HPC/PSI/PSI_glia_norm_ALL.csv', index_col=0)\n",
    "PSI_neur = pd.read_csv('../../PSI_prediction/Zenodo/Human/HPC/PSI/PSI_neur_norm_ALL.csv', index_col=0)\n",
    "\n",
    "PSI = pd.concat((PSI_glia, PSI_neur), axis=1)\n",
    "PSI.columns = ['Glia', 'Neurons']\n"
   ]
  },
  {
   "cell_type": "markdown",
   "id": "dd011c87",
   "metadata": {},
   "source": [
    "### Read ISM data (glia)"
   ]
  },
  {
   "cell_type": "code",
   "execution_count": 6,
   "id": "6a003646",
   "metadata": {},
   "outputs": [],
   "source": [
    "datadir = '../../PSI_prediction/Zenodo/Human/HPC/DL_sQTL'\n",
    "\n",
    "genes = np.load(datadir+'/genes_sQTL.npz')\n",
    "genes = np.array(genes['arr_0'], dtype='<U100')\n",
    "\n",
    "ism_glia = np.load(datadir+'/ism_sQTL.npz')\n",
    "ism_glia = ism_glia['arr_0']\n",
    "\n",
    "ref_glia = np.load(datadir+'/ref_sQTL.npz')\n",
    "ref_glia = ref_glia['arr_0']\n",
    "\n",
    "sequences = np.load(datadir+'/seq_sQTL.npz')\n",
    "sequences = sequences['arr_0']\n",
    "\n",
    "spl = np.load(datadir+'/splice_sQTL.npz')\n",
    "spl = spl['arr_0']"
   ]
  },
  {
   "cell_type": "markdown",
   "id": "5b13a29d",
   "metadata": {},
   "source": [
    "### Get predictions for the sQTLs"
   ]
  },
  {
   "cell_type": "code",
   "execution_count": 7,
   "id": "045da5eb",
   "metadata": {},
   "outputs": [],
   "source": [
    "xx = sQTL_inrange['Exon'].str.split('_',expand=True)\n",
    "xx.columns = ['chr', 'start', 'end', 'gene', 'strand']\n",
    "xx = xx.astype({'start': int, 'end': int})\n",
    "\n",
    "yy = sQTL_inrange['Variant'].str.split('_', expand=True).iloc[:,1:4]\n",
    "yy.columns = ['snpCoor', 'snpRef', 'snpAlt']\n",
    "yy = yy.astype({'snpCoor': int})\n",
    "sQTL_inrange = pd.concat((sQTL_inrange, xx, yy), axis=1)"
   ]
  },
  {
   "cell_type": "code",
   "execution_count": 8,
   "id": "25828608",
   "metadata": {
    "scrolled": true
   },
   "outputs": [
    {
     "name": "stdout",
     "output_type": "stream",
     "text": [
      "T\n",
      "TA\n",
      "G\n",
      "GCCACTCCAT\n",
      "G\n",
      "GCCACTCCAT\n",
      "G\n",
      "GCCACTCCAT\n",
      "G\n",
      "GCCACTCCAT\n",
      "CA\n",
      "C\n",
      "TCCTA\n",
      "T\n",
      "GTGGCACGATCT\n",
      "G\n",
      "A\n",
      "AGT\n",
      "C\n",
      "CG\n",
      "AGG\n",
      "A\n",
      "CCT\n",
      "C\n",
      "CTGTT\n",
      "C\n",
      "CTGTT\n",
      "C\n",
      "T\n",
      "TCTC\n",
      "TAAA\n",
      "T\n",
      "T\n",
      "TC\n",
      "A\n",
      "AATTTCCTTAAATTCCTTAAATGTATTTCAGAGATGT\n",
      "A\n",
      "AATTTCCTTAAATTCCTTAAATGTATTTCAGAGATGT\n",
      "AC\n",
      "A\n",
      "CACA\n",
      "C\n",
      "CACA\n",
      "C\n",
      "G\n",
      "GT\n",
      "A\n",
      "AT\n",
      "C\n",
      "CT\n",
      "C\n",
      "CT\n",
      "C\n",
      "CT\n",
      "CT\n",
      "C\n",
      "A\n",
      "AT\n",
      "ACTGCACTCCAGC\n",
      "A\n",
      "AT\n",
      "A\n",
      "CA\n",
      "C\n",
      "CA\n",
      "C\n",
      "A\n",
      "AAAAC\n",
      "T\n",
      "TGTG\n",
      "CAAGGG\n",
      "C\n",
      "TAGAG\n",
      "T\n",
      "CAAGGG\n",
      "C\n",
      "TAGAG\n",
      "T\n",
      "TAGAG\n",
      "T\n",
      "A\n",
      "AACTTG\n",
      "CTTTAT\n",
      "C\n",
      "T\n",
      "TTTAA\n",
      "T\n",
      "TTTAA\n",
      "TA\n",
      "T\n",
      "T\n",
      "TCAA\n",
      "A\n",
      "AGGAG\n"
     ]
    }
   ],
   "source": [
    "alphabet = 'ACGT'\n",
    "ohdict = dict((c, i) for i, c in enumerate(alphabet))\n",
    "\n",
    "res_glia = pd.DataFrame(data=np.zeros((len(sQTL_inrange),6)),\n",
    "                   columns=['snpID', 'idxSNP', 'idxStart', 'idxEnd', 'refISM', 'altISM'])\n",
    "\n",
    "for idx_sQTL in range(len(res_glia)):\n",
    "    \n",
    "    idx_ISM = np.where(genes == sQTL_inrange['Exon'].iloc[idx_sQTL])[0][0]\n",
    "    \n",
    "    start_exon = int(sQTL_inrange.iloc[idx_sQTL]['start'])\n",
    "    snp = int(sQTL_inrange.iloc[idx_sQTL]['snpCoor'])\n",
    "    strand = sQTL_inrange.iloc[idx_sQTL]['strand']\n",
    "\n",
    "    if strand == '-':\n",
    "        # Invert sequence + ISM scores if strand is negative\n",
    "        seq = sequences[idx_ISM][::-1,::-1]\n",
    "        ism = ism_glia[idx_ISM][::-1,::-1]\n",
    "    else:\n",
    "        seq = sequences[idx_ISM]\n",
    "        ism = ism_glia[idx_ISM]\n",
    "\n",
    "    idx_start_exon = np.where(spl[idx_ISM])[0][0] - 1 + np.sum((np.sum(seq, axis=0) == 0)[:10])\n",
    "    idx_SNP = idx_start_exon + (snp-start_exon)\n",
    "    \n",
    "    try:\n",
    "        ref = ohdict[sQTL_inrange.iloc[idx_sQTL]['snpRef']]\n",
    "        alt = ohdict[sQTL_inrange.iloc[idx_sQTL]['snpAlt']]\n",
    "        \n",
    "        # Double check whether we're looking at the correct position\n",
    "        if ref != np.argmax(seq[:,idx_SNP]):\n",
    "            print('Wrong reference')\n",
    "\n",
    "        res_glia['snpID'].iloc[idx_sQTL] = sQTL_inrange.iloc[idx_sQTL]['Variant']\n",
    "        res_glia['refISM'].iloc[idx_sQTL] = ism[ref,idx_SNP]\n",
    "        res_glia['altISM'].iloc[idx_sQTL] = ism[alt,idx_SNP]\n",
    "        res_glia['idxSNP'].iloc[idx_sQTL] = idx_SNP\n",
    "        res_glia['idxStart'].iloc[idx_sQTL] = idx_start_exon\n",
    "        res_glia['idxEnd'].iloc[idx_sQTL] = np.where(spl[idx_ISM])[0][1]\n",
    "                \n",
    "    except:\n",
    "        # Mutations that are not point mutations\n",
    "        print(sQTL_inrange.iloc[idx_sQTL]['snpRef'])\n",
    "        print(sQTL_inrange.iloc[idx_sQTL]['snpAlt'])\n",
    "    "
   ]
  },
  {
   "cell_type": "code",
   "execution_count": 9,
   "id": "22756883",
   "metadata": {},
   "outputs": [
    {
     "data": {
      "text/html": [
       "<div>\n",
       "<style scoped>\n",
       "    .dataframe tbody tr th:only-of-type {\n",
       "        vertical-align: middle;\n",
       "    }\n",
       "\n",
       "    .dataframe tbody tr th {\n",
       "        vertical-align: top;\n",
       "    }\n",
       "\n",
       "    .dataframe thead th {\n",
       "        text-align: right;\n",
       "    }\n",
       "</style>\n",
       "<table border=\"1\" class=\"dataframe\">\n",
       "  <thead>\n",
       "    <tr style=\"text-align: right;\">\n",
       "      <th></th>\n",
       "      <th>snpID</th>\n",
       "      <th>idxSNP</th>\n",
       "      <th>idxStart</th>\n",
       "      <th>idxEnd</th>\n",
       "      <th>refISM</th>\n",
       "      <th>altISM</th>\n",
       "    </tr>\n",
       "  </thead>\n",
       "  <tbody>\n",
       "    <tr>\n",
       "      <th>0</th>\n",
       "      <td>chr1_31728046_T_C_b38</td>\n",
       "      <td>3064.0</td>\n",
       "      <td>3043.0</td>\n",
       "      <td>3101.0</td>\n",
       "      <td>-0.003527</td>\n",
       "      <td>0.000730</td>\n",
       "    </tr>\n",
       "    <tr>\n",
       "      <th>1</th>\n",
       "      <td>chr1_37557547_T_C_b38</td>\n",
       "      <td>1205.0</td>\n",
       "      <td>2985.0</td>\n",
       "      <td>3157.0</td>\n",
       "      <td>-0.000075</td>\n",
       "      <td>-0.000161</td>\n",
       "    </tr>\n",
       "    <tr>\n",
       "      <th>2</th>\n",
       "      <td>chr1_37558221_G_A_b38</td>\n",
       "      <td>1879.0</td>\n",
       "      <td>2985.0</td>\n",
       "      <td>3157.0</td>\n",
       "      <td>0.000024</td>\n",
       "      <td>0.000130</td>\n",
       "    </tr>\n",
       "    <tr>\n",
       "      <th>3</th>\n",
       "      <td>chr1_37559502_T_C_b38</td>\n",
       "      <td>3160.0</td>\n",
       "      <td>2985.0</td>\n",
       "      <td>3157.0</td>\n",
       "      <td>0.044708</td>\n",
       "      <td>-0.017441</td>\n",
       "    </tr>\n",
       "    <tr>\n",
       "      <th>4</th>\n",
       "      <td>chr1_37560296_A_G_b38</td>\n",
       "      <td>3954.0</td>\n",
       "      <td>2985.0</td>\n",
       "      <td>3157.0</td>\n",
       "      <td>0.000001</td>\n",
       "      <td>-0.000100</td>\n",
       "    </tr>\n",
       "  </tbody>\n",
       "</table>\n",
       "</div>"
      ],
      "text/plain": [
       "                   snpID  idxSNP  idxStart  idxEnd    refISM    altISM\n",
       "0  chr1_31728046_T_C_b38  3064.0    3043.0  3101.0 -0.003527  0.000730\n",
       "1  chr1_37557547_T_C_b38  1205.0    2985.0  3157.0 -0.000075 -0.000161\n",
       "2  chr1_37558221_G_A_b38  1879.0    2985.0  3157.0  0.000024  0.000130\n",
       "3  chr1_37559502_T_C_b38  3160.0    2985.0  3157.0  0.044708 -0.017441\n",
       "4  chr1_37560296_A_G_b38  3954.0    2985.0  3157.0  0.000001 -0.000100"
      ]
     },
     "execution_count": 9,
     "metadata": {},
     "output_type": "execute_result"
    }
   ],
   "source": [
    "res_glia.iloc[:5]"
   ]
  },
  {
   "cell_type": "code",
   "execution_count": 10,
   "id": "16bf5b8d",
   "metadata": {},
   "outputs": [],
   "source": [
    "# Filter out variants that aren't point mutations\n",
    "tokeep = res_glia['idxStart'] != 0\n",
    "res_glia = res_glia[tokeep]\n",
    "sQTL_inrange = sQTL_inrange.iloc[tokeep.values]"
   ]
  },
  {
   "cell_type": "code",
   "execution_count": 11,
   "id": "376f3d17",
   "metadata": {
    "scrolled": true
   },
   "outputs": [],
   "source": [
    "res_glia['Exon'] = sQTL_inrange['Exon'].values\n",
    "res_glia['Intron'] = sQTL_inrange['Intron'].values\n",
    "res_glia['slope'] = sQTL_inrange['slope'].values\n"
   ]
  },
  {
   "cell_type": "code",
   "execution_count": 12,
   "id": "58369c18",
   "metadata": {},
   "outputs": [
    {
     "name": "stdout",
     "output_type": "stream",
     "text": [
      "158\n",
      "122\n",
      "326\n"
     ]
    }
   ],
   "source": [
    "# Check how many predictions we made\n",
    "print(len(np.unique(res_glia['Exon'])))\n",
    "print(len(np.unique(res_glia['Intron'])))\n",
    "print(len(res_glia))"
   ]
  },
  {
   "cell_type": "code",
   "execution_count": 13,
   "id": "2fc0c045",
   "metadata": {},
   "outputs": [],
   "source": [
    "# In the scatterplot, we want to color the variants based on the distance to the exon\n",
    "location = np.zeros((len(res_glia),))\n",
    "\n",
    "location[(res_glia['idxSNP'] <= res_glia['idxEnd']) & (res_glia['idxSNP'] >= res_glia['idxStart'])] = np.nan\n",
    "location[res_glia['idxSNP'] < res_glia['idxStart']] = (res_glia['idxStart'] - res_glia['idxSNP'])[res_glia['idxSNP'] < res_glia['idxStart']]\n",
    "location[res_glia['idxSNP'] > res_glia['idxEnd']] = (res_glia['idxSNP'] - res_glia['idxEnd'])[res_glia['idxSNP'] > res_glia['idxEnd']]\n",
    "\n",
    "res_glia['location'] = location"
   ]
  },
  {
   "cell_type": "markdown",
   "id": "b1fc8373",
   "metadata": {},
   "source": [
    "#### Figure 4F"
   ]
  },
  {
   "cell_type": "code",
   "execution_count": 14,
   "id": "edf0b90a",
   "metadata": {},
   "outputs": [
    {
     "data": {
      "image/png": "[encoded data removed]",
      "text/plain": [
       "<Figure size 250x250 with 1 Axes>"
      ]
     },
     "metadata": {},
     "output_type": "display_data"
    }
   ],
   "source": [
    "plt.figure(figsize=[2.5, 2.5])\n",
    "plt.axvline(0, c='darkgrey', linewidth=0.5)\n",
    "plt.axhline(-0.005, c='maroon', linewidth=0.5, linestyle='--')\n",
    "plt.axhline(0, c='darkgrey', linewidth=0.5)\n",
    "plt.axhline(0.005, c='maroon', linewidth=0.5, linestyle='--')\n",
    "sns.scatterplot(x=sQTL_inrange['slope'].values[np.isnan(location)], \n",
    "                y=(res_glia['altISM'] - res_glia['refISM'])[np.isnan(location)], \n",
    "                color='gray', linewidth=0.3, edgecolor='black',\n",
    "                s=14)\n",
    "sns.scatterplot(x=sQTL_inrange['slope'].values, \n",
    "                y=res_glia['altISM'] - res_glia['refISM'], \n",
    "                hue=np.log2(location), linewidth=0.3, size=1, \n",
    "                edgecolor='black',\n",
    "                palette='Blues_r',  \n",
    "               )\n",
    "plt.xlabel('Slope')\n",
    "plt.ylabel('ISM score (alt-ref)')\n",
    "plt.legend(bbox_to_anchor=(1.02, 1), loc='upper left', borderaxespad=0)\n",
    "plt.xlim([-3.3,3.3])\n",
    "plt.show()"
   ]
  },
  {
   "cell_type": "markdown",
   "id": "f1ba4ffe",
   "metadata": {},
   "source": [
    "### Confusion matrix"
   ]
  },
  {
   "cell_type": "code",
   "execution_count": 15,
   "id": "b09e62ef",
   "metadata": {},
   "outputs": [],
   "source": [
    "res_glia['delta'] = np.abs(res_glia['altISM'] - res_glia['refISM'])\n",
    "res_glia['difference'] = res_glia['altISM'] - res_glia['refISM']\n"
   ]
  },
  {
   "cell_type": "code",
   "execution_count": 16,
   "id": "ef5af18f",
   "metadata": {},
   "outputs": [
    {
     "name": "stdout",
     "output_type": "stream",
     "text": [
      "67\n",
      "61\n",
      "71\n"
     ]
    }
   ],
   "source": [
    "thres = 0.005\n",
    "res_glia_filt = res_glia[res_glia['delta'] > thres]\n",
    "\n",
    "print(len(np.unique(res_glia_filt['Exon'])))\n",
    "print(len(np.unique(res_glia_filt['Intron'])))\n",
    "print(len(res_glia_filt))"
   ]
  },
  {
   "cell_type": "code",
   "execution_count": 17,
   "id": "d30df2e9",
   "metadata": {},
   "outputs": [
    {
     "name": "stdout",
     "output_type": "stream",
     "text": [
      "[[30  8]\n",
      " [ 4 29]]\n",
      "              precision    recall  f1-score   support\n",
      "\n",
      "       False       0.78      0.88      0.83        33\n",
      "        True       0.88      0.79      0.83        38\n",
      "\n",
      "    accuracy                           0.83        71\n",
      "   macro avg       0.83      0.83      0.83        71\n",
      "weighted avg       0.84      0.83      0.83        71\n",
      "\n",
      "[[124  84]\n",
      " [ 41  77]]\n",
      "              precision    recall  f1-score   support\n",
      "\n",
      "       False       0.48      0.65      0.55       118\n",
      "        True       0.75      0.60      0.66       208\n",
      "\n",
      "    accuracy                           0.62       326\n",
      "   macro avg       0.61      0.62      0.61       326\n",
      "weighted avg       0.65      0.62      0.62       326\n",
      "\n"
     ]
    }
   ],
   "source": [
    "from sklearn.metrics import confusion_matrix, classification_report\n",
    "\n",
    "ypred = (res_glia_filt['refISM'] - res_glia_filt['altISM']) > 0\n",
    "ytrue = res_glia_filt['slope'].values > 0\n",
    "\n",
    "print(confusion_matrix(ytrue, ypred, labels=[True,False]))\n",
    "\n",
    "print(classification_report(ytrue, ypred))\n",
    "\n",
    "ypred = (res_glia['refISM'] - res_glia['altISM']) > 0\n",
    "ytrue = res_glia['slope'].values > 0\n",
    "\n",
    "print(confusion_matrix(ytrue, ypred, labels=[True,False]))\n",
    "\n",
    "print(classification_report(ytrue, ypred))\n"
   ]
  },
  {
   "cell_type": "markdown",
   "id": "abf90212",
   "metadata": {},
   "source": [
    "#### Figure 4G"
   ]
  },
  {
   "cell_type": "code",
   "execution_count": 18,
   "id": "4bb3a485",
   "metadata": {},
   "outputs": [
    {
     "data": {
      "image/png": "[encoded data removed]",
      "text/plain": [
       "<Figure size 200x70 with 1 Axes>"
      ]
     },
     "metadata": {},
     "output_type": "display_data"
    },
    {
     "data": {
      "image/png": "[encoded data removed]",
      "text/plain": [
       "<Figure size 200x70 with 1 Axes>"
      ]
     },
     "metadata": {},
     "output_type": "display_data"
    }
   ],
   "source": [
    "import logomaker\n",
    "\n",
    "i = np.where(genes == 'chr5_168497947_168498046_ENSG00000113643_+')[0][0]\n",
    "begin1 = 2996-5\n",
    "end1 = 2996+6\n",
    "\n",
    "begin2 = 3098-5\n",
    "end2 = 3098+6\n",
    "\n",
    "fig = plt.figure(figsize=(2,0.7))\n",
    "ax = fig.add_subplot(111) \n",
    "\n",
    "df = pd.DataFrame(np.multiply(ism_glia[i][:,begin1:end1], sequences[i][:,begin1:end1]), index=['A', 'C', 'G', 'T']).T\n",
    "df.index.name = 'pos'\n",
    "\n",
    "crp_logo = logomaker.Logo(df, ax=ax)\n",
    "plt.ylim([-0.024,0.024])\n",
    "sns.despine()\n",
    "plt.show()\n",
    "\n",
    "fig = plt.figure(figsize=(2,0.7))\n",
    "ax = fig.add_subplot(111) \n",
    "\n",
    "df = pd.DataFrame(np.multiply(ism_glia[i][:,begin2:end2], sequences[i][:,begin2:end2]), index=['A', 'C', 'G', 'T']).T\n",
    "df.index.name = 'pos'\n",
    "\n",
    "crp_logo = logomaker.Logo(df, ax=ax)\n",
    "sns.despine()\n",
    "plt.ylim([-0.024,0.024])\n",
    "plt.show()"
   ]
  },
  {
   "cell_type": "code",
   "execution_count": 19,
   "id": "bc2645a8",
   "metadata": {},
   "outputs": [
    {
     "data": {
      "image/png": "[encoded data removed]",
      "text/plain": [
       "<Figure size 200x100 with 2 Axes>"
      ]
     },
     "metadata": {},
     "output_type": "display_data"
    },
    {
     "data": {
      "image/png": "[encoded data removed]",
      "text/plain": [
       "<Figure size 200x100 with 2 Axes>"
      ]
     },
     "metadata": {},
     "output_type": "display_data"
    }
   ],
   "source": [
    "plt.figure(figsize=(2,1))\n",
    "sns.heatmap(ism_glia[i][:,begin1:end1], cmap='vlag', center=0,\n",
    "           vmin=-0.065, vmax=0.065, \n",
    "            cbar_kws=dict(orientation='horizontal'))\n",
    "plt.yticks([0.4,1.4,2.4,3.4], ['A','C','G','U'], rotation=0)\n",
    "plt.xticks([])\n",
    "plt.show()\n",
    "\n",
    "plt.figure(figsize=(2,1))\n",
    "sns.heatmap(ism_glia[i][:,begin2:end2], cmap='vlag', center=0,\n",
    "           vmin=-0.065, vmax=0.065, \n",
    "            cbar_kws=dict(orientation='horizontal'))\n",
    "plt.yticks([0.4,1.4,2.4,3.4], ['A','C','G','U'], rotation=0)\n",
    "plt.xticks([])\n",
    "plt.show()\n"
   ]
  },
  {
   "cell_type": "code",
   "execution_count": null,
   "id": "04c7df81",
   "metadata": {},
   "outputs": [],
   "source": []
  }
 ],
 "metadata": {
  "kernelspec": {
   "display_name": "Python 3 (ipykernel)",
   "language": "python",
   "name": "python3"
  },
  "language_info": {
   "codemirror_mode": {
    "name": "ipython",
    "version": 3
   },
   "file_extension": ".py",
   "mimetype": "text/x-python",
   "name": "python",
   "nbconvert_exporter": "python",
   "pygments_lexer": "ipython3",
   "version": "3.11.5"
  }
 },
 "nbformat": 4,
 "nbformat_minor": 5
}

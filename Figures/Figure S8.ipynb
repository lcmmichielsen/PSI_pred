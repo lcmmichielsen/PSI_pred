{
 "cells": [
  {
   "cell_type": "code",
   "execution_count": 1,
   "id": "d806128d",
   "metadata": {},
   "outputs": [],
   "source": [
    "import os\n",
    "import pickle\n",
    "import numpy as np\n",
    "import pandas as pd\n",
    "from matplotlib import pyplot as plt\n",
    "import seaborn as sns\n",
    "from scipy.stats import spearmanr\n",
    "\n",
    "pd.set_option('mode.chained_assignment', None)\n",
    "\n",
    "from evaluate import evaluate\n",
    "\n",
    "import matplotlib\n",
    "matplotlib.rcParams['pdf.fonttype'] = 42"
   ]
  },
  {
   "cell_type": "markdown",
   "id": "f1d246cd",
   "metadata": {},
   "source": [
    "## Hippocampus"
   ]
  },
  {
   "cell_type": "code",
   "execution_count": 12,
   "id": "97cd4dfb",
   "metadata": {},
   "outputs": [
    {
     "name": "stdout",
     "output_type": "stream",
     "text": [
      "DL_all_6000_5_withMouse\n",
      "DL_var01_6000_5_withMouse\n"
     ]
    }
   ],
   "source": [
    "folders=['DL_all_6000_5_withMouse',\n",
    "         'DL_var01_6000_5_withMouse'] \n",
    "\n",
    "n = len(folders)\n",
    "\n",
    "prefixs = np.repeat(['../../Zenodo/Human/HPC/Predictions/'], n)\n",
    "multiheads = [True, True]\n",
    "heads = ['/mouse', '/mouse']\n",
    "\n",
    "# Relative to the prefix\n",
    "PSI_glia = np.repeat(['../../Zenodo/Mouse/HPC/PSI_glia.csv'], n)\n",
    "PSI_neur = np.repeat(['../../Zenodo/Mouse/HPC/PSI_neur.csv'], n)\n",
    "\n",
    "res_hpc = evaluate(prefixs, folders, multiheads, heads, PSI_glia, PSI_neur,\n",
    "             runs=5, folds = [0,1,2,3,4,5,6,7,8,9], split='test', \n",
    "             RBP_only=False)\n",
    "\n",
    "with open('HPC_SAL_MOUSE.pickle', 'wb') as handle:\n",
    "    pickle.dump(res_hpc, handle, protocol=pickle.HIGHEST_PROTOCOL)\n"
   ]
  },
  {
   "cell_type": "code",
   "execution_count": 13,
   "id": "2fde2fb1",
   "metadata": {},
   "outputs": [],
   "source": [
    "### Content../../Zenodo/pickle files\n",
    "# 0 - MSE on all exons neurons\n",
    "# 1 - MSE on all exons glia\n",
    "# 2 - spearman correlation all exons neurons\n",
    "# 3 - spearman correlation all exons glia\n",
    "# 4 - MSE on variable exons neurons\n",
    "# 5 - MSE on variable exons glia\n",
    "# 6 - spearman correlation variable exons neurons\n",
    "# 7 - spearman correlation variable exons glia\n",
    "# 8 - F1 scores (classification problem, higher in neurons or higher in glia)\n",
    "# 9 - true PSI values neurons\n",
    "# 10 - predicted PSI values neurons\n",
    "# 11 - true PSI values glia\n",
    "# 12 - predicted PSi values glia\n",
    "# 13 - indicating which genes are variable genes\n",
    "\n",
    "sp_neur = res_hpc[6]\n",
    "sp_glia = res_hpc[7]\n",
    "\n",
    "sp_neur.index = [\n",
    "             'DL - all (seq+splice) - with mouse',\n",
    "             'DL - var (seq+splice) - with mouse',]\n",
    "\n",
    "sp_glia.index = [\n",
    "             'DL - all (seq+splice) - with mouse',\n",
    "             'DL - var (seq+splice) - with mouse',]\n",
    "\n",
    "sp_neur = sp_neur.melt(ignore_index=False)\n",
    "sp_neur['Model'] = sp_neur.index\n",
    "sp_neur['Cell type'] = 'Neurons'\n",
    "\n",
    "sp_glia = sp_glia.melt(ignore_index=False)\n",
    "sp_glia['Model'] = sp_glia.index\n",
    "sp_glia['Cell type'] = 'Glia'\n",
    "\n",
    "sp_var = pd.concat((sp_neur, sp_glia))"
   ]
  },
  {
   "cell_type": "code",
   "execution_count": 14,
   "id": "a7c3d1a0",
   "metadata": {},
   "outputs": [
    {
     "data": {
      "image/png": "[encoded data removed]",
      "text/plain": [
       "<Figure size 180x144 with 1 Axes>"
      ]
     },
     "metadata": {
      "needs_background": "light"
     },
     "output_type": "display_data"
    }
   ],
   "source": [
    "plt.figure(figsize=(2.5,2))\n",
    "sns.boxplot(data=sp_var, x='value', y='Model', hue='Cell type',\n",
    "            palette=['#9DC3E6', '#F4B68C'],\n",
    "            order=[\n",
    "             'DL - all (seq+splice) - with mouse',\n",
    "             'DL - var (seq+splice) - with mouse'])\n",
    "sns.despine()\n",
    "plt.xlabel('Spearman correlation')\n",
    "plt.ylabel('')\n",
    "plt.legend(bbox_to_anchor=(1.1, 1.05))\n",
    "plt.title('HPC - var exons')\n",
    "plt.savefig('../../Evaluate models/Figures/boxplot_HPC_mouse.pdf',\n",
    "           bbox_inches='tight')\n",
    "plt.show()"
   ]
  },
  {
   "cell_type": "markdown",
   "id": "b058b1ab",
   "metadata": {},
   "source": [
    "### Visual cortex"
   ]
  },
  {
   "cell_type": "code",
   "execution_count": 16,
   "id": "7629b1c8",
   "metadata": {},
   "outputs": [
    {
     "name": "stdout",
     "output_type": "stream",
     "text": [
      "DL_all_6000_5_withMouse\n",
      "DL_var01_6000_5_withMouse\n"
     ]
    }
   ],
   "source": [
    "folders=['DL_all_6000_5_withMouse',\n",
    "         'DL_var01_6000_5_withMouse'] \n",
    "\n",
    "n = len(folders)\n",
    "\n",
    "prefixs = np.repeat(['../../Zenodo/Human/FC/Predictions/'], n)\n",
    "multiheads = [True, True]\n",
    "heads = ['/mouse', '/mouse']\n",
    "\n",
    "# Relative to the prefix\n",
    "PSI_glia = np.repeat(['../../Zenodo/Mouse/VisC/PSI_glia.csv'], n)\n",
    "PSI_neur = np.repeat(['../../Zenodo/Mouse/VisC/PSI_neur.csv'], n)\n",
    "\n",
    "res_fc = evaluate(prefixs, folders, multiheads, heads, PSI_glia, PSI_neur,\n",
    "             runs=5, folds = [0,1,2,3,4,5,6,7,8,9], split='test', \n",
    "             RBP_only=False)\n",
    "\n",
    "with open('VisC_SAL_MOUSE.pickle', 'wb') as handle:\n",
    "    pickle.dump(res_fc, handle, protocol=pickle.HIGHEST_PROTOCOL)\n"
   ]
  },
  {
   "cell_type": "code",
   "execution_count": 17,
   "id": "16dfe08a",
   "metadata": {},
   "outputs": [],
   "source": [
    "### Content../../Zenodo/pickle files\n",
    "# 0 - MSE on all exons neurons\n",
    "# 1 - MSE on all exons glia\n",
    "# 2 - spearman correlation all exons neurons\n",
    "# 3 - spearman correlation all exons glia\n",
    "# 4 - MSE on variable exons neurons\n",
    "# 5 - MSE on variable exons glia\n",
    "# 6 - spearman correlation variable exons neurons\n",
    "# 7 - spearman correlation variable exons glia\n",
    "# 8 - F1 scores (classification problem, higher in neurons or higher in glia)\n",
    "# 9 - true PSI values neurons\n",
    "# 10 - predicted PSI values neurons\n",
    "# 11 - true PSI values glia\n",
    "# 12 - predicted PSi values glia\n",
    "# 13 - indicating which genes are variable genes\n",
    "\n",
    "sp_neur = res_fc[6]\n",
    "sp_glia = res_fc[7]\n",
    "\n",
    "sp_neur.index = [\n",
    "             'DL - all (seq+splice) - with mouse',\n",
    "             'DL - var (seq+splice) - with mouse',]\n",
    "\n",
    "sp_glia.index = [\n",
    "             'DL - all (seq+splice) - with mouse',\n",
    "             'DL - var (seq+splice) - with mouse',]\n",
    "\n",
    "sp_neur = sp_neur.melt(ignore_index=False)\n",
    "sp_neur['Model'] = sp_neur.index\n",
    "sp_neur['Cell type'] = 'Neurons'\n",
    "\n",
    "sp_glia = sp_glia.melt(ignore_index=False)\n",
    "sp_glia['Model'] = sp_glia.index\n",
    "sp_glia['Cell type'] = 'Glia'\n",
    "\n",
    "sp_var = pd.concat((sp_neur, sp_glia))"
   ]
  },
  {
   "cell_type": "code",
   "execution_count": 18,
   "id": "20aca041",
   "metadata": {},
   "outputs": [
    {
     "data": {
      "image/png": "[encoded data removed]",
      "text/plain": [
       "<Figure size 180x144 with 1 Axes>"
      ]
     },
     "metadata": {
      "needs_background": "light"
     },
     "output_type": "display_data"
    }
   ],
   "source": [
    "plt.figure(figsize=(2.5,2))\n",
    "sns.boxplot(data=sp_var, x='value', y='Model', hue='Cell type',\n",
    "            palette=['#9DC3E6', '#F4B68C'],\n",
    "            order=[\n",
    "             'DL - all (seq+splice) - with mouse',\n",
    "             'DL - var (seq+splice) - with mouse'])\n",
    "sns.despine()\n",
    "plt.xlabel('Spearman correlation')\n",
    "plt.ylabel('')\n",
    "plt.legend(bbox_to_anchor=(1.1, 1.05))\n",
    "plt.title('FC - var exons')\n",
    "plt.savefig('../../Evaluate models/Figures/boxplot_FC_mouse.pdf',\n",
    "           bbox_inches='tight')\n",
    "plt.show()"
   ]
  },
  {
   "cell_type": "code",
   "execution_count": null,
   "id": "be49154d",
   "metadata": {},
   "outputs": [],
   "source": []
  }
 ],
 "metadata": {
  "kernelspec": {
   "display_name": "Python 3 (ipykernel)",
   "language": "python",
   "name": "python3"
  },
  "language_info": {
   "codemirror_mode": {
    "name": "ipython",
    "version": 3
   },
   "file_extension": ".py",
   "mimetype": "text/x-python",
   "name": "python",
   "nbconvert_exporter": "python",
   "pygments_lexer": "ipython3",
   "version": "3.8.3"
  }
 },
 "nbformat": 4,
 "nbformat_minor": 5
}
